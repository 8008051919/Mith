{
 "cells": [
  {
   "cell_type": "markdown",
   "metadata": {
    "id": "N1pl_zOF4Kht"
   },
   "source": [
    "#Agenda\n",
    "\n",
    "##To detect fraud for transactions in a payment gateway "
   ]
  },
  {
   "cell_type": "markdown",
   "metadata": {
    "id": "TibIOOzT5N6V"
   },
   "source": [
    "##Business Problem\n",
    "A new disruptive payment gateway start-up, ‘IndAvenue’, has started gaining traction\n",
    "due to its extremely low processing fees for handling online vendors’ digital payments.\n",
    "This strategy has led to very low costs of acquiring new vendors.\n",
    "Due to this,the company was not able to build a fast and robust fraud detection system.\n",
    "The company’s data engineers curated a dataset that they believe follows the real world distribution of transactions on their payment gateway. The company hired Insofe and provided it with the dataset, to create a fast and robust AI based model that can detect and prevent fraudulent transactions on its payment gateway.\n",
    "\n"
   ]
  },
  {
   "cell_type": "markdown",
   "metadata": {
    "id": "5llI1BTX7Dkm"
   },
   "source": [
    "##Importing the necessary Libraries"
   ]
  },
  {
   "cell_type": "code",
   "execution_count": 7,
   "metadata": {
    "id": "X-KxzC_66PAU"
   },
   "outputs": [],
   "source": [
    "import numpy as np\n",
    "import pandas as pd\n",
    "import matplotlib.pyplot as plt"
   ]
  },
  {
   "cell_type": "markdown",
   "metadata": {
    "id": "ntLujZTH7ode"
   },
   "source": [
    "##Loading and Reading the Data"
   ]
  },
  {
   "cell_type": "code",
   "execution_count": 8,
   "metadata": {
    "id": "BPGw_z4X7guj"
   },
   "outputs": [],
   "source": [
    "d1=pd.read_csv(\"train_data-1611220940820.csv\",na_values=[\"?\",\",\",\"#\"])"
   ]
  },
  {
   "cell_type": "code",
   "execution_count": 9,
   "metadata": {
    "id": "kwanogu8K5-x"
   },
   "outputs": [],
   "source": [
    "d2=pd.read_csv(\"test_data-1611220982388.csv\",na_values=[\"?\",\",\",\"#\"])"
   ]
  },
  {
   "cell_type": "markdown",
   "metadata": {
    "id": "XRWQIbTm8ivq"
   },
   "source": [
    "##Analyze the data\n",
    "\n",
    "*   shape\n",
    "*   head\n",
    "*   tail\n",
    "*   columns\n",
    "*   describe the data\n",
    "*   data types\n"
   ]
  },
  {
   "cell_type": "code",
   "execution_count": 10,
   "metadata": {
    "colab": {
     "base_uri": "https://localhost:8080/"
    },
    "id": "QnMqdq5Q8D2c",
    "outputId": "e0b1d02b-f84c-4bda-b96a-a9840243d294"
   },
   "outputs": [
    {
     "data": {
      "text/plain": [
       "(76529, 11)"
      ]
     },
     "execution_count": 10,
     "metadata": {},
     "output_type": "execute_result"
    }
   ],
   "source": [
    "d1.shape        #prints the no. of rows and columns in the data"
   ]
  },
  {
   "cell_type": "code",
   "execution_count": 11,
   "metadata": {
    "colab": {
     "base_uri": "https://localhost:8080/"
    },
    "id": "LHxZqoOELOyr",
    "outputId": "2d896229-6287-4eb1-9b3f-25ce46949aaa"
   },
   "outputs": [
    {
     "data": {
      "text/plain": [
       "(19133, 10)"
      ]
     },
     "execution_count": 11,
     "metadata": {},
     "output_type": "execute_result"
    }
   ],
   "source": [
    "d2.shape"
   ]
  },
  {
   "cell_type": "code",
   "execution_count": 12,
   "metadata": {
    "colab": {
     "base_uri": "https://localhost:8080/",
     "height": 357
    },
    "id": "vcZfgy3m9ELg",
    "outputId": "45c722ee-046f-4b7c-c545-f9676d235eb9"
   },
   "outputs": [
    {
     "data": {
      "text/html": [
       "<div>\n",
       "<style scoped>\n",
       "    .dataframe tbody tr th:only-of-type {\n",
       "        vertical-align: middle;\n",
       "    }\n",
       "\n",
       "    .dataframe tbody tr th {\n",
       "        vertical-align: top;\n",
       "    }\n",
       "\n",
       "    .dataframe thead th {\n",
       "        text-align: right;\n",
       "    }\n",
       "</style>\n",
       "<table border=\"1\" class=\"dataframe\">\n",
       "  <thead>\n",
       "    <tr style=\"text-align: right;\">\n",
       "      <th></th>\n",
       "      <th>transaction_number</th>\n",
       "      <th>user_id</th>\n",
       "      <th>payment_method</th>\n",
       "      <th>partner_id</th>\n",
       "      <th>partner_category</th>\n",
       "      <th>country</th>\n",
       "      <th>device_type</th>\n",
       "      <th>money_transacted</th>\n",
       "      <th>transaction_initiation</th>\n",
       "      <th>partner_pricing_category</th>\n",
       "      <th>is_fraud</th>\n",
       "    </tr>\n",
       "  </thead>\n",
       "  <tbody>\n",
       "    <tr>\n",
       "      <th>0</th>\n",
       "      <td>144703125000</td>\n",
       "      <td>17539344</td>\n",
       "      <td>sbi_atm_cum_debit_card</td>\n",
       "      <td>47334</td>\n",
       "      <td>cat_1</td>\n",
       "      <td>IND_INR</td>\n",
       "      <td>android_devices</td>\n",
       "      <td>-5.0</td>\n",
       "      <td>2016-11-15 19:16:12+00:00</td>\n",
       "      <td>2</td>\n",
       "      <td>0</td>\n",
       "    </tr>\n",
       "    <tr>\n",
       "      <th>1</th>\n",
       "      <td>77406814453032</td>\n",
       "      <td>24710841</td>\n",
       "      <td>e_wallet_payments</td>\n",
       "      <td>78890</td>\n",
       "      <td>cat_2</td>\n",
       "      <td>IND_INR</td>\n",
       "      <td>other_pcs</td>\n",
       "      <td>100.0</td>\n",
       "      <td>2017-01-11 09:25:33+00:00</td>\n",
       "      <td>2</td>\n",
       "      <td>0</td>\n",
       "    </tr>\n",
       "    <tr>\n",
       "      <th>2</th>\n",
       "      <td>308929485482801</td>\n",
       "      <td>24265476</td>\n",
       "      <td>e_wallet_payments</td>\n",
       "      <td>78890</td>\n",
       "      <td>cat_2</td>\n",
       "      <td>IND_INR</td>\n",
       "      <td>other_pcs</td>\n",
       "      <td>50.0</td>\n",
       "      <td>2016-12-07 07:58:09+00:00</td>\n",
       "      <td>2</td>\n",
       "      <td>0</td>\n",
       "    </tr>\n",
       "    <tr>\n",
       "      <th>3</th>\n",
       "      <td>665270027747073</td>\n",
       "      <td>10240000</td>\n",
       "      <td>other_debit_cards</td>\n",
       "      <td>102557</td>\n",
       "      <td>cat_3</td>\n",
       "      <td>IND_INR</td>\n",
       "      <td>other_pcs</td>\n",
       "      <td>1000.0</td>\n",
       "      <td>2017-01-11 16:15:44+00:00</td>\n",
       "      <td>2</td>\n",
       "      <td>0</td>\n",
       "    </tr>\n",
       "    <tr>\n",
       "      <th>4</th>\n",
       "      <td>38276160171101</td>\n",
       "      <td>5880625</td>\n",
       "      <td>other_debit_cards</td>\n",
       "      <td>118335</td>\n",
       "      <td>cat_1</td>\n",
       "      <td>IND_INR</td>\n",
       "      <td>other_pcs</td>\n",
       "      <td>200.0</td>\n",
       "      <td>2016-11-16 17:04:42+00:00</td>\n",
       "      <td>2</td>\n",
       "      <td>0</td>\n",
       "    </tr>\n",
       "  </tbody>\n",
       "</table>\n",
       "</div>"
      ],
      "text/plain": [
       "   transaction_number   user_id          payment_method  partner_id  \\\n",
       "0        144703125000  17539344  sbi_atm_cum_debit_card       47334   \n",
       "1      77406814453032  24710841       e_wallet_payments       78890   \n",
       "2     308929485482801  24265476       e_wallet_payments       78890   \n",
       "3     665270027747073  10240000       other_debit_cards      102557   \n",
       "4      38276160171101   5880625       other_debit_cards      118335   \n",
       "\n",
       "  partner_category  country      device_type  money_transacted  \\\n",
       "0            cat_1  IND_INR  android_devices              -5.0   \n",
       "1            cat_2  IND_INR        other_pcs             100.0   \n",
       "2            cat_2  IND_INR        other_pcs              50.0   \n",
       "3            cat_3  IND_INR        other_pcs            1000.0   \n",
       "4            cat_1  IND_INR        other_pcs             200.0   \n",
       "\n",
       "      transaction_initiation  partner_pricing_category  is_fraud  \n",
       "0  2016-11-15 19:16:12+00:00                         2         0  \n",
       "1  2017-01-11 09:25:33+00:00                         2         0  \n",
       "2  2016-12-07 07:58:09+00:00                         2         0  \n",
       "3  2017-01-11 16:15:44+00:00                         2         0  \n",
       "4  2016-11-16 17:04:42+00:00                         2         0  "
      ]
     },
     "execution_count": 12,
     "metadata": {},
     "output_type": "execute_result"
    }
   ],
   "source": [
    "d1.head()         #prints the top 5 rows of data"
   ]
  },
  {
   "cell_type": "code",
   "execution_count": 13,
   "metadata": {
    "colab": {
     "base_uri": "https://localhost:8080/",
     "height": 357
    },
    "id": "MgFEi488Ljbs",
    "outputId": "9254411e-24c2-466e-8904-ad6bfb94e17b"
   },
   "outputs": [
    {
     "data": {
      "text/html": [
       "<div>\n",
       "<style scoped>\n",
       "    .dataframe tbody tr th:only-of-type {\n",
       "        vertical-align: middle;\n",
       "    }\n",
       "\n",
       "    .dataframe tbody tr th {\n",
       "        vertical-align: top;\n",
       "    }\n",
       "\n",
       "    .dataframe thead th {\n",
       "        text-align: right;\n",
       "    }\n",
       "</style>\n",
       "<table border=\"1\" class=\"dataframe\">\n",
       "  <thead>\n",
       "    <tr style=\"text-align: right;\">\n",
       "      <th></th>\n",
       "      <th>transaction_number</th>\n",
       "      <th>user_id</th>\n",
       "      <th>payment_method</th>\n",
       "      <th>partner_id</th>\n",
       "      <th>partner_category</th>\n",
       "      <th>country</th>\n",
       "      <th>device_type</th>\n",
       "      <th>money_transacted</th>\n",
       "      <th>transaction_initiation</th>\n",
       "      <th>partner_pricing_category</th>\n",
       "    </tr>\n",
       "  </thead>\n",
       "  <tbody>\n",
       "    <tr>\n",
       "      <th>0</th>\n",
       "      <td>857050141038272</td>\n",
       "      <td>3802500</td>\n",
       "      <td>visa_master_debit_cards</td>\n",
       "      <td>118335</td>\n",
       "      <td>cat_1</td>\n",
       "      <td>IND_INR</td>\n",
       "      <td>other_pcs</td>\n",
       "      <td>200.0</td>\n",
       "      <td>2016-12-28 14:44:37+00:00</td>\n",
       "      <td>2</td>\n",
       "    </tr>\n",
       "    <tr>\n",
       "      <th>1</th>\n",
       "      <td>4400462872603</td>\n",
       "      <td>200704</td>\n",
       "      <td>e_wallet_payments</td>\n",
       "      <td>23667</td>\n",
       "      <td>cat_2</td>\n",
       "      <td>IND_INR</td>\n",
       "      <td>other_pcs</td>\n",
       "      <td>20.0</td>\n",
       "      <td>2016-12-14 17:49:48+00:00</td>\n",
       "      <td>2</td>\n",
       "    </tr>\n",
       "    <tr>\n",
       "      <th>2</th>\n",
       "      <td>1207915598569499</td>\n",
       "      <td>25150225</td>\n",
       "      <td>sbi_atm_cum_debit_card</td>\n",
       "      <td>47334</td>\n",
       "      <td>cat_1</td>\n",
       "      <td>IND_INR</td>\n",
       "      <td>android_devices</td>\n",
       "      <td>-100.0</td>\n",
       "      <td>2017-01-21 10:18:11+00:00</td>\n",
       "      <td>2</td>\n",
       "    </tr>\n",
       "    <tr>\n",
       "      <th>3</th>\n",
       "      <td>2009725616777536</td>\n",
       "      <td>21827584</td>\n",
       "      <td>visa_master_credit_cards</td>\n",
       "      <td>78890</td>\n",
       "      <td>cat_2</td>\n",
       "      <td>IND_INR</td>\n",
       "      <td>other_pcs</td>\n",
       "      <td>200.0</td>\n",
       "      <td>2017-01-16 13:25:10+00:00</td>\n",
       "      <td>1</td>\n",
       "    </tr>\n",
       "    <tr>\n",
       "      <th>4</th>\n",
       "      <td>2319205210274863</td>\n",
       "      <td>576081</td>\n",
       "      <td>e_wallet_payments</td>\n",
       "      <td>23667</td>\n",
       "      <td>cat_2</td>\n",
       "      <td>IND_INR</td>\n",
       "      <td>other_pcs</td>\n",
       "      <td>100.0</td>\n",
       "      <td>2017-02-09 12:47:28+00:00</td>\n",
       "      <td>2</td>\n",
       "    </tr>\n",
       "  </tbody>\n",
       "</table>\n",
       "</div>"
      ],
      "text/plain": [
       "   transaction_number   user_id            payment_method  partner_id  \\\n",
       "0     857050141038272   3802500   visa_master_debit_cards      118335   \n",
       "1       4400462872603    200704         e_wallet_payments       23667   \n",
       "2    1207915598569499  25150225    sbi_atm_cum_debit_card       47334   \n",
       "3    2009725616777536  21827584  visa_master_credit_cards       78890   \n",
       "4    2319205210274863    576081         e_wallet_payments       23667   \n",
       "\n",
       "  partner_category  country      device_type  money_transacted  \\\n",
       "0            cat_1  IND_INR        other_pcs             200.0   \n",
       "1            cat_2  IND_INR        other_pcs              20.0   \n",
       "2            cat_1  IND_INR  android_devices            -100.0   \n",
       "3            cat_2  IND_INR        other_pcs             200.0   \n",
       "4            cat_2  IND_INR        other_pcs             100.0   \n",
       "\n",
       "      transaction_initiation  partner_pricing_category  \n",
       "0  2016-12-28 14:44:37+00:00                         2  \n",
       "1  2016-12-14 17:49:48+00:00                         2  \n",
       "2  2017-01-21 10:18:11+00:00                         2  \n",
       "3  2017-01-16 13:25:10+00:00                         1  \n",
       "4  2017-02-09 12:47:28+00:00                         2  "
      ]
     },
     "execution_count": 13,
     "metadata": {},
     "output_type": "execute_result"
    }
   ],
   "source": [
    "d2.head()"
   ]
  },
  {
   "cell_type": "code",
   "execution_count": 14,
   "metadata": {
    "colab": {
     "base_uri": "https://localhost:8080/",
     "height": 340
    },
    "id": "oBVpQvIc9jVy",
    "outputId": "eea98c2d-15b1-42cf-c712-b4ea663fa48a"
   },
   "outputs": [
    {
     "data": {
      "text/html": [
       "<div>\n",
       "<style scoped>\n",
       "    .dataframe tbody tr th:only-of-type {\n",
       "        vertical-align: middle;\n",
       "    }\n",
       "\n",
       "    .dataframe tbody tr th {\n",
       "        vertical-align: top;\n",
       "    }\n",
       "\n",
       "    .dataframe thead th {\n",
       "        text-align: right;\n",
       "    }\n",
       "</style>\n",
       "<table border=\"1\" class=\"dataframe\">\n",
       "  <thead>\n",
       "    <tr style=\"text-align: right;\">\n",
       "      <th></th>\n",
       "      <th>transaction_number</th>\n",
       "      <th>user_id</th>\n",
       "      <th>payment_method</th>\n",
       "      <th>partner_id</th>\n",
       "      <th>partner_category</th>\n",
       "      <th>country</th>\n",
       "      <th>device_type</th>\n",
       "      <th>money_transacted</th>\n",
       "      <th>transaction_initiation</th>\n",
       "      <th>partner_pricing_category</th>\n",
       "      <th>is_fraud</th>\n",
       "    </tr>\n",
       "  </thead>\n",
       "  <tbody>\n",
       "    <tr>\n",
       "      <th>76524</th>\n",
       "      <td>179759462245453</td>\n",
       "      <td>19686969</td>\n",
       "      <td>sbi_atm_cum_debit_card</td>\n",
       "      <td>47334</td>\n",
       "      <td>cat_1</td>\n",
       "      <td>IND_INR</td>\n",
       "      <td>android_devices</td>\n",
       "      <td>-100.0</td>\n",
       "      <td>2016-11-30 13:40:45+00:00</td>\n",
       "      <td>2</td>\n",
       "      <td>0</td>\n",
       "    </tr>\n",
       "    <tr>\n",
       "      <th>76525</th>\n",
       "      <td>2693567760244353</td>\n",
       "      <td>11662225</td>\n",
       "      <td>visa_master_debit_cards</td>\n",
       "      <td>118335</td>\n",
       "      <td>cat_1</td>\n",
       "      <td>IND_INR</td>\n",
       "      <td>other_pcs</td>\n",
       "      <td>200.0</td>\n",
       "      <td>2017-01-08 08:35:31+00:00</td>\n",
       "      <td>2</td>\n",
       "      <td>0</td>\n",
       "    </tr>\n",
       "    <tr>\n",
       "      <th>76526</th>\n",
       "      <td>119750257089000</td>\n",
       "      <td>374544</td>\n",
       "      <td>sbi_atm_cum_debit_card</td>\n",
       "      <td>47334</td>\n",
       "      <td>cat_1</td>\n",
       "      <td>IND_INR</td>\n",
       "      <td>android_devices</td>\n",
       "      <td>-3.5</td>\n",
       "      <td>2016-12-26 21:47:08+00:00</td>\n",
       "      <td>2</td>\n",
       "      <td>0</td>\n",
       "    </tr>\n",
       "    <tr>\n",
       "      <th>76527</th>\n",
       "      <td>1949798765017089</td>\n",
       "      <td>1687401</td>\n",
       "      <td>sbi_atm_cum_debit_card</td>\n",
       "      <td>47334</td>\n",
       "      <td>cat_1</td>\n",
       "      <td>IND_INR</td>\n",
       "      <td>android_devices</td>\n",
       "      <td>-20.0</td>\n",
       "      <td>2016-12-11 13:44:06+00:00</td>\n",
       "      <td>2</td>\n",
       "      <td>0</td>\n",
       "    </tr>\n",
       "    <tr>\n",
       "      <th>76528</th>\n",
       "      <td>1051344513778987</td>\n",
       "      <td>6754801</td>\n",
       "      <td>sbi_atm_cum_debit_card</td>\n",
       "      <td>47334</td>\n",
       "      <td>cat_1</td>\n",
       "      <td>IND_INR</td>\n",
       "      <td>android_devices</td>\n",
       "      <td>-100.0</td>\n",
       "      <td>2017-01-11 19:08:18+00:00</td>\n",
       "      <td>2</td>\n",
       "      <td>0</td>\n",
       "    </tr>\n",
       "  </tbody>\n",
       "</table>\n",
       "</div>"
      ],
      "text/plain": [
       "       transaction_number   user_id           payment_method  partner_id  \\\n",
       "76524     179759462245453  19686969   sbi_atm_cum_debit_card       47334   \n",
       "76525    2693567760244353  11662225  visa_master_debit_cards      118335   \n",
       "76526     119750257089000    374544   sbi_atm_cum_debit_card       47334   \n",
       "76527    1949798765017089   1687401   sbi_atm_cum_debit_card       47334   \n",
       "76528    1051344513778987   6754801   sbi_atm_cum_debit_card       47334   \n",
       "\n",
       "      partner_category  country      device_type  money_transacted  \\\n",
       "76524            cat_1  IND_INR  android_devices            -100.0   \n",
       "76525            cat_1  IND_INR        other_pcs             200.0   \n",
       "76526            cat_1  IND_INR  android_devices              -3.5   \n",
       "76527            cat_1  IND_INR  android_devices             -20.0   \n",
       "76528            cat_1  IND_INR  android_devices            -100.0   \n",
       "\n",
       "          transaction_initiation  partner_pricing_category  is_fraud  \n",
       "76524  2016-11-30 13:40:45+00:00                         2         0  \n",
       "76525  2017-01-08 08:35:31+00:00                         2         0  \n",
       "76526  2016-12-26 21:47:08+00:00                         2         0  \n",
       "76527  2016-12-11 13:44:06+00:00                         2         0  \n",
       "76528  2017-01-11 19:08:18+00:00                         2         0  "
      ]
     },
     "execution_count": 14,
     "metadata": {},
     "output_type": "execute_result"
    }
   ],
   "source": [
    "d1.tail()       #prints the bottom 5 rows of the data"
   ]
  },
  {
   "cell_type": "code",
   "execution_count": 15,
   "metadata": {
    "colab": {
     "base_uri": "https://localhost:8080/",
     "height": 357
    },
    "id": "eYOgA5ppLl8b",
    "outputId": "6d9e48fc-1212-46b1-8822-01667bd544bb"
   },
   "outputs": [
    {
     "data": {
      "text/html": [
       "<div>\n",
       "<style scoped>\n",
       "    .dataframe tbody tr th:only-of-type {\n",
       "        vertical-align: middle;\n",
       "    }\n",
       "\n",
       "    .dataframe tbody tr th {\n",
       "        vertical-align: top;\n",
       "    }\n",
       "\n",
       "    .dataframe thead th {\n",
       "        text-align: right;\n",
       "    }\n",
       "</style>\n",
       "<table border=\"1\" class=\"dataframe\">\n",
       "  <thead>\n",
       "    <tr style=\"text-align: right;\">\n",
       "      <th></th>\n",
       "      <th>transaction_number</th>\n",
       "      <th>user_id</th>\n",
       "      <th>payment_method</th>\n",
       "      <th>partner_id</th>\n",
       "      <th>partner_category</th>\n",
       "      <th>country</th>\n",
       "      <th>device_type</th>\n",
       "      <th>money_transacted</th>\n",
       "      <th>transaction_initiation</th>\n",
       "      <th>partner_pricing_category</th>\n",
       "    </tr>\n",
       "  </thead>\n",
       "  <tbody>\n",
       "    <tr>\n",
       "      <th>19128</th>\n",
       "      <td>5332775378111</td>\n",
       "      <td>13235044</td>\n",
       "      <td>e_wallet_payments</td>\n",
       "      <td>23667</td>\n",
       "      <td>cat_2</td>\n",
       "      <td>IND_INR</td>\n",
       "      <td>other_pcs</td>\n",
       "      <td>20.0</td>\n",
       "      <td>2017-01-01 13:02:16+00:00</td>\n",
       "      <td>2</td>\n",
       "    </tr>\n",
       "    <tr>\n",
       "      <th>19129</th>\n",
       "      <td>939262915465237</td>\n",
       "      <td>12257001</td>\n",
       "      <td>e_wallet_payments</td>\n",
       "      <td>78890</td>\n",
       "      <td>cat_2</td>\n",
       "      <td>IND_INR</td>\n",
       "      <td>other_pcs</td>\n",
       "      <td>30.0</td>\n",
       "      <td>2016-12-26 19:41:23+00:00</td>\n",
       "      <td>2</td>\n",
       "    </tr>\n",
       "    <tr>\n",
       "      <th>19130</th>\n",
       "      <td>18324574916544</td>\n",
       "      <td>5958481</td>\n",
       "      <td>visa_master_debit_cards</td>\n",
       "      <td>23667</td>\n",
       "      <td>cat_2</td>\n",
       "      <td>IND_INR</td>\n",
       "      <td>other_pcs</td>\n",
       "      <td>20.0</td>\n",
       "      <td>2016-12-24 04:29:06+00:00</td>\n",
       "      <td>4</td>\n",
       "    </tr>\n",
       "    <tr>\n",
       "      <th>19131</th>\n",
       "      <td>893473728055875</td>\n",
       "      <td>53919649</td>\n",
       "      <td>sbi_atm_cum_debit_card</td>\n",
       "      <td>78890</td>\n",
       "      <td>cat_2</td>\n",
       "      <td>IND_INR</td>\n",
       "      <td>android_devices</td>\n",
       "      <td>-500.0</td>\n",
       "      <td>2016-12-04 15:38:47+00:00</td>\n",
       "      <td>4</td>\n",
       "    </tr>\n",
       "    <tr>\n",
       "      <th>19132</th>\n",
       "      <td>84390778936647</td>\n",
       "      <td>14500864</td>\n",
       "      <td>e_wallet_payments</td>\n",
       "      <td>78890</td>\n",
       "      <td>cat_2</td>\n",
       "      <td>IND_INR</td>\n",
       "      <td>other_pcs</td>\n",
       "      <td>40.0</td>\n",
       "      <td>2017-01-12 21:24:24+00:00</td>\n",
       "      <td>2</td>\n",
       "    </tr>\n",
       "  </tbody>\n",
       "</table>\n",
       "</div>"
      ],
      "text/plain": [
       "       transaction_number   user_id           payment_method  partner_id  \\\n",
       "19128       5332775378111  13235044        e_wallet_payments       23667   \n",
       "19129     939262915465237  12257001        e_wallet_payments       78890   \n",
       "19130      18324574916544   5958481  visa_master_debit_cards       23667   \n",
       "19131     893473728055875  53919649   sbi_atm_cum_debit_card       78890   \n",
       "19132      84390778936647  14500864        e_wallet_payments       78890   \n",
       "\n",
       "      partner_category  country      device_type  money_transacted  \\\n",
       "19128            cat_2  IND_INR        other_pcs              20.0   \n",
       "19129            cat_2  IND_INR        other_pcs              30.0   \n",
       "19130            cat_2  IND_INR        other_pcs              20.0   \n",
       "19131            cat_2  IND_INR  android_devices            -500.0   \n",
       "19132            cat_2  IND_INR        other_pcs              40.0   \n",
       "\n",
       "          transaction_initiation  partner_pricing_category  \n",
       "19128  2017-01-01 13:02:16+00:00                         2  \n",
       "19129  2016-12-26 19:41:23+00:00                         2  \n",
       "19130  2016-12-24 04:29:06+00:00                         4  \n",
       "19131  2016-12-04 15:38:47+00:00                         4  \n",
       "19132  2017-01-12 21:24:24+00:00                         2  "
      ]
     },
     "execution_count": 15,
     "metadata": {},
     "output_type": "execute_result"
    }
   ],
   "source": [
    "d2.tail()"
   ]
  },
  {
   "cell_type": "code",
   "execution_count": 16,
   "metadata": {
    "colab": {
     "base_uri": "https://localhost:8080/"
    },
    "id": "GC2W6jdg9pnp",
    "outputId": "b092f0c7-671f-4c23-c07c-63c73231bbf1"
   },
   "outputs": [
    {
     "data": {
      "text/plain": [
       "Index(['transaction_number', 'user_id', 'payment_method', 'partner_id',\n",
       "       'partner_category', 'country', 'device_type', 'money_transacted',\n",
       "       'transaction_initiation', 'partner_pricing_category', 'is_fraud'],\n",
       "      dtype='object')"
      ]
     },
     "execution_count": 16,
     "metadata": {},
     "output_type": "execute_result"
    }
   ],
   "source": [
    "d1.columns              #prints the column names available in the data"
   ]
  },
  {
   "cell_type": "code",
   "execution_count": 17,
   "metadata": {
    "colab": {
     "base_uri": "https://localhost:8080/"
    },
    "id": "bDRsto_fLotG",
    "outputId": "3d40dbf8-e547-41ac-de5d-188e73b76882"
   },
   "outputs": [
    {
     "data": {
      "text/plain": [
       "Index(['transaction_number', 'user_id', 'payment_method', 'partner_id',\n",
       "       'partner_category', 'country', 'device_type', 'money_transacted',\n",
       "       'transaction_initiation', 'partner_pricing_category'],\n",
       "      dtype='object')"
      ]
     },
     "execution_count": 17,
     "metadata": {},
     "output_type": "execute_result"
    }
   ],
   "source": [
    "d2.columns"
   ]
  },
  {
   "cell_type": "code",
   "execution_count": 18,
   "metadata": {
    "colab": {
     "base_uri": "https://localhost:8080/",
     "height": 476
    },
    "id": "qn31Pgbl92XW",
    "outputId": "b9643388-1b80-4d9a-c2d2-aeaac9d77788"
   },
   "outputs": [
    {
     "data": {
      "text/html": [
       "<div>\n",
       "<style scoped>\n",
       "    .dataframe tbody tr th:only-of-type {\n",
       "        vertical-align: middle;\n",
       "    }\n",
       "\n",
       "    .dataframe tbody tr th {\n",
       "        vertical-align: top;\n",
       "    }\n",
       "\n",
       "    .dataframe thead th {\n",
       "        text-align: right;\n",
       "    }\n",
       "</style>\n",
       "<table border=\"1\" class=\"dataframe\">\n",
       "  <thead>\n",
       "    <tr style=\"text-align: right;\">\n",
       "      <th></th>\n",
       "      <th>transaction_number</th>\n",
       "      <th>user_id</th>\n",
       "      <th>payment_method</th>\n",
       "      <th>partner_id</th>\n",
       "      <th>partner_category</th>\n",
       "      <th>country</th>\n",
       "      <th>device_type</th>\n",
       "      <th>money_transacted</th>\n",
       "      <th>transaction_initiation</th>\n",
       "      <th>partner_pricing_category</th>\n",
       "      <th>is_fraud</th>\n",
       "    </tr>\n",
       "  </thead>\n",
       "  <tbody>\n",
       "    <tr>\n",
       "      <th>count</th>\n",
       "      <td>7.652900e+04</td>\n",
       "      <td>7.652900e+04</td>\n",
       "      <td>76529</td>\n",
       "      <td>76529.000000</td>\n",
       "      <td>76529</td>\n",
       "      <td>76529</td>\n",
       "      <td>76529</td>\n",
       "      <td>76529.000000</td>\n",
       "      <td>76529</td>\n",
       "      <td>76529.000000</td>\n",
       "      <td>76529.000000</td>\n",
       "    </tr>\n",
       "    <tr>\n",
       "      <th>unique</th>\n",
       "      <td>NaN</td>\n",
       "      <td>NaN</td>\n",
       "      <td>6</td>\n",
       "      <td>NaN</td>\n",
       "      <td>9</td>\n",
       "      <td>1</td>\n",
       "      <td>4</td>\n",
       "      <td>NaN</td>\n",
       "      <td>75811</td>\n",
       "      <td>NaN</td>\n",
       "      <td>NaN</td>\n",
       "    </tr>\n",
       "    <tr>\n",
       "      <th>top</th>\n",
       "      <td>NaN</td>\n",
       "      <td>NaN</td>\n",
       "      <td>sbi_atm_cum_debit_card</td>\n",
       "      <td>NaN</td>\n",
       "      <td>cat_1</td>\n",
       "      <td>IND_INR</td>\n",
       "      <td>other_pcs</td>\n",
       "      <td>NaN</td>\n",
       "      <td>2016-12-24 16:30:13+00:00</td>\n",
       "      <td>NaN</td>\n",
       "      <td>NaN</td>\n",
       "    </tr>\n",
       "    <tr>\n",
       "      <th>freq</th>\n",
       "      <td>NaN</td>\n",
       "      <td>NaN</td>\n",
       "      <td>30538</td>\n",
       "      <td>NaN</td>\n",
       "      <td>36306</td>\n",
       "      <td>76529</td>\n",
       "      <td>45560</td>\n",
       "      <td>NaN</td>\n",
       "      <td>12</td>\n",
       "      <td>NaN</td>\n",
       "      <td>NaN</td>\n",
       "    </tr>\n",
       "    <tr>\n",
       "      <th>mean</th>\n",
       "      <td>6.940200e+14</td>\n",
       "      <td>1.247483e+07</td>\n",
       "      <td>NaN</td>\n",
       "      <td>58497.189105</td>\n",
       "      <td>NaN</td>\n",
       "      <td>NaN</td>\n",
       "      <td>NaN</td>\n",
       "      <td>132.724348</td>\n",
       "      <td>NaN</td>\n",
       "      <td>2.255707</td>\n",
       "      <td>0.002012</td>\n",
       "    </tr>\n",
       "    <tr>\n",
       "      <th>std</th>\n",
       "      <td>7.867885e+14</td>\n",
       "      <td>1.205878e+07</td>\n",
       "      <td>NaN</td>\n",
       "      <td>36740.216787</td>\n",
       "      <td>NaN</td>\n",
       "      <td>NaN</td>\n",
       "      <td>NaN</td>\n",
       "      <td>2350.110900</td>\n",
       "      <td>NaN</td>\n",
       "      <td>0.732174</td>\n",
       "      <td>0.044814</td>\n",
       "    </tr>\n",
       "    <tr>\n",
       "      <th>min</th>\n",
       "      <td>8.000000e+00</td>\n",
       "      <td>1.000000e+00</td>\n",
       "      <td>NaN</td>\n",
       "      <td>7889.000000</td>\n",
       "      <td>NaN</td>\n",
       "      <td>NaN</td>\n",
       "      <td>NaN</td>\n",
       "      <td>-20000.000000</td>\n",
       "      <td>NaN</td>\n",
       "      <td>0.000000</td>\n",
       "      <td>0.000000</td>\n",
       "    </tr>\n",
       "    <tr>\n",
       "      <th>25%</th>\n",
       "      <td>4.387866e+13</td>\n",
       "      <td>3.515625e+06</td>\n",
       "      <td>NaN</td>\n",
       "      <td>23667.000000</td>\n",
       "      <td>NaN</td>\n",
       "      <td>NaN</td>\n",
       "      <td>NaN</td>\n",
       "      <td>-1.000000</td>\n",
       "      <td>NaN</td>\n",
       "      <td>2.000000</td>\n",
       "      <td>0.000000</td>\n",
       "    </tr>\n",
       "    <tr>\n",
       "      <th>50%</th>\n",
       "      <td>3.452540e+14</td>\n",
       "      <td>9.753129e+06</td>\n",
       "      <td>NaN</td>\n",
       "      <td>47334.000000</td>\n",
       "      <td>NaN</td>\n",
       "      <td>NaN</td>\n",
       "      <td>NaN</td>\n",
       "      <td>20.000000</td>\n",
       "      <td>NaN</td>\n",
       "      <td>2.000000</td>\n",
       "      <td>0.000000</td>\n",
       "    </tr>\n",
       "    <tr>\n",
       "      <th>75%</th>\n",
       "      <td>1.173440e+15</td>\n",
       "      <td>1.788444e+07</td>\n",
       "      <td>NaN</td>\n",
       "      <td>78890.000000</td>\n",
       "      <td>NaN</td>\n",
       "      <td>NaN</td>\n",
       "      <td>NaN</td>\n",
       "      <td>52.000000</td>\n",
       "      <td>NaN</td>\n",
       "      <td>2.000000</td>\n",
       "      <td>0.000000</td>\n",
       "    </tr>\n",
       "    <tr>\n",
       "      <th>max</th>\n",
       "      <td>2.784238e+15</td>\n",
       "      <td>5.592048e+07</td>\n",
       "      <td>NaN</td>\n",
       "      <td>213003.000000</td>\n",
       "      <td>NaN</td>\n",
       "      <td>NaN</td>\n",
       "      <td>NaN</td>\n",
       "      <td>197217.760000</td>\n",
       "      <td>NaN</td>\n",
       "      <td>4.000000</td>\n",
       "      <td>1.000000</td>\n",
       "    </tr>\n",
       "  </tbody>\n",
       "</table>\n",
       "</div>"
      ],
      "text/plain": [
       "        transaction_number       user_id          payment_method  \\\n",
       "count         7.652900e+04  7.652900e+04                   76529   \n",
       "unique                 NaN           NaN                       6   \n",
       "top                    NaN           NaN  sbi_atm_cum_debit_card   \n",
       "freq                   NaN           NaN                   30538   \n",
       "mean          6.940200e+14  1.247483e+07                     NaN   \n",
       "std           7.867885e+14  1.205878e+07                     NaN   \n",
       "min           8.000000e+00  1.000000e+00                     NaN   \n",
       "25%           4.387866e+13  3.515625e+06                     NaN   \n",
       "50%           3.452540e+14  9.753129e+06                     NaN   \n",
       "75%           1.173440e+15  1.788444e+07                     NaN   \n",
       "max           2.784238e+15  5.592048e+07                     NaN   \n",
       "\n",
       "           partner_id partner_category  country device_type  money_transacted  \\\n",
       "count    76529.000000            76529    76529       76529      76529.000000   \n",
       "unique            NaN                9        1           4               NaN   \n",
       "top               NaN            cat_1  IND_INR   other_pcs               NaN   \n",
       "freq              NaN            36306    76529       45560               NaN   \n",
       "mean     58497.189105              NaN      NaN         NaN        132.724348   \n",
       "std      36740.216787              NaN      NaN         NaN       2350.110900   \n",
       "min       7889.000000              NaN      NaN         NaN     -20000.000000   \n",
       "25%      23667.000000              NaN      NaN         NaN         -1.000000   \n",
       "50%      47334.000000              NaN      NaN         NaN         20.000000   \n",
       "75%      78890.000000              NaN      NaN         NaN         52.000000   \n",
       "max     213003.000000              NaN      NaN         NaN     197217.760000   \n",
       "\n",
       "           transaction_initiation  partner_pricing_category      is_fraud  \n",
       "count                       76529              76529.000000  76529.000000  \n",
       "unique                      75811                       NaN           NaN  \n",
       "top     2016-12-24 16:30:13+00:00                       NaN           NaN  \n",
       "freq                           12                       NaN           NaN  \n",
       "mean                          NaN                  2.255707      0.002012  \n",
       "std                           NaN                  0.732174      0.044814  \n",
       "min                           NaN                  0.000000      0.000000  \n",
       "25%                           NaN                  2.000000      0.000000  \n",
       "50%                           NaN                  2.000000      0.000000  \n",
       "75%                           NaN                  2.000000      0.000000  \n",
       "max                           NaN                  4.000000      1.000000  "
      ]
     },
     "execution_count": 18,
     "metadata": {},
     "output_type": "execute_result"
    }
   ],
   "source": [
    "d1.describe(include=\"all\")        #gives the complete summary of data"
   ]
  },
  {
   "cell_type": "code",
   "execution_count": 19,
   "metadata": {
    "colab": {
     "base_uri": "https://localhost:8080/",
     "height": 476
    },
    "id": "64As-vC_LyJ5",
    "outputId": "a09bffa5-8837-483a-9fe5-382af26134c2"
   },
   "outputs": [
    {
     "data": {
      "text/html": [
       "<div>\n",
       "<style scoped>\n",
       "    .dataframe tbody tr th:only-of-type {\n",
       "        vertical-align: middle;\n",
       "    }\n",
       "\n",
       "    .dataframe tbody tr th {\n",
       "        vertical-align: top;\n",
       "    }\n",
       "\n",
       "    .dataframe thead th {\n",
       "        text-align: right;\n",
       "    }\n",
       "</style>\n",
       "<table border=\"1\" class=\"dataframe\">\n",
       "  <thead>\n",
       "    <tr style=\"text-align: right;\">\n",
       "      <th></th>\n",
       "      <th>transaction_number</th>\n",
       "      <th>user_id</th>\n",
       "      <th>payment_method</th>\n",
       "      <th>partner_id</th>\n",
       "      <th>partner_category</th>\n",
       "      <th>country</th>\n",
       "      <th>device_type</th>\n",
       "      <th>money_transacted</th>\n",
       "      <th>transaction_initiation</th>\n",
       "      <th>partner_pricing_category</th>\n",
       "    </tr>\n",
       "  </thead>\n",
       "  <tbody>\n",
       "    <tr>\n",
       "      <th>count</th>\n",
       "      <td>1.913300e+04</td>\n",
       "      <td>1.913300e+04</td>\n",
       "      <td>19133</td>\n",
       "      <td>19133.000000</td>\n",
       "      <td>19133</td>\n",
       "      <td>19133</td>\n",
       "      <td>19133</td>\n",
       "      <td>19133.000000</td>\n",
       "      <td>19133</td>\n",
       "      <td>19133.000000</td>\n",
       "    </tr>\n",
       "    <tr>\n",
       "      <th>unique</th>\n",
       "      <td>NaN</td>\n",
       "      <td>NaN</td>\n",
       "      <td>6</td>\n",
       "      <td>NaN</td>\n",
       "      <td>8</td>\n",
       "      <td>1</td>\n",
       "      <td>4</td>\n",
       "      <td>NaN</td>\n",
       "      <td>19090</td>\n",
       "      <td>NaN</td>\n",
       "    </tr>\n",
       "    <tr>\n",
       "      <th>top</th>\n",
       "      <td>NaN</td>\n",
       "      <td>NaN</td>\n",
       "      <td>sbi_atm_cum_debit_card</td>\n",
       "      <td>NaN</td>\n",
       "      <td>cat_1</td>\n",
       "      <td>IND_INR</td>\n",
       "      <td>other_pcs</td>\n",
       "      <td>NaN</td>\n",
       "      <td>2016-12-24 16:30:13+00:00</td>\n",
       "      <td>NaN</td>\n",
       "    </tr>\n",
       "    <tr>\n",
       "      <th>freq</th>\n",
       "      <td>NaN</td>\n",
       "      <td>NaN</td>\n",
       "      <td>7651</td>\n",
       "      <td>NaN</td>\n",
       "      <td>9099</td>\n",
       "      <td>19133</td>\n",
       "      <td>11375</td>\n",
       "      <td>NaN</td>\n",
       "      <td>5</td>\n",
       "      <td>NaN</td>\n",
       "    </tr>\n",
       "    <tr>\n",
       "      <th>mean</th>\n",
       "      <td>7.037622e+14</td>\n",
       "      <td>1.261609e+07</td>\n",
       "      <td>NaN</td>\n",
       "      <td>58656.424084</td>\n",
       "      <td>NaN</td>\n",
       "      <td>NaN</td>\n",
       "      <td>NaN</td>\n",
       "      <td>140.886995</td>\n",
       "      <td>NaN</td>\n",
       "      <td>2.257043</td>\n",
       "    </tr>\n",
       "    <tr>\n",
       "      <th>std</th>\n",
       "      <td>7.946458e+14</td>\n",
       "      <td>1.228365e+07</td>\n",
       "      <td>NaN</td>\n",
       "      <td>36692.507399</td>\n",
       "      <td>NaN</td>\n",
       "      <td>NaN</td>\n",
       "      <td>NaN</td>\n",
       "      <td>2883.975048</td>\n",
       "      <td>NaN</td>\n",
       "      <td>0.735934</td>\n",
       "    </tr>\n",
       "    <tr>\n",
       "      <th>min</th>\n",
       "      <td>1.000000e+00</td>\n",
       "      <td>3.600000e+01</td>\n",
       "      <td>NaN</td>\n",
       "      <td>7889.000000</td>\n",
       "      <td>NaN</td>\n",
       "      <td>NaN</td>\n",
       "      <td>NaN</td>\n",
       "      <td>-20000.000000</td>\n",
       "      <td>NaN</td>\n",
       "      <td>0.000000</td>\n",
       "    </tr>\n",
       "    <tr>\n",
       "      <th>25%</th>\n",
       "      <td>4.313645e+13</td>\n",
       "      <td>3.515625e+06</td>\n",
       "      <td>NaN</td>\n",
       "      <td>23667.000000</td>\n",
       "      <td>NaN</td>\n",
       "      <td>NaN</td>\n",
       "      <td>NaN</td>\n",
       "      <td>-1.000000</td>\n",
       "      <td>NaN</td>\n",
       "      <td>2.000000</td>\n",
       "    </tr>\n",
       "    <tr>\n",
       "      <th>50%</th>\n",
       "      <td>3.585617e+14</td>\n",
       "      <td>9.922500e+06</td>\n",
       "      <td>NaN</td>\n",
       "      <td>47334.000000</td>\n",
       "      <td>NaN</td>\n",
       "      <td>NaN</td>\n",
       "      <td>NaN</td>\n",
       "      <td>20.000000</td>\n",
       "      <td>NaN</td>\n",
       "      <td>2.000000</td>\n",
       "    </tr>\n",
       "    <tr>\n",
       "      <th>75%</th>\n",
       "      <td>1.184018e+15</td>\n",
       "      <td>1.796064e+07</td>\n",
       "      <td>NaN</td>\n",
       "      <td>78890.000000</td>\n",
       "      <td>NaN</td>\n",
       "      <td>NaN</td>\n",
       "      <td>NaN</td>\n",
       "      <td>60.000000</td>\n",
       "      <td>NaN</td>\n",
       "      <td>2.000000</td>\n",
       "    </tr>\n",
       "    <tr>\n",
       "      <th>max</th>\n",
       "      <td>2.783822e+15</td>\n",
       "      <td>5.593544e+07</td>\n",
       "      <td>NaN</td>\n",
       "      <td>213003.000000</td>\n",
       "      <td>NaN</td>\n",
       "      <td>NaN</td>\n",
       "      <td>NaN</td>\n",
       "      <td>197600.000000</td>\n",
       "      <td>NaN</td>\n",
       "      <td>4.000000</td>\n",
       "    </tr>\n",
       "  </tbody>\n",
       "</table>\n",
       "</div>"
      ],
      "text/plain": [
       "        transaction_number       user_id          payment_method  \\\n",
       "count         1.913300e+04  1.913300e+04                   19133   \n",
       "unique                 NaN           NaN                       6   \n",
       "top                    NaN           NaN  sbi_atm_cum_debit_card   \n",
       "freq                   NaN           NaN                    7651   \n",
       "mean          7.037622e+14  1.261609e+07                     NaN   \n",
       "std           7.946458e+14  1.228365e+07                     NaN   \n",
       "min           1.000000e+00  3.600000e+01                     NaN   \n",
       "25%           4.313645e+13  3.515625e+06                     NaN   \n",
       "50%           3.585617e+14  9.922500e+06                     NaN   \n",
       "75%           1.184018e+15  1.796064e+07                     NaN   \n",
       "max           2.783822e+15  5.593544e+07                     NaN   \n",
       "\n",
       "           partner_id partner_category  country device_type  money_transacted  \\\n",
       "count    19133.000000            19133    19133       19133      19133.000000   \n",
       "unique            NaN                8        1           4               NaN   \n",
       "top               NaN            cat_1  IND_INR   other_pcs               NaN   \n",
       "freq              NaN             9099    19133       11375               NaN   \n",
       "mean     58656.424084              NaN      NaN         NaN        140.886995   \n",
       "std      36692.507399              NaN      NaN         NaN       2883.975048   \n",
       "min       7889.000000              NaN      NaN         NaN     -20000.000000   \n",
       "25%      23667.000000              NaN      NaN         NaN         -1.000000   \n",
       "50%      47334.000000              NaN      NaN         NaN         20.000000   \n",
       "75%      78890.000000              NaN      NaN         NaN         60.000000   \n",
       "max     213003.000000              NaN      NaN         NaN     197600.000000   \n",
       "\n",
       "           transaction_initiation  partner_pricing_category  \n",
       "count                       19133              19133.000000  \n",
       "unique                      19090                       NaN  \n",
       "top     2016-12-24 16:30:13+00:00                       NaN  \n",
       "freq                            5                       NaN  \n",
       "mean                          NaN                  2.257043  \n",
       "std                           NaN                  0.735934  \n",
       "min                           NaN                  0.000000  \n",
       "25%                           NaN                  2.000000  \n",
       "50%                           NaN                  2.000000  \n",
       "75%                           NaN                  2.000000  \n",
       "max                           NaN                  4.000000  "
      ]
     },
     "execution_count": 19,
     "metadata": {},
     "output_type": "execute_result"
    }
   ],
   "source": [
    "d2.describe(include=\"all\")"
   ]
  },
  {
   "cell_type": "code",
   "execution_count": 20,
   "metadata": {
    "colab": {
     "base_uri": "https://localhost:8080/"
    },
    "id": "VyVie1m9_ccm",
    "outputId": "a96c3ff1-2c22-4c56-f6f1-fbeaf31a3719"
   },
   "outputs": [
    {
     "data": {
      "text/plain": [
       "transaction_number            int64\n",
       "user_id                       int64\n",
       "payment_method               object\n",
       "partner_id                    int64\n",
       "partner_category             object\n",
       "country                      object\n",
       "device_type                  object\n",
       "money_transacted            float64\n",
       "transaction_initiation       object\n",
       "partner_pricing_category      int64\n",
       "is_fraud                      int64\n",
       "dtype: object"
      ]
     },
     "execution_count": 20,
     "metadata": {},
     "output_type": "execute_result"
    }
   ],
   "source": [
    "d1.dtypes             #print the data types of all attributes"
   ]
  },
  {
   "cell_type": "code",
   "execution_count": 21,
   "metadata": {
    "colab": {
     "base_uri": "https://localhost:8080/"
    },
    "id": "tCU3Zw_LL1h4",
    "outputId": "e79902fd-e887-44f3-8fea-f3cdee2e6ad4"
   },
   "outputs": [
    {
     "data": {
      "text/plain": [
       "transaction_number            int64\n",
       "user_id                       int64\n",
       "payment_method               object\n",
       "partner_id                    int64\n",
       "partner_category             object\n",
       "country                      object\n",
       "device_type                  object\n",
       "money_transacted            float64\n",
       "transaction_initiation       object\n",
       "partner_pricing_category      int64\n",
       "dtype: object"
      ]
     },
     "execution_count": 21,
     "metadata": {},
     "output_type": "execute_result"
    }
   ],
   "source": [
    "d2.dtypes"
   ]
  },
  {
   "cell_type": "markdown",
   "metadata": {
    "id": "MNs9p-vM-6zc"
   },
   "source": [
    "##Exploratory Data Analysis\n",
    "*Histogram Plot\n",
    "\n",
    "*Density Plot\n",
    "\n",
    "*Box Plot"
   ]
  },
  {
   "cell_type": "code",
   "execution_count": 22,
   "metadata": {
    "colab": {
     "base_uri": "https://localhost:8080/",
     "height": 622
    },
    "id": "n8ENFjzo-eOP",
    "outputId": "9a0befa8-cf9d-4473-b459-38435aef1b59"
   },
   "outputs": [
    {
     "data": {
      "text/plain": [
       "<AxesSubplot:ylabel='Frequency'>"
      ]
     },
     "execution_count": 22,
     "metadata": {},
     "output_type": "execute_result"
    },
    {
     "data": {
      "image/png": "[encoded data removed]",
      "text/plain": [
       "<Figure size 720x720 with 1 Axes>"
      ]
     },
     "metadata": {
      "needs_background": "light"
     },
     "output_type": "display_data"
    }
   ],
   "source": [
    "from matplotlib.pyplot import subplots\n",
    "d1.plot(kind='hist',sharex=False,sharey=False,layout=(3,3),figsize=(10,10))"
   ]
  },
  {
   "cell_type": "code",
   "execution_count": 23,
   "metadata": {
    "colab": {
     "base_uri": "https://localhost:8080/",
     "height": 623
    },
    "id": "RwawgZJ4MZRD",
    "outputId": "9fbe6fdb-2407-4c57-ca55-585d8e570087"
   },
   "outputs": [
    {
     "data": {
      "text/plain": [
       "<AxesSubplot:ylabel='Frequency'>"
      ]
     },
     "execution_count": 23,
     "metadata": {},
     "output_type": "execute_result"
    },
    {
     "data": {
      "image/png": "[encoded data removed]",
      "text/plain": [
       "<Figure size 720x720 with 1 Axes>"
      ]
     },
     "metadata": {
      "needs_background": "light"
     },
     "output_type": "display_data"
    }
   ],
   "source": [
    "from matplotlib.pyplot import subplots\n",
    "d2.plot(kind='hist',sharex=False,sharey=False,layout=(3,3),figsize=(10,10))"
   ]
  },
  {
   "cell_type": "code",
   "execution_count": 24,
   "metadata": {
    "colab": {
     "base_uri": "https://localhost:8080/",
     "height": 614
    },
    "id": "EkfWJ4WmAbGq",
    "outputId": "f159d7ce-0806-4605-bfac-02ac2ade3283"
   },
   "outputs": [
    {
     "data": {
      "text/plain": [
       "array([[<AxesSubplot:ylabel='Density'>, <AxesSubplot:ylabel='Density'>,\n",
       "        <AxesSubplot:ylabel='Density'>, <AxesSubplot:ylabel='Density'>],\n",
       "       [<AxesSubplot:ylabel='Density'>, <AxesSubplot:ylabel='Density'>,\n",
       "        <AxesSubplot:ylabel='Density'>, <AxesSubplot:ylabel='Density'>],\n",
       "       [<AxesSubplot:ylabel='Density'>, <AxesSubplot:ylabel='Density'>,\n",
       "        <AxesSubplot:ylabel='Density'>, <AxesSubplot:ylabel='Density'>],\n",
       "       [<AxesSubplot:ylabel='Density'>, <AxesSubplot:ylabel='Density'>,\n",
       "        <AxesSubplot:ylabel='Density'>, <AxesSubplot:ylabel='Density'>]],\n",
       "      dtype=object)"
      ]
     },
     "execution_count": 24,
     "metadata": {},
     "output_type": "execute_result"
    },
    {
     "data": {
      "image/png": "[encoded data removed]",
      "text/plain": [
       "<Figure size 792x720 with 16 Axes>"
      ]
     },
     "metadata": {
      "needs_background": "light"
     },
     "output_type": "display_data"
    }
   ],
   "source": [
    "from matplotlib.pyplot import subplots\n",
    "d1.plot(kind='density',subplots=True,sharex=False,sharey=False,layout=(4,4),figsize=(11,10))"
   ]
  },
  {
   "cell_type": "code",
   "execution_count": 25,
   "metadata": {
    "colab": {
     "base_uri": "https://localhost:8080/",
     "height": 614
    },
    "id": "YR_bxG4TMhsj",
    "outputId": "429bef6d-329c-4b75-e379-2bd4db09d4d6"
   },
   "outputs": [
    {
     "data": {
      "text/plain": [
       "array([[<AxesSubplot:ylabel='Density'>, <AxesSubplot:ylabel='Density'>,\n",
       "        <AxesSubplot:ylabel='Density'>, <AxesSubplot:ylabel='Density'>],\n",
       "       [<AxesSubplot:ylabel='Density'>, <AxesSubplot:ylabel='Density'>,\n",
       "        <AxesSubplot:ylabel='Density'>, <AxesSubplot:ylabel='Density'>],\n",
       "       [<AxesSubplot:ylabel='Density'>, <AxesSubplot:ylabel='Density'>,\n",
       "        <AxesSubplot:ylabel='Density'>, <AxesSubplot:ylabel='Density'>],\n",
       "       [<AxesSubplot:ylabel='Density'>, <AxesSubplot:ylabel='Density'>,\n",
       "        <AxesSubplot:ylabel='Density'>, <AxesSubplot:ylabel='Density'>]],\n",
       "      dtype=object)"
      ]
     },
     "execution_count": 25,
     "metadata": {},
     "output_type": "execute_result"
    },
    {
     "data": {
      "image/png": "[encoded data removed]",
      "text/plain": [
       "<Figure size 792x720 with 16 Axes>"
      ]
     },
     "metadata": {
      "needs_background": "light"
     },
     "output_type": "display_data"
    }
   ],
   "source": [
    "from matplotlib.pyplot import subplots\n",
    "d2.plot(kind='density',subplots=True,sharex=False,sharey=False,layout=(4,4),figsize=(11,10))"
   ]
  },
  {
   "cell_type": "code",
   "execution_count": 26,
   "metadata": {
    "colab": {
     "base_uri": "https://localhost:8080/",
     "height": 442
    },
    "id": "NKEB5X52AwSi",
    "outputId": "a8e2a651-f0d1-4516-dcff-da4d51f9c7c1"
   },
   "outputs": [
    {
     "data": {
      "text/plain": [
       "transaction_number              AxesSubplot(0.125,0.71587;0.168478x0.16413)\n",
       "user_id                      AxesSubplot(0.327174,0.71587;0.168478x0.16413)\n",
       "partner_id                   AxesSubplot(0.529348,0.71587;0.168478x0.16413)\n",
       "money_transacted             AxesSubplot(0.731522,0.71587;0.168478x0.16413)\n",
       "partner_pricing_category       AxesSubplot(0.125,0.518913;0.168478x0.16413)\n",
       "is_fraud                    AxesSubplot(0.327174,0.518913;0.168478x0.16413)\n",
       "dtype: object"
      ]
     },
     "execution_count": 26,
     "metadata": {},
     "output_type": "execute_result"
    },
    {
     "data": {
      "image/png": "[encoded data removed]",
      "text/plain": [
       "<Figure size 792x720 with 16 Axes>"
      ]
     },
     "metadata": {
      "needs_background": "light"
     },
     "output_type": "display_data"
    }
   ],
   "source": [
    "from matplotlib.pyplot import subplots\n",
    "d1.plot(kind='box',subplots=True,sharex=False,sharey=False,layout=(4,4),figsize=(11,10))"
   ]
  },
  {
   "cell_type": "code",
   "execution_count": 27,
   "metadata": {
    "colab": {
     "base_uri": "https://localhost:8080/",
     "height": 424
    },
    "id": "smNueTLFMoEn",
    "outputId": "426bf1d1-6a2b-409f-8e12-2a9f39e5d683"
   },
   "outputs": [
    {
     "data": {
      "text/plain": [
       "transaction_number             AxesSubplot(0.125,0.71587;0.168478x0.16413)\n",
       "user_id                     AxesSubplot(0.327174,0.71587;0.168478x0.16413)\n",
       "partner_id                  AxesSubplot(0.529348,0.71587;0.168478x0.16413)\n",
       "money_transacted            AxesSubplot(0.731522,0.71587;0.168478x0.16413)\n",
       "partner_pricing_category      AxesSubplot(0.125,0.518913;0.168478x0.16413)\n",
       "dtype: object"
      ]
     },
     "execution_count": 27,
     "metadata": {},
     "output_type": "execute_result"
    },
    {
     "data": {
      "image/png": "[encoded data removed]",
      "text/plain": [
       "<Figure size 792x720 with 16 Axes>"
      ]
     },
     "metadata": {
      "needs_background": "light"
     },
     "output_type": "display_data"
    }
   ],
   "source": [
    "from matplotlib.pyplot import subplots\n",
    "d2.plot(kind='box',subplots=True,sharex=False,sharey=False,layout=(4,4),figsize=(11,10))"
   ]
  },
  {
   "cell_type": "code",
   "execution_count": 28,
   "metadata": {
    "id": "F7rkKREdQaGt"
   },
   "outputs": [],
   "source": [
    "q1=d2['user_id'].quantile(0.25)\n",
    "q3=d2['user_id'].quantile(0.70)\n",
    "iqr = q3-q1\n",
    "filter1 = (d2['user_id']>=q1 - 1.5*iqr) & (d2['user_id']<=q3+1.5*iqr)\n",
    "d2=d2.loc[filter1]"
   ]
  },
  {
   "cell_type": "code",
   "execution_count": 29,
   "metadata": {
    "id": "_LVeChzsQaCx"
   },
   "outputs": [],
   "source": [
    "q1=d1['partner_id'].quantile(0.25)\n",
    "q3=d1['partner_id'].quantile(0.70)\n",
    "iqr = q3-q1\n",
    "filter1 = (d1['partner_id']>=q1 - 1.5*iqr) & (d1['partner_id']<=q3+1.5*iqr)\n",
    "d1=d1.loc[filter1]"
   ]
  },
  {
   "cell_type": "code",
   "execution_count": 30,
   "metadata": {
    "id": "Xs1qjO46M3EK"
   },
   "outputs": [],
   "source": [
    "q1=d2['partner_id'].quantile(0.25)\n",
    "q3=d2['partner_id'].quantile(0.70)\n",
    "iqr = q3-q1\n",
    "filter1 = (d2['partner_id']>=q1 - 1.5*iqr) & (d2['partner_id']<=q3+1.5*iqr)\n",
    "d2=d2.loc[filter1]"
   ]
  },
  {
   "cell_type": "code",
   "execution_count": 31,
   "metadata": {
    "colab": {
     "base_uri": "https://localhost:8080/",
     "height": 442
    },
    "id": "dMtHtFLvQZ-j",
    "outputId": "50dbb290-d222-4108-8017-1799ebfb5348"
   },
   "outputs": [
    {
     "data": {
      "text/plain": [
       "transaction_number              AxesSubplot(0.125,0.71587;0.168478x0.16413)\n",
       "user_id                      AxesSubplot(0.327174,0.71587;0.168478x0.16413)\n",
       "partner_id                   AxesSubplot(0.529348,0.71587;0.168478x0.16413)\n",
       "money_transacted             AxesSubplot(0.731522,0.71587;0.168478x0.16413)\n",
       "partner_pricing_category       AxesSubplot(0.125,0.518913;0.168478x0.16413)\n",
       "is_fraud                    AxesSubplot(0.327174,0.518913;0.168478x0.16413)\n",
       "dtype: object"
      ]
     },
     "execution_count": 31,
     "metadata": {},
     "output_type": "execute_result"
    },
    {
     "data": {
      "image/png": "[encoded data removed]",
      "text/plain": [
       "<Figure size 792x720 with 16 Axes>"
      ]
     },
     "metadata": {
      "needs_background": "light"
     },
     "output_type": "display_data"
    }
   ],
   "source": [
    "from matplotlib.pyplot import subplots\n",
    "d1.plot(kind='box',subplots=True,sharex=False,sharey=False,layout=(4,4),figsize=(11,10))"
   ]
  },
  {
   "cell_type": "code",
   "execution_count": 32,
   "metadata": {
    "colab": {
     "base_uri": "https://localhost:8080/",
     "height": 424
    },
    "id": "vvdmmzGFNALW",
    "outputId": "1682ccb3-14c4-4a67-e5ef-6f4933345fd6"
   },
   "outputs": [
    {
     "data": {
      "text/plain": [
       "transaction_number             AxesSubplot(0.125,0.71587;0.168478x0.16413)\n",
       "user_id                     AxesSubplot(0.327174,0.71587;0.168478x0.16413)\n",
       "partner_id                  AxesSubplot(0.529348,0.71587;0.168478x0.16413)\n",
       "money_transacted            AxesSubplot(0.731522,0.71587;0.168478x0.16413)\n",
       "partner_pricing_category      AxesSubplot(0.125,0.518913;0.168478x0.16413)\n",
       "dtype: object"
      ]
     },
     "execution_count": 32,
     "metadata": {},
     "output_type": "execute_result"
    },
    {
     "data": {
      "image/png": "[encoded data removed]",
      "text/plain": [
       "<Figure size 792x720 with 16 Axes>"
      ]
     },
     "metadata": {
      "needs_background": "light"
     },
     "output_type": "display_data"
    }
   ],
   "source": [
    "from matplotlib.pyplot import subplots\n",
    "d2.plot(kind='box',subplots=True,sharex=False,sharey=False,layout=(4,4),figsize=(11,10))"
   ]
  },
  {
   "cell_type": "markdown",
   "metadata": {
    "id": "ZIW0xZWwdqMk"
   },
   "source": [
    "##Correlation Plot\n",
    "\n",
    "####To check relation between numeric attributes"
   ]
  },
  {
   "cell_type": "code",
   "execution_count": 33,
   "metadata": {
    "colab": {
     "base_uri": "https://localhost:8080/",
     "height": 402
    },
    "id": "H88OeIbpA94Y",
    "outputId": "c20d8cea-29c5-4fb3-960e-36544e6a9508"
   },
   "outputs": [
    {
     "data": {
      "text/plain": [
       "<AxesSubplot:>"
      ]
     },
     "execution_count": 33,
     "metadata": {},
     "output_type": "execute_result"
    },
    {
     "data": {
      "image/png": "[encoded data removed]",
      "text/plain": [
       "<Figure size 432x288 with 2 Axes>"
      ]
     },
     "metadata": {
      "needs_background": "light"
     },
     "output_type": "display_data"
    }
   ],
   "source": [
    "import seaborn as sns\n",
    "sns.heatmap(d1.corr(),cmap='Greens',annot=True,linewidths=0.1)"
   ]
  },
  {
   "cell_type": "code",
   "execution_count": 34,
   "metadata": {
    "colab": {
     "base_uri": "https://localhost:8080/",
     "height": 402
    },
    "id": "uqygQAnINGs4",
    "outputId": "dcd2b98c-368e-420b-85a2-baaf4fd5539b"
   },
   "outputs": [
    {
     "data": {
      "text/plain": [
       "<AxesSubplot:>"
      ]
     },
     "execution_count": 34,
     "metadata": {},
     "output_type": "execute_result"
    },
    {
     "data": {
      "image/png": "[encoded data removed]",
      "text/plain": [
       "<Figure size 432x288 with 2 Axes>"
      ]
     },
     "metadata": {
      "needs_background": "light"
     },
     "output_type": "display_data"
    }
   ],
   "source": [
    "import seaborn as sns\n",
    "sns.heatmap(d2.corr(),cmap='Greens',annot=True,linewidths=0.1)"
   ]
  },
  {
   "cell_type": "code",
   "execution_count": 35,
   "metadata": {
    "colab": {
     "base_uri": "https://localhost:8080/"
    },
    "id": "6JmNJ21kBVZ3",
    "outputId": "3c23d56c-50ba-4439-b5d9-6fe516512531"
   },
   "outputs": [
    {
     "name": "stdout",
     "output_type": "stream",
     "text": [
      "75052\n",
      "144703125000        1\n",
      "42764844473000      1\n",
      "268323644443499     1\n",
      "1649305768375000    1\n",
      "872051380075819     1\n",
      "                   ..\n",
      "42651215478019      1\n",
      "2010346772547329    1\n",
      "461800293447375     1\n",
      "832016254469464     1\n",
      "1051344513778987    1\n",
      "Name: transaction_number, Length: 75052, dtype: int64\n",
      "3575\n",
      "53919649    3239\n",
      "13205956    1656\n",
      "418609      1514\n",
      "1201216      622\n",
      "16265089     611\n",
      "            ... \n",
      "6431296        1\n",
      "23386896       1\n",
      "9715689        1\n",
      "594441         1\n",
      "27952369       1\n",
      "Name: user_id, Length: 3575, dtype: int64\n",
      "6\n",
      "sbi_atm_cum_debit_card        30464\n",
      "e_wallet_payments             26545\n",
      "visa_master_debit_cards       11346\n",
      "other_debit_cards              4353\n",
      "visa_master_credit_cards       2330\n",
      "unified_payments_interface       14\n",
      "Name: payment_method, dtype: int64\n",
      "18\n",
      "47334     26105\n",
      "23667     19526\n",
      "78890     12273\n",
      "118335     9546\n",
      "7889       2317\n",
      "31556      1892\n",
      "86779      1121\n",
      "149891      767\n",
      "110446      640\n",
      "102557      231\n",
      "15778       189\n",
      "157780      165\n",
      "63112       159\n",
      "55223        75\n",
      "39445        19\n",
      "71001        15\n",
      "126224       10\n",
      "94668         2\n",
      "Name: partner_id, dtype: int64\n",
      "8\n",
      "cat_1    36306\n",
      "cat_2    36018\n",
      "cat_4     1310\n",
      "cat_5     1001\n",
      "cat_3      231\n",
      "cat_7      165\n",
      "cat_8       19\n",
      "cat_9        2\n",
      "Name: partner_category, dtype: int64\n",
      "1\n",
      "IND_INR    75052\n",
      "Name: country, dtype: int64\n",
      "4\n",
      "other_pcs          44195\n",
      "android_devices    29654\n",
      "ios_devices          810\n",
      "windows_pcs          393\n",
      "Name: device_type, dtype: int64\n",
      "1420\n",
      " 20.00     13721\n",
      "-1.00       6838\n",
      " 200.00     6153\n",
      " 40.00      4375\n",
      " 10.00      4147\n",
      "           ...  \n",
      " 67.90         1\n",
      " 372.00        1\n",
      " 700.08        1\n",
      " 10.70         1\n",
      " 494.00        1\n",
      "Name: money_transacted, Length: 1420, dtype: int64\n",
      "74358\n",
      "2016-12-24 16:30:13+00:00    12\n",
      "2016-11-15 07:03:26+00:00     7\n",
      "2016-12-24 16:30:12+00:00     6\n",
      "2016-12-07 13:09:44+00:00     4\n",
      "2017-02-01 10:58:34+00:00     4\n",
      "                             ..\n",
      "2017-01-29 06:02:40+00:00     1\n",
      "2017-02-08 18:02:46+00:00     1\n",
      "2016-12-07 18:37:08+00:00     1\n",
      "2016-12-21 12:26:24+00:00     1\n",
      "2017-01-11 19:08:18+00:00     1\n",
      "Name: transaction_initiation, Length: 74358, dtype: int64\n",
      "4\n",
      "2    62549\n",
      "4    10833\n",
      "1     1374\n",
      "0      296\n",
      "Name: partner_pricing_category, dtype: int64\n",
      "2\n",
      "0    74903\n",
      "1      149\n",
      "Name: is_fraud, dtype: int64\n"
     ]
    }
   ],
   "source": [
    "for i in d1:\n",
    "  print(d1[i].nunique())\n",
    "  print(d1[i].value_counts())"
   ]
  },
  {
   "cell_type": "code",
   "execution_count": 36,
   "metadata": {
    "colab": {
     "base_uri": "https://localhost:8080/"
    },
    "id": "xhh_ESB8NLeB",
    "outputId": "44291b79-af42-4316-c0cd-e13eee224d5c"
   },
   "outputs": [
    {
     "name": "stdout",
     "output_type": "stream",
     "text": [
      "75052\n",
      "144703125000        1\n",
      "42764844473000      1\n",
      "268323644443499     1\n",
      "1649305768375000    1\n",
      "872051380075819     1\n",
      "                   ..\n",
      "42651215478019      1\n",
      "2010346772547329    1\n",
      "461800293447375     1\n",
      "832016254469464     1\n",
      "1051344513778987    1\n",
      "Name: transaction_number, Length: 75052, dtype: int64\n",
      "3575\n",
      "53919649    3239\n",
      "13205956    1656\n",
      "418609      1514\n",
      "1201216      622\n",
      "16265089     611\n",
      "            ... \n",
      "6431296        1\n",
      "23386896       1\n",
      "9715689        1\n",
      "594441         1\n",
      "27952369       1\n",
      "Name: user_id, Length: 3575, dtype: int64\n",
      "6\n",
      "sbi_atm_cum_debit_card        30464\n",
      "e_wallet_payments             26545\n",
      "visa_master_debit_cards       11346\n",
      "other_debit_cards              4353\n",
      "visa_master_credit_cards       2330\n",
      "unified_payments_interface       14\n",
      "Name: payment_method, dtype: int64\n",
      "18\n",
      "47334     26105\n",
      "23667     19526\n",
      "78890     12273\n",
      "118335     9546\n",
      "7889       2317\n",
      "31556      1892\n",
      "86779      1121\n",
      "149891      767\n",
      "110446      640\n",
      "102557      231\n",
      "15778       189\n",
      "157780      165\n",
      "63112       159\n",
      "55223        75\n",
      "39445        19\n",
      "71001        15\n",
      "126224       10\n",
      "94668         2\n",
      "Name: partner_id, dtype: int64\n",
      "8\n",
      "cat_1    36306\n",
      "cat_2    36018\n",
      "cat_4     1310\n",
      "cat_5     1001\n",
      "cat_3      231\n",
      "cat_7      165\n",
      "cat_8       19\n",
      "cat_9        2\n",
      "Name: partner_category, dtype: int64\n",
      "1\n",
      "IND_INR    75052\n",
      "Name: country, dtype: int64\n",
      "4\n",
      "other_pcs          44195\n",
      "android_devices    29654\n",
      "ios_devices          810\n",
      "windows_pcs          393\n",
      "Name: device_type, dtype: int64\n",
      "1420\n",
      " 20.00     13721\n",
      "-1.00       6838\n",
      " 200.00     6153\n",
      " 40.00      4375\n",
      " 10.00      4147\n",
      "           ...  \n",
      " 67.90         1\n",
      " 372.00        1\n",
      " 700.08        1\n",
      " 10.70         1\n",
      " 494.00        1\n",
      "Name: money_transacted, Length: 1420, dtype: int64\n",
      "74358\n",
      "2016-12-24 16:30:13+00:00    12\n",
      "2016-11-15 07:03:26+00:00     7\n",
      "2016-12-24 16:30:12+00:00     6\n",
      "2016-12-07 13:09:44+00:00     4\n",
      "2017-02-01 10:58:34+00:00     4\n",
      "                             ..\n",
      "2017-01-29 06:02:40+00:00     1\n",
      "2017-02-08 18:02:46+00:00     1\n",
      "2016-12-07 18:37:08+00:00     1\n",
      "2016-12-21 12:26:24+00:00     1\n",
      "2017-01-11 19:08:18+00:00     1\n",
      "Name: transaction_initiation, Length: 74358, dtype: int64\n",
      "4\n",
      "2    62549\n",
      "4    10833\n",
      "1     1374\n",
      "0      296\n",
      "Name: partner_pricing_category, dtype: int64\n"
     ]
    }
   ],
   "source": [
    "for i in d2:\n",
    "  print(d1[i].nunique())\n",
    "  print(d1[i].value_counts())"
   ]
  },
  {
   "cell_type": "code",
   "execution_count": 37,
   "metadata": {
    "colab": {
     "base_uri": "https://localhost:8080/"
    },
    "id": "H4YOiy2_B2Xh",
    "outputId": "7ac2f6cc-e253-418c-adfa-beeca7f3a82d"
   },
   "outputs": [
    {
     "data": {
      "text/plain": [
       "transaction_number          0\n",
       "user_id                     0\n",
       "payment_method              0\n",
       "partner_id                  0\n",
       "partner_category            0\n",
       "country                     0\n",
       "device_type                 0\n",
       "money_transacted            0\n",
       "transaction_initiation      0\n",
       "partner_pricing_category    0\n",
       "is_fraud                    0\n",
       "dtype: int64"
      ]
     },
     "execution_count": 37,
     "metadata": {},
     "output_type": "execute_result"
    }
   ],
   "source": [
    "d1.isnull().sum()"
   ]
  },
  {
   "cell_type": "code",
   "execution_count": 38,
   "metadata": {
    "colab": {
     "base_uri": "https://localhost:8080/"
    },
    "id": "33UmB8CxNUOk",
    "outputId": "63562705-ac02-47cb-febb-2ee547a3eea8"
   },
   "outputs": [
    {
     "data": {
      "text/plain": [
       "transaction_number          0\n",
       "user_id                     0\n",
       "payment_method              0\n",
       "partner_id                  0\n",
       "partner_category            0\n",
       "country                     0\n",
       "device_type                 0\n",
       "money_transacted            0\n",
       "transaction_initiation      0\n",
       "partner_pricing_category    0\n",
       "dtype: int64"
      ]
     },
     "execution_count": 38,
     "metadata": {},
     "output_type": "execute_result"
    }
   ],
   "source": [
    "d2.isnull().sum()"
   ]
  },
  {
   "cell_type": "markdown",
   "metadata": {
    "id": "bii5ufveSF9f"
   },
   "source": [
    "##Dropping unimportant attributes\n"
   ]
  },
  {
   "cell_type": "code",
   "execution_count": 39,
   "metadata": {
    "id": "KAFKyGFCQVBP"
   },
   "outputs": [],
   "source": [
    "d1.drop(['country','transaction_number'],axis=1,inplace=True)"
   ]
  },
  {
   "cell_type": "code",
   "execution_count": 40,
   "metadata": {
    "id": "UGY4W-eNNftp"
   },
   "outputs": [],
   "source": [
    "d2.drop(['country','transaction_number'],axis=1,inplace=True)"
   ]
  },
  {
   "cell_type": "code",
   "execution_count": 41,
   "metadata": {
    "colab": {
     "base_uri": "https://localhost:8080/"
    },
    "id": "0vFyWin5KuC0",
    "outputId": "79331b9f-00e6-4a6d-e52f-fd2b449548c5"
   },
   "outputs": [
    {
     "data": {
      "text/plain": [
       "Index(['user_id', 'payment_method', 'partner_id', 'partner_category',\n",
       "       'device_type', 'money_transacted', 'transaction_initiation',\n",
       "       'partner_pricing_category', 'is_fraud'],\n",
       "      dtype='object')"
      ]
     },
     "execution_count": 41,
     "metadata": {},
     "output_type": "execute_result"
    }
   ],
   "source": [
    "d1.columns"
   ]
  },
  {
   "cell_type": "code",
   "execution_count": 42,
   "metadata": {
    "colab": {
     "base_uri": "https://localhost:8080/"
    },
    "id": "hia_fHL3NlPr",
    "outputId": "7aada460-9d0a-4d98-8f81-b84c93b54e22"
   },
   "outputs": [
    {
     "data": {
      "text/plain": [
       "Index(['user_id', 'payment_method', 'partner_id', 'partner_category',\n",
       "       'device_type', 'money_transacted', 'transaction_initiation',\n",
       "       'partner_pricing_category'],\n",
       "      dtype='object')"
      ]
     },
     "execution_count": 42,
     "metadata": {},
     "output_type": "execute_result"
    }
   ],
   "source": [
    "d2.columns"
   ]
  },
  {
   "cell_type": "markdown",
   "metadata": {
    "id": "AmU9ug33dPp2"
   },
   "source": [
    "##Feature Engineering for Transaction Initiation"
   ]
  },
  {
   "cell_type": "code",
   "execution_count": 43,
   "metadata": {
    "id": "T8b9mGRmaB2R"
   },
   "outputs": [],
   "source": [
    "d1['transaction_initiation'] = pd.to_datetime(d1['transaction_initiation'])"
   ]
  },
  {
   "cell_type": "code",
   "execution_count": 44,
   "metadata": {
    "id": "-iHdtX5pNphD"
   },
   "outputs": [],
   "source": [
    "d2['transaction_initiation'] = pd.to_datetime(d2['transaction_initiation'])"
   ]
  },
  {
   "cell_type": "code",
   "execution_count": 45,
   "metadata": {
    "id": "ma94YQcuY1WB"
   },
   "outputs": [],
   "source": [
    "d1['year'] = d1['transaction_initiation'].dt.year\n",
    "d1['month'] = d1['transaction_initiation'].dt.month\n",
    "d1['day'] = d1['transaction_initiation'].dt.day\n",
    "d1['time'] = d1['transaction_initiation'].dt.time\n",
    "d1.drop(columns='transaction_initiation', axis='column', inplace=True)"
   ]
  },
  {
   "cell_type": "code",
   "execution_count": 46,
   "metadata": {
    "id": "lGOncssaNzN3"
   },
   "outputs": [],
   "source": [
    "d2['year'] = d2['transaction_initiation'].dt.year\n",
    "d2['month'] = d2['transaction_initiation'].dt.month\n",
    "d2['day'] = d2['transaction_initiation'].dt.day\n",
    "d2['time'] = d2['transaction_initiation'].dt.time\n",
    "d2.drop(columns='transaction_initiation', axis='column', inplace=True)"
   ]
  },
  {
   "cell_type": "code",
   "execution_count": 47,
   "metadata": {
    "colab": {
     "base_uri": "https://localhost:8080/"
    },
    "id": "7twQqanWK2xC",
    "outputId": "3811ff8b-bd88-46e4-e9ac-e0b0d0377923"
   },
   "outputs": [
    {
     "data": {
      "text/plain": [
       "user_id                       int64\n",
       "payment_method               object\n",
       "partner_id                    int64\n",
       "partner_category             object\n",
       "device_type                  object\n",
       "money_transacted            float64\n",
       "partner_pricing_category      int64\n",
       "is_fraud                      int64\n",
       "year                          int64\n",
       "month                         int64\n",
       "day                           int64\n",
       "time                         object\n",
       "dtype: object"
      ]
     },
     "execution_count": 47,
     "metadata": {},
     "output_type": "execute_result"
    }
   ],
   "source": [
    "d1.dtypes"
   ]
  },
  {
   "cell_type": "code",
   "execution_count": 48,
   "metadata": {
    "colab": {
     "base_uri": "https://localhost:8080/"
    },
    "id": "oB1M6SIHN90p",
    "outputId": "1b39ab36-64af-4ab7-a6e4-4b6791819448"
   },
   "outputs": [
    {
     "data": {
      "text/plain": [
       "user_id                       int64\n",
       "payment_method               object\n",
       "partner_id                    int64\n",
       "partner_category             object\n",
       "device_type                  object\n",
       "money_transacted            float64\n",
       "partner_pricing_category      int64\n",
       "year                          int64\n",
       "month                         int64\n",
       "day                           int64\n",
       "time                         object\n",
       "dtype: object"
      ]
     },
     "execution_count": 48,
     "metadata": {},
     "output_type": "execute_result"
    }
   ],
   "source": [
    "d2.dtypes"
   ]
  },
  {
   "cell_type": "markdown",
   "metadata": {
    "id": "dPvFt0a-R0Nj"
   },
   "source": [
    "##Converting Object variable to Categorical Type\n"
   ]
  },
  {
   "cell_type": "code",
   "execution_count": 49,
   "metadata": {
    "id": "b4VgOuj0LSKc"
   },
   "outputs": [],
   "source": [
    "cat_attr=['payment_method','partner_category','device_type','time']\n",
    "d1[cat_attr]=d1[cat_attr].astype('category')"
   ]
  },
  {
   "cell_type": "code",
   "execution_count": 50,
   "metadata": {
    "id": "v9AkwM8zOFzL"
   },
   "outputs": [],
   "source": [
    "cat_attr_d2=['payment_method','partner_category','device_type','time']\n",
    "d2[cat_attr_d2]=d2[cat_attr_d2].astype('category')"
   ]
  },
  {
   "cell_type": "code",
   "execution_count": 51,
   "metadata": {
    "id": "-I321M8mMNZb"
   },
   "outputs": [],
   "source": [
    "num_attr=d1.select_dtypes(['int64','float64']).columns"
   ]
  },
  {
   "cell_type": "code",
   "execution_count": 52,
   "metadata": {
    "id": "IbxKGu3xOLwn"
   },
   "outputs": [],
   "source": [
    "num_attr_d2=d2.select_dtypes(['int64','float64']).columns"
   ]
  },
  {
   "cell_type": "code",
   "execution_count": 53,
   "metadata": {
    "colab": {
     "base_uri": "https://localhost:8080/"
    },
    "id": "nhMpZJtjbE7Q",
    "outputId": "41c828c8-37aa-4e21-d568-cd4ace4fa69c"
   },
   "outputs": [
    {
     "name": "stdout",
     "output_type": "stream",
     "text": [
      "Index(['user_id', 'partner_id', 'money_transacted', 'partner_pricing_category',\n",
      "       'is_fraud', 'year', 'month', 'day'],\n",
      "      dtype='object')\n"
     ]
    }
   ],
   "source": [
    "print(num_attr)"
   ]
  },
  {
   "cell_type": "code",
   "execution_count": 54,
   "metadata": {
    "colab": {
     "base_uri": "https://localhost:8080/"
    },
    "id": "IZNLgQcgOdNp",
    "outputId": "9e04f8d3-2f55-4066-dae6-514be5a976d5"
   },
   "outputs": [
    {
     "name": "stdout",
     "output_type": "stream",
     "text": [
      "Index(['user_id', 'partner_id', 'money_transacted', 'partner_pricing_category',\n",
      "       'year', 'month', 'day'],\n",
      "      dtype='object')\n"
     ]
    }
   ],
   "source": [
    "print(num_attr_d2)"
   ]
  },
  {
   "cell_type": "code",
   "execution_count": 55,
   "metadata": {
    "colab": {
     "base_uri": "https://localhost:8080/"
    },
    "id": "OUyRIIhzbKjr",
    "outputId": "d55dc401-035c-4548-a6fb-46e52a647374"
   },
   "outputs": [
    {
     "data": {
      "text/plain": [
       "user_id                        int64\n",
       "payment_method              category\n",
       "partner_id                     int64\n",
       "partner_category            category\n",
       "device_type                 category\n",
       "money_transacted             float64\n",
       "partner_pricing_category       int64\n",
       "is_fraud                       int64\n",
       "year                           int64\n",
       "month                          int64\n",
       "day                            int64\n",
       "time                        category\n",
       "dtype: object"
      ]
     },
     "execution_count": 55,
     "metadata": {},
     "output_type": "execute_result"
    }
   ],
   "source": [
    "d1.dtypes"
   ]
  },
  {
   "cell_type": "code",
   "execution_count": 56,
   "metadata": {
    "colab": {
     "base_uri": "https://localhost:8080/"
    },
    "id": "utAQkzWCOg1A",
    "outputId": "eca233d7-a234-4c76-b73e-83aa2b40edda"
   },
   "outputs": [
    {
     "data": {
      "text/plain": [
       "user_id                        int64\n",
       "payment_method              category\n",
       "partner_id                     int64\n",
       "partner_category            category\n",
       "device_type                 category\n",
       "money_transacted             float64\n",
       "partner_pricing_category       int64\n",
       "year                           int64\n",
       "month                          int64\n",
       "day                            int64\n",
       "time                        category\n",
       "dtype: object"
      ]
     },
     "execution_count": 56,
     "metadata": {},
     "output_type": "execute_result"
    }
   ],
   "source": [
    "d2.dtypes"
   ]
  },
  {
   "cell_type": "code",
   "execution_count": 57,
   "metadata": {
    "id": "vm1Qg62Hkf_m"
   },
   "outputs": [],
   "source": [
    "d1.drop(['time'],axis=1,inplace=True)"
   ]
  },
  {
   "cell_type": "code",
   "execution_count": 58,
   "metadata": {
    "id": "CctItzV5OlBc"
   },
   "outputs": [],
   "source": [
    "d2.drop(['time'],axis=1,inplace=True)"
   ]
  },
  {
   "cell_type": "code",
   "execution_count": 59,
   "metadata": {
    "colab": {
     "base_uri": "https://localhost:8080/"
    },
    "id": "vwCYUv0RkpoW",
    "outputId": "fd4aca1a-0ae8-4152-e80b-02aeac36fb4a"
   },
   "outputs": [
    {
     "data": {
      "text/plain": [
       "Index(['user_id', 'payment_method', 'partner_id', 'partner_category',\n",
       "       'device_type', 'money_transacted', 'partner_pricing_category',\n",
       "       'is_fraud', 'year', 'month', 'day'],\n",
       "      dtype='object')"
      ]
     },
     "execution_count": 59,
     "metadata": {},
     "output_type": "execute_result"
    }
   ],
   "source": [
    "d1.columns"
   ]
  },
  {
   "cell_type": "code",
   "execution_count": 60,
   "metadata": {
    "colab": {
     "base_uri": "https://localhost:8080/"
    },
    "id": "JJ2hDj32OnXZ",
    "outputId": "438dde9f-645a-4723-c8bc-30bcb3e5214a"
   },
   "outputs": [
    {
     "data": {
      "text/plain": [
       "Index(['user_id', 'payment_method', 'partner_id', 'partner_category',\n",
       "       'device_type', 'money_transacted', 'partner_pricing_category', 'year',\n",
       "       'month', 'day'],\n",
       "      dtype='object')"
      ]
     },
     "execution_count": 60,
     "metadata": {},
     "output_type": "execute_result"
    }
   ],
   "source": [
    "d2.columns"
   ]
  },
  {
   "cell_type": "code",
   "execution_count": 61,
   "metadata": {
    "colab": {
     "base_uri": "https://localhost:8080/"
    },
    "id": "Wwg75GjhktRI",
    "outputId": "17be8055-8076-4c1e-d602-bdd487cde387"
   },
   "outputs": [
    {
     "data": {
      "text/plain": [
       "(75052, 11)"
      ]
     },
     "execution_count": 61,
     "metadata": {},
     "output_type": "execute_result"
    }
   ],
   "source": [
    "d1.shape"
   ]
  },
  {
   "cell_type": "code",
   "execution_count": 62,
   "metadata": {
    "colab": {
     "base_uri": "https://localhost:8080/"
    },
    "id": "gHgCIwu2OqLw",
    "outputId": "daf1997f-6430-4d2d-ba86-2e63b98a8131"
   },
   "outputs": [
    {
     "data": {
      "text/plain": [
       "(17822, 10)"
      ]
     },
     "execution_count": 62,
     "metadata": {},
     "output_type": "execute_result"
    }
   ],
   "source": [
    "d2.shape"
   ]
  },
  {
   "cell_type": "markdown",
   "metadata": {
    "id": "R0dsJV0XVPpn"
   },
   "source": [
    "##Encoding\n",
    "\n",
    "\n",
    "*   Creating Dummies\n",
    "\n",
    "\n"
   ]
  },
  {
   "cell_type": "code",
   "execution_count": 63,
   "metadata": {
    "colab": {
     "base_uri": "https://localhost:8080/",
     "height": 424
    },
    "id": "GSaOPc60MQae",
    "outputId": "6e5ba61b-95bf-4d2d-86a4-b919a8f76d9b"
   },
   "outputs": [
    {
     "data": {
      "text/html": [
       "<div>\n",
       "<style scoped>\n",
       "    .dataframe tbody tr th:only-of-type {\n",
       "        vertical-align: middle;\n",
       "    }\n",
       "\n",
       "    .dataframe tbody tr th {\n",
       "        vertical-align: top;\n",
       "    }\n",
       "\n",
       "    .dataframe thead th {\n",
       "        text-align: right;\n",
       "    }\n",
       "</style>\n",
       "<table border=\"1\" class=\"dataframe\">\n",
       "  <thead>\n",
       "    <tr style=\"text-align: right;\">\n",
       "      <th></th>\n",
       "      <th>cat_1</th>\n",
       "      <th>cat_2</th>\n",
       "      <th>cat_3</th>\n",
       "      <th>cat_4</th>\n",
       "      <th>cat_5</th>\n",
       "      <th>cat_7</th>\n",
       "      <th>cat_8</th>\n",
       "      <th>cat_9</th>\n",
       "    </tr>\n",
       "  </thead>\n",
       "  <tbody>\n",
       "    <tr>\n",
       "      <th>0</th>\n",
       "      <td>1</td>\n",
       "      <td>0</td>\n",
       "      <td>0</td>\n",
       "      <td>0</td>\n",
       "      <td>0</td>\n",
       "      <td>0</td>\n",
       "      <td>0</td>\n",
       "      <td>0</td>\n",
       "    </tr>\n",
       "    <tr>\n",
       "      <th>1</th>\n",
       "      <td>0</td>\n",
       "      <td>1</td>\n",
       "      <td>0</td>\n",
       "      <td>0</td>\n",
       "      <td>0</td>\n",
       "      <td>0</td>\n",
       "      <td>0</td>\n",
       "      <td>0</td>\n",
       "    </tr>\n",
       "    <tr>\n",
       "      <th>2</th>\n",
       "      <td>0</td>\n",
       "      <td>1</td>\n",
       "      <td>0</td>\n",
       "      <td>0</td>\n",
       "      <td>0</td>\n",
       "      <td>0</td>\n",
       "      <td>0</td>\n",
       "      <td>0</td>\n",
       "    </tr>\n",
       "    <tr>\n",
       "      <th>3</th>\n",
       "      <td>0</td>\n",
       "      <td>0</td>\n",
       "      <td>1</td>\n",
       "      <td>0</td>\n",
       "      <td>0</td>\n",
       "      <td>0</td>\n",
       "      <td>0</td>\n",
       "      <td>0</td>\n",
       "    </tr>\n",
       "    <tr>\n",
       "      <th>4</th>\n",
       "      <td>1</td>\n",
       "      <td>0</td>\n",
       "      <td>0</td>\n",
       "      <td>0</td>\n",
       "      <td>0</td>\n",
       "      <td>0</td>\n",
       "      <td>0</td>\n",
       "      <td>0</td>\n",
       "    </tr>\n",
       "    <tr>\n",
       "      <th>...</th>\n",
       "      <td>...</td>\n",
       "      <td>...</td>\n",
       "      <td>...</td>\n",
       "      <td>...</td>\n",
       "      <td>...</td>\n",
       "      <td>...</td>\n",
       "      <td>...</td>\n",
       "      <td>...</td>\n",
       "    </tr>\n",
       "    <tr>\n",
       "      <th>76524</th>\n",
       "      <td>1</td>\n",
       "      <td>0</td>\n",
       "      <td>0</td>\n",
       "      <td>0</td>\n",
       "      <td>0</td>\n",
       "      <td>0</td>\n",
       "      <td>0</td>\n",
       "      <td>0</td>\n",
       "    </tr>\n",
       "    <tr>\n",
       "      <th>76525</th>\n",
       "      <td>1</td>\n",
       "      <td>0</td>\n",
       "      <td>0</td>\n",
       "      <td>0</td>\n",
       "      <td>0</td>\n",
       "      <td>0</td>\n",
       "      <td>0</td>\n",
       "      <td>0</td>\n",
       "    </tr>\n",
       "    <tr>\n",
       "      <th>76526</th>\n",
       "      <td>1</td>\n",
       "      <td>0</td>\n",
       "      <td>0</td>\n",
       "      <td>0</td>\n",
       "      <td>0</td>\n",
       "      <td>0</td>\n",
       "      <td>0</td>\n",
       "      <td>0</td>\n",
       "    </tr>\n",
       "    <tr>\n",
       "      <th>76527</th>\n",
       "      <td>1</td>\n",
       "      <td>0</td>\n",
       "      <td>0</td>\n",
       "      <td>0</td>\n",
       "      <td>0</td>\n",
       "      <td>0</td>\n",
       "      <td>0</td>\n",
       "      <td>0</td>\n",
       "    </tr>\n",
       "    <tr>\n",
       "      <th>76528</th>\n",
       "      <td>1</td>\n",
       "      <td>0</td>\n",
       "      <td>0</td>\n",
       "      <td>0</td>\n",
       "      <td>0</td>\n",
       "      <td>0</td>\n",
       "      <td>0</td>\n",
       "      <td>0</td>\n",
       "    </tr>\n",
       "  </tbody>\n",
       "</table>\n",
       "<p>75052 rows × 8 columns</p>\n",
       "</div>"
      ],
      "text/plain": [
       "       cat_1  cat_2  cat_3  cat_4  cat_5  cat_7  cat_8  cat_9\n",
       "0          1      0      0      0      0      0      0      0\n",
       "1          0      1      0      0      0      0      0      0\n",
       "2          0      1      0      0      0      0      0      0\n",
       "3          0      0      1      0      0      0      0      0\n",
       "4          1      0      0      0      0      0      0      0\n",
       "...      ...    ...    ...    ...    ...    ...    ...    ...\n",
       "76524      1      0      0      0      0      0      0      0\n",
       "76525      1      0      0      0      0      0      0      0\n",
       "76526      1      0      0      0      0      0      0      0\n",
       "76527      1      0      0      0      0      0      0      0\n",
       "76528      1      0      0      0      0      0      0      0\n",
       "\n",
       "[75052 rows x 8 columns]"
      ]
     },
     "execution_count": 63,
     "metadata": {},
     "output_type": "execute_result"
    }
   ],
   "source": [
    "cat1=pd.get_dummies(d1['partner_category'])\n",
    "cat1"
   ]
  },
  {
   "cell_type": "code",
   "execution_count": 64,
   "metadata": {
    "colab": {
     "base_uri": "https://localhost:8080/",
     "height": 424
    },
    "id": "7QqQrQo_SHjN",
    "outputId": "b45e19ce-a528-4f91-ec66-637023e65813"
   },
   "outputs": [
    {
     "data": {
      "text/html": [
       "<div>\n",
       "<style scoped>\n",
       "    .dataframe tbody tr th:only-of-type {\n",
       "        vertical-align: middle;\n",
       "    }\n",
       "\n",
       "    .dataframe tbody tr th {\n",
       "        vertical-align: top;\n",
       "    }\n",
       "\n",
       "    .dataframe thead th {\n",
       "        text-align: right;\n",
       "    }\n",
       "</style>\n",
       "<table border=\"1\" class=\"dataframe\">\n",
       "  <thead>\n",
       "    <tr style=\"text-align: right;\">\n",
       "      <th></th>\n",
       "      <th>cat_1</th>\n",
       "      <th>cat_2</th>\n",
       "      <th>cat_3</th>\n",
       "      <th>cat_4</th>\n",
       "      <th>cat_5</th>\n",
       "      <th>cat_7</th>\n",
       "      <th>cat_8</th>\n",
       "    </tr>\n",
       "  </thead>\n",
       "  <tbody>\n",
       "    <tr>\n",
       "      <th>0</th>\n",
       "      <td>1</td>\n",
       "      <td>0</td>\n",
       "      <td>0</td>\n",
       "      <td>0</td>\n",
       "      <td>0</td>\n",
       "      <td>0</td>\n",
       "      <td>0</td>\n",
       "    </tr>\n",
       "    <tr>\n",
       "      <th>1</th>\n",
       "      <td>0</td>\n",
       "      <td>1</td>\n",
       "      <td>0</td>\n",
       "      <td>0</td>\n",
       "      <td>0</td>\n",
       "      <td>0</td>\n",
       "      <td>0</td>\n",
       "    </tr>\n",
       "    <tr>\n",
       "      <th>2</th>\n",
       "      <td>1</td>\n",
       "      <td>0</td>\n",
       "      <td>0</td>\n",
       "      <td>0</td>\n",
       "      <td>0</td>\n",
       "      <td>0</td>\n",
       "      <td>0</td>\n",
       "    </tr>\n",
       "    <tr>\n",
       "      <th>3</th>\n",
       "      <td>0</td>\n",
       "      <td>1</td>\n",
       "      <td>0</td>\n",
       "      <td>0</td>\n",
       "      <td>0</td>\n",
       "      <td>0</td>\n",
       "      <td>0</td>\n",
       "    </tr>\n",
       "    <tr>\n",
       "      <th>4</th>\n",
       "      <td>0</td>\n",
       "      <td>1</td>\n",
       "      <td>0</td>\n",
       "      <td>0</td>\n",
       "      <td>0</td>\n",
       "      <td>0</td>\n",
       "      <td>0</td>\n",
       "    </tr>\n",
       "    <tr>\n",
       "      <th>...</th>\n",
       "      <td>...</td>\n",
       "      <td>...</td>\n",
       "      <td>...</td>\n",
       "      <td>...</td>\n",
       "      <td>...</td>\n",
       "      <td>...</td>\n",
       "      <td>...</td>\n",
       "    </tr>\n",
       "    <tr>\n",
       "      <th>19127</th>\n",
       "      <td>0</td>\n",
       "      <td>1</td>\n",
       "      <td>0</td>\n",
       "      <td>0</td>\n",
       "      <td>0</td>\n",
       "      <td>0</td>\n",
       "      <td>0</td>\n",
       "    </tr>\n",
       "    <tr>\n",
       "      <th>19128</th>\n",
       "      <td>0</td>\n",
       "      <td>1</td>\n",
       "      <td>0</td>\n",
       "      <td>0</td>\n",
       "      <td>0</td>\n",
       "      <td>0</td>\n",
       "      <td>0</td>\n",
       "    </tr>\n",
       "    <tr>\n",
       "      <th>19129</th>\n",
       "      <td>0</td>\n",
       "      <td>1</td>\n",
       "      <td>0</td>\n",
       "      <td>0</td>\n",
       "      <td>0</td>\n",
       "      <td>0</td>\n",
       "      <td>0</td>\n",
       "    </tr>\n",
       "    <tr>\n",
       "      <th>19130</th>\n",
       "      <td>0</td>\n",
       "      <td>1</td>\n",
       "      <td>0</td>\n",
       "      <td>0</td>\n",
       "      <td>0</td>\n",
       "      <td>0</td>\n",
       "      <td>0</td>\n",
       "    </tr>\n",
       "    <tr>\n",
       "      <th>19132</th>\n",
       "      <td>0</td>\n",
       "      <td>1</td>\n",
       "      <td>0</td>\n",
       "      <td>0</td>\n",
       "      <td>0</td>\n",
       "      <td>0</td>\n",
       "      <td>0</td>\n",
       "    </tr>\n",
       "  </tbody>\n",
       "</table>\n",
       "<p>17822 rows × 7 columns</p>\n",
       "</div>"
      ],
      "text/plain": [
       "       cat_1  cat_2  cat_3  cat_4  cat_5  cat_7  cat_8\n",
       "0          1      0      0      0      0      0      0\n",
       "1          0      1      0      0      0      0      0\n",
       "2          1      0      0      0      0      0      0\n",
       "3          0      1      0      0      0      0      0\n",
       "4          0      1      0      0      0      0      0\n",
       "...      ...    ...    ...    ...    ...    ...    ...\n",
       "19127      0      1      0      0      0      0      0\n",
       "19128      0      1      0      0      0      0      0\n",
       "19129      0      1      0      0      0      0      0\n",
       "19130      0      1      0      0      0      0      0\n",
       "19132      0      1      0      0      0      0      0\n",
       "\n",
       "[17822 rows x 7 columns]"
      ]
     },
     "execution_count": 64,
     "metadata": {},
     "output_type": "execute_result"
    }
   ],
   "source": [
    "cat1_test=pd.get_dummies(d2['partner_category'])\n",
    "cat1_test"
   ]
  },
  {
   "cell_type": "code",
   "execution_count": 65,
   "metadata": {
    "colab": {
     "base_uri": "https://localhost:8080/",
     "height": 488
    },
    "id": "f6vOTMSKoKZR",
    "outputId": "6890ac0d-2dc9-48a4-d1fc-6f3d41d5bb0c"
   },
   "outputs": [
    {
     "data": {
      "text/html": [
       "<div>\n",
       "<style scoped>\n",
       "    .dataframe tbody tr th:only-of-type {\n",
       "        vertical-align: middle;\n",
       "    }\n",
       "\n",
       "    .dataframe tbody tr th {\n",
       "        vertical-align: top;\n",
       "    }\n",
       "\n",
       "    .dataframe thead th {\n",
       "        text-align: right;\n",
       "    }\n",
       "</style>\n",
       "<table border=\"1\" class=\"dataframe\">\n",
       "  <thead>\n",
       "    <tr style=\"text-align: right;\">\n",
       "      <th></th>\n",
       "      <th>e_wallet_payments</th>\n",
       "      <th>other_debit_cards</th>\n",
       "      <th>sbi_atm_cum_debit_card</th>\n",
       "      <th>unified_payments_interface</th>\n",
       "      <th>visa_master_credit_cards</th>\n",
       "      <th>visa_master_debit_cards</th>\n",
       "    </tr>\n",
       "  </thead>\n",
       "  <tbody>\n",
       "    <tr>\n",
       "      <th>0</th>\n",
       "      <td>0</td>\n",
       "      <td>0</td>\n",
       "      <td>1</td>\n",
       "      <td>0</td>\n",
       "      <td>0</td>\n",
       "      <td>0</td>\n",
       "    </tr>\n",
       "    <tr>\n",
       "      <th>1</th>\n",
       "      <td>1</td>\n",
       "      <td>0</td>\n",
       "      <td>0</td>\n",
       "      <td>0</td>\n",
       "      <td>0</td>\n",
       "      <td>0</td>\n",
       "    </tr>\n",
       "    <tr>\n",
       "      <th>2</th>\n",
       "      <td>1</td>\n",
       "      <td>0</td>\n",
       "      <td>0</td>\n",
       "      <td>0</td>\n",
       "      <td>0</td>\n",
       "      <td>0</td>\n",
       "    </tr>\n",
       "    <tr>\n",
       "      <th>3</th>\n",
       "      <td>0</td>\n",
       "      <td>1</td>\n",
       "      <td>0</td>\n",
       "      <td>0</td>\n",
       "      <td>0</td>\n",
       "      <td>0</td>\n",
       "    </tr>\n",
       "    <tr>\n",
       "      <th>4</th>\n",
       "      <td>0</td>\n",
       "      <td>1</td>\n",
       "      <td>0</td>\n",
       "      <td>0</td>\n",
       "      <td>0</td>\n",
       "      <td>0</td>\n",
       "    </tr>\n",
       "    <tr>\n",
       "      <th>...</th>\n",
       "      <td>...</td>\n",
       "      <td>...</td>\n",
       "      <td>...</td>\n",
       "      <td>...</td>\n",
       "      <td>...</td>\n",
       "      <td>...</td>\n",
       "    </tr>\n",
       "    <tr>\n",
       "      <th>76524</th>\n",
       "      <td>0</td>\n",
       "      <td>0</td>\n",
       "      <td>1</td>\n",
       "      <td>0</td>\n",
       "      <td>0</td>\n",
       "      <td>0</td>\n",
       "    </tr>\n",
       "    <tr>\n",
       "      <th>76525</th>\n",
       "      <td>0</td>\n",
       "      <td>0</td>\n",
       "      <td>0</td>\n",
       "      <td>0</td>\n",
       "      <td>0</td>\n",
       "      <td>1</td>\n",
       "    </tr>\n",
       "    <tr>\n",
       "      <th>76526</th>\n",
       "      <td>0</td>\n",
       "      <td>0</td>\n",
       "      <td>1</td>\n",
       "      <td>0</td>\n",
       "      <td>0</td>\n",
       "      <td>0</td>\n",
       "    </tr>\n",
       "    <tr>\n",
       "      <th>76527</th>\n",
       "      <td>0</td>\n",
       "      <td>0</td>\n",
       "      <td>1</td>\n",
       "      <td>0</td>\n",
       "      <td>0</td>\n",
       "      <td>0</td>\n",
       "    </tr>\n",
       "    <tr>\n",
       "      <th>76528</th>\n",
       "      <td>0</td>\n",
       "      <td>0</td>\n",
       "      <td>1</td>\n",
       "      <td>0</td>\n",
       "      <td>0</td>\n",
       "      <td>0</td>\n",
       "    </tr>\n",
       "  </tbody>\n",
       "</table>\n",
       "<p>75052 rows × 6 columns</p>\n",
       "</div>"
      ],
      "text/plain": [
       "       e_wallet_payments  other_debit_cards  sbi_atm_cum_debit_card  \\\n",
       "0                      0                  0                       1   \n",
       "1                      1                  0                       0   \n",
       "2                      1                  0                       0   \n",
       "3                      0                  1                       0   \n",
       "4                      0                  1                       0   \n",
       "...                  ...                ...                     ...   \n",
       "76524                  0                  0                       1   \n",
       "76525                  0                  0                       0   \n",
       "76526                  0                  0                       1   \n",
       "76527                  0                  0                       1   \n",
       "76528                  0                  0                       1   \n",
       "\n",
       "       unified_payments_interface  visa_master_credit_cards  \\\n",
       "0                               0                         0   \n",
       "1                               0                         0   \n",
       "2                               0                         0   \n",
       "3                               0                         0   \n",
       "4                               0                         0   \n",
       "...                           ...                       ...   \n",
       "76524                           0                         0   \n",
       "76525                           0                         0   \n",
       "76526                           0                         0   \n",
       "76527                           0                         0   \n",
       "76528                           0                         0   \n",
       "\n",
       "       visa_master_debit_cards  \n",
       "0                            0  \n",
       "1                            0  \n",
       "2                            0  \n",
       "3                            0  \n",
       "4                            0  \n",
       "...                        ...  \n",
       "76524                        0  \n",
       "76525                        1  \n",
       "76526                        0  \n",
       "76527                        0  \n",
       "76528                        0  \n",
       "\n",
       "[75052 rows x 6 columns]"
      ]
     },
     "execution_count": 65,
     "metadata": {},
     "output_type": "execute_result"
    }
   ],
   "source": [
    "cat2=pd.get_dummies(d1['payment_method'])\n",
    "cat2"
   ]
  },
  {
   "cell_type": "code",
   "execution_count": 66,
   "metadata": {
    "colab": {
     "base_uri": "https://localhost:8080/",
     "height": 488
    },
    "id": "_zTUkvblSU4i",
    "outputId": "c1f8035c-daac-430c-d4f1-bb0f07c0a2f6"
   },
   "outputs": [
    {
     "data": {
      "text/html": [
       "<div>\n",
       "<style scoped>\n",
       "    .dataframe tbody tr th:only-of-type {\n",
       "        vertical-align: middle;\n",
       "    }\n",
       "\n",
       "    .dataframe tbody tr th {\n",
       "        vertical-align: top;\n",
       "    }\n",
       "\n",
       "    .dataframe thead th {\n",
       "        text-align: right;\n",
       "    }\n",
       "</style>\n",
       "<table border=\"1\" class=\"dataframe\">\n",
       "  <thead>\n",
       "    <tr style=\"text-align: right;\">\n",
       "      <th></th>\n",
       "      <th>e_wallet_payments</th>\n",
       "      <th>other_debit_cards</th>\n",
       "      <th>sbi_atm_cum_debit_card</th>\n",
       "      <th>unified_payments_interface</th>\n",
       "      <th>visa_master_credit_cards</th>\n",
       "      <th>visa_master_debit_cards</th>\n",
       "    </tr>\n",
       "  </thead>\n",
       "  <tbody>\n",
       "    <tr>\n",
       "      <th>0</th>\n",
       "      <td>0</td>\n",
       "      <td>0</td>\n",
       "      <td>0</td>\n",
       "      <td>0</td>\n",
       "      <td>0</td>\n",
       "      <td>1</td>\n",
       "    </tr>\n",
       "    <tr>\n",
       "      <th>1</th>\n",
       "      <td>1</td>\n",
       "      <td>0</td>\n",
       "      <td>0</td>\n",
       "      <td>0</td>\n",
       "      <td>0</td>\n",
       "      <td>0</td>\n",
       "    </tr>\n",
       "    <tr>\n",
       "      <th>2</th>\n",
       "      <td>0</td>\n",
       "      <td>0</td>\n",
       "      <td>1</td>\n",
       "      <td>0</td>\n",
       "      <td>0</td>\n",
       "      <td>0</td>\n",
       "    </tr>\n",
       "    <tr>\n",
       "      <th>3</th>\n",
       "      <td>0</td>\n",
       "      <td>0</td>\n",
       "      <td>0</td>\n",
       "      <td>0</td>\n",
       "      <td>1</td>\n",
       "      <td>0</td>\n",
       "    </tr>\n",
       "    <tr>\n",
       "      <th>4</th>\n",
       "      <td>1</td>\n",
       "      <td>0</td>\n",
       "      <td>0</td>\n",
       "      <td>0</td>\n",
       "      <td>0</td>\n",
       "      <td>0</td>\n",
       "    </tr>\n",
       "    <tr>\n",
       "      <th>...</th>\n",
       "      <td>...</td>\n",
       "      <td>...</td>\n",
       "      <td>...</td>\n",
       "      <td>...</td>\n",
       "      <td>...</td>\n",
       "      <td>...</td>\n",
       "    </tr>\n",
       "    <tr>\n",
       "      <th>19127</th>\n",
       "      <td>1</td>\n",
       "      <td>0</td>\n",
       "      <td>0</td>\n",
       "      <td>0</td>\n",
       "      <td>0</td>\n",
       "      <td>0</td>\n",
       "    </tr>\n",
       "    <tr>\n",
       "      <th>19128</th>\n",
       "      <td>1</td>\n",
       "      <td>0</td>\n",
       "      <td>0</td>\n",
       "      <td>0</td>\n",
       "      <td>0</td>\n",
       "      <td>0</td>\n",
       "    </tr>\n",
       "    <tr>\n",
       "      <th>19129</th>\n",
       "      <td>1</td>\n",
       "      <td>0</td>\n",
       "      <td>0</td>\n",
       "      <td>0</td>\n",
       "      <td>0</td>\n",
       "      <td>0</td>\n",
       "    </tr>\n",
       "    <tr>\n",
       "      <th>19130</th>\n",
       "      <td>0</td>\n",
       "      <td>0</td>\n",
       "      <td>0</td>\n",
       "      <td>0</td>\n",
       "      <td>0</td>\n",
       "      <td>1</td>\n",
       "    </tr>\n",
       "    <tr>\n",
       "      <th>19132</th>\n",
       "      <td>1</td>\n",
       "      <td>0</td>\n",
       "      <td>0</td>\n",
       "      <td>0</td>\n",
       "      <td>0</td>\n",
       "      <td>0</td>\n",
       "    </tr>\n",
       "  </tbody>\n",
       "</table>\n",
       "<p>17822 rows × 6 columns</p>\n",
       "</div>"
      ],
      "text/plain": [
       "       e_wallet_payments  other_debit_cards  sbi_atm_cum_debit_card  \\\n",
       "0                      0                  0                       0   \n",
       "1                      1                  0                       0   \n",
       "2                      0                  0                       1   \n",
       "3                      0                  0                       0   \n",
       "4                      1                  0                       0   \n",
       "...                  ...                ...                     ...   \n",
       "19127                  1                  0                       0   \n",
       "19128                  1                  0                       0   \n",
       "19129                  1                  0                       0   \n",
       "19130                  0                  0                       0   \n",
       "19132                  1                  0                       0   \n",
       "\n",
       "       unified_payments_interface  visa_master_credit_cards  \\\n",
       "0                               0                         0   \n",
       "1                               0                         0   \n",
       "2                               0                         0   \n",
       "3                               0                         1   \n",
       "4                               0                         0   \n",
       "...                           ...                       ...   \n",
       "19127                           0                         0   \n",
       "19128                           0                         0   \n",
       "19129                           0                         0   \n",
       "19130                           0                         0   \n",
       "19132                           0                         0   \n",
       "\n",
       "       visa_master_debit_cards  \n",
       "0                            1  \n",
       "1                            0  \n",
       "2                            0  \n",
       "3                            0  \n",
       "4                            0  \n",
       "...                        ...  \n",
       "19127                        0  \n",
       "19128                        0  \n",
       "19129                        0  \n",
       "19130                        1  \n",
       "19132                        0  \n",
       "\n",
       "[17822 rows x 6 columns]"
      ]
     },
     "execution_count": 66,
     "metadata": {},
     "output_type": "execute_result"
    }
   ],
   "source": [
    "cat2_test=pd.get_dummies(d2['payment_method'])\n",
    "cat2_test"
   ]
  },
  {
   "cell_type": "code",
   "execution_count": 67,
   "metadata": {
    "colab": {
     "base_uri": "https://localhost:8080/",
     "height": 424
    },
    "id": "yj0Q95VUooni",
    "outputId": "027d01ba-b29c-4891-94f9-b500ca3ddc05"
   },
   "outputs": [
    {
     "data": {
      "text/html": [
       "<div>\n",
       "<style scoped>\n",
       "    .dataframe tbody tr th:only-of-type {\n",
       "        vertical-align: middle;\n",
       "    }\n",
       "\n",
       "    .dataframe tbody tr th {\n",
       "        vertical-align: top;\n",
       "    }\n",
       "\n",
       "    .dataframe thead th {\n",
       "        text-align: right;\n",
       "    }\n",
       "</style>\n",
       "<table border=\"1\" class=\"dataframe\">\n",
       "  <thead>\n",
       "    <tr style=\"text-align: right;\">\n",
       "      <th></th>\n",
       "      <th>android_devices</th>\n",
       "      <th>ios_devices</th>\n",
       "      <th>other_pcs</th>\n",
       "      <th>windows_pcs</th>\n",
       "    </tr>\n",
       "  </thead>\n",
       "  <tbody>\n",
       "    <tr>\n",
       "      <th>0</th>\n",
       "      <td>1</td>\n",
       "      <td>0</td>\n",
       "      <td>0</td>\n",
       "      <td>0</td>\n",
       "    </tr>\n",
       "    <tr>\n",
       "      <th>1</th>\n",
       "      <td>0</td>\n",
       "      <td>0</td>\n",
       "      <td>1</td>\n",
       "      <td>0</td>\n",
       "    </tr>\n",
       "    <tr>\n",
       "      <th>2</th>\n",
       "      <td>0</td>\n",
       "      <td>0</td>\n",
       "      <td>1</td>\n",
       "      <td>0</td>\n",
       "    </tr>\n",
       "    <tr>\n",
       "      <th>3</th>\n",
       "      <td>0</td>\n",
       "      <td>0</td>\n",
       "      <td>1</td>\n",
       "      <td>0</td>\n",
       "    </tr>\n",
       "    <tr>\n",
       "      <th>4</th>\n",
       "      <td>0</td>\n",
       "      <td>0</td>\n",
       "      <td>1</td>\n",
       "      <td>0</td>\n",
       "    </tr>\n",
       "    <tr>\n",
       "      <th>...</th>\n",
       "      <td>...</td>\n",
       "      <td>...</td>\n",
       "      <td>...</td>\n",
       "      <td>...</td>\n",
       "    </tr>\n",
       "    <tr>\n",
       "      <th>76524</th>\n",
       "      <td>1</td>\n",
       "      <td>0</td>\n",
       "      <td>0</td>\n",
       "      <td>0</td>\n",
       "    </tr>\n",
       "    <tr>\n",
       "      <th>76525</th>\n",
       "      <td>0</td>\n",
       "      <td>0</td>\n",
       "      <td>1</td>\n",
       "      <td>0</td>\n",
       "    </tr>\n",
       "    <tr>\n",
       "      <th>76526</th>\n",
       "      <td>1</td>\n",
       "      <td>0</td>\n",
       "      <td>0</td>\n",
       "      <td>0</td>\n",
       "    </tr>\n",
       "    <tr>\n",
       "      <th>76527</th>\n",
       "      <td>1</td>\n",
       "      <td>0</td>\n",
       "      <td>0</td>\n",
       "      <td>0</td>\n",
       "    </tr>\n",
       "    <tr>\n",
       "      <th>76528</th>\n",
       "      <td>1</td>\n",
       "      <td>0</td>\n",
       "      <td>0</td>\n",
       "      <td>0</td>\n",
       "    </tr>\n",
       "  </tbody>\n",
       "</table>\n",
       "<p>75052 rows × 4 columns</p>\n",
       "</div>"
      ],
      "text/plain": [
       "       android_devices  ios_devices  other_pcs  windows_pcs\n",
       "0                    1            0          0            0\n",
       "1                    0            0          1            0\n",
       "2                    0            0          1            0\n",
       "3                    0            0          1            0\n",
       "4                    0            0          1            0\n",
       "...                ...          ...        ...          ...\n",
       "76524                1            0          0            0\n",
       "76525                0            0          1            0\n",
       "76526                1            0          0            0\n",
       "76527                1            0          0            0\n",
       "76528                1            0          0            0\n",
       "\n",
       "[75052 rows x 4 columns]"
      ]
     },
     "execution_count": 67,
     "metadata": {},
     "output_type": "execute_result"
    }
   ],
   "source": [
    "cat3=pd.get_dummies(d1['device_type'])\n",
    "cat3"
   ]
  },
  {
   "cell_type": "code",
   "execution_count": 68,
   "metadata": {
    "colab": {
     "base_uri": "https://localhost:8080/",
     "height": 424
    },
    "id": "OkQ0c-i4SdMa",
    "outputId": "d2afc36d-fd40-45b3-d850-a5f80af44cfd"
   },
   "outputs": [
    {
     "data": {
      "text/html": [
       "<div>\n",
       "<style scoped>\n",
       "    .dataframe tbody tr th:only-of-type {\n",
       "        vertical-align: middle;\n",
       "    }\n",
       "\n",
       "    .dataframe tbody tr th {\n",
       "        vertical-align: top;\n",
       "    }\n",
       "\n",
       "    .dataframe thead th {\n",
       "        text-align: right;\n",
       "    }\n",
       "</style>\n",
       "<table border=\"1\" class=\"dataframe\">\n",
       "  <thead>\n",
       "    <tr style=\"text-align: right;\">\n",
       "      <th></th>\n",
       "      <th>android_devices</th>\n",
       "      <th>ios_devices</th>\n",
       "      <th>other_pcs</th>\n",
       "      <th>windows_pcs</th>\n",
       "    </tr>\n",
       "  </thead>\n",
       "  <tbody>\n",
       "    <tr>\n",
       "      <th>0</th>\n",
       "      <td>0</td>\n",
       "      <td>0</td>\n",
       "      <td>1</td>\n",
       "      <td>0</td>\n",
       "    </tr>\n",
       "    <tr>\n",
       "      <th>1</th>\n",
       "      <td>0</td>\n",
       "      <td>0</td>\n",
       "      <td>1</td>\n",
       "      <td>0</td>\n",
       "    </tr>\n",
       "    <tr>\n",
       "      <th>2</th>\n",
       "      <td>1</td>\n",
       "      <td>0</td>\n",
       "      <td>0</td>\n",
       "      <td>0</td>\n",
       "    </tr>\n",
       "    <tr>\n",
       "      <th>3</th>\n",
       "      <td>0</td>\n",
       "      <td>0</td>\n",
       "      <td>1</td>\n",
       "      <td>0</td>\n",
       "    </tr>\n",
       "    <tr>\n",
       "      <th>4</th>\n",
       "      <td>0</td>\n",
       "      <td>0</td>\n",
       "      <td>1</td>\n",
       "      <td>0</td>\n",
       "    </tr>\n",
       "    <tr>\n",
       "      <th>...</th>\n",
       "      <td>...</td>\n",
       "      <td>...</td>\n",
       "      <td>...</td>\n",
       "      <td>...</td>\n",
       "    </tr>\n",
       "    <tr>\n",
       "      <th>19127</th>\n",
       "      <td>0</td>\n",
       "      <td>0</td>\n",
       "      <td>1</td>\n",
       "      <td>0</td>\n",
       "    </tr>\n",
       "    <tr>\n",
       "      <th>19128</th>\n",
       "      <td>0</td>\n",
       "      <td>0</td>\n",
       "      <td>1</td>\n",
       "      <td>0</td>\n",
       "    </tr>\n",
       "    <tr>\n",
       "      <th>19129</th>\n",
       "      <td>0</td>\n",
       "      <td>0</td>\n",
       "      <td>1</td>\n",
       "      <td>0</td>\n",
       "    </tr>\n",
       "    <tr>\n",
       "      <th>19130</th>\n",
       "      <td>0</td>\n",
       "      <td>0</td>\n",
       "      <td>1</td>\n",
       "      <td>0</td>\n",
       "    </tr>\n",
       "    <tr>\n",
       "      <th>19132</th>\n",
       "      <td>0</td>\n",
       "      <td>0</td>\n",
       "      <td>1</td>\n",
       "      <td>0</td>\n",
       "    </tr>\n",
       "  </tbody>\n",
       "</table>\n",
       "<p>17822 rows × 4 columns</p>\n",
       "</div>"
      ],
      "text/plain": [
       "       android_devices  ios_devices  other_pcs  windows_pcs\n",
       "0                    0            0          1            0\n",
       "1                    0            0          1            0\n",
       "2                    1            0          0            0\n",
       "3                    0            0          1            0\n",
       "4                    0            0          1            0\n",
       "...                ...          ...        ...          ...\n",
       "19127                0            0          1            0\n",
       "19128                0            0          1            0\n",
       "19129                0            0          1            0\n",
       "19130                0            0          1            0\n",
       "19132                0            0          1            0\n",
       "\n",
       "[17822 rows x 4 columns]"
      ]
     },
     "execution_count": 68,
     "metadata": {},
     "output_type": "execute_result"
    }
   ],
   "source": [
    "cat3_test=pd.get_dummies(d2['device_type'])\n",
    "cat3_test"
   ]
  },
  {
   "cell_type": "code",
   "execution_count": 69,
   "metadata": {
    "id": "HUWu0edTrdD8"
   },
   "outputs": [],
   "source": [
    "fraud=pd.get_dummies(d1['is_fraud'],drop_first=True)"
   ]
  },
  {
   "cell_type": "code",
   "execution_count": 70,
   "metadata": {
    "colab": {
     "base_uri": "https://localhost:8080/",
     "height": 488
    },
    "id": "UePq6tmRrmFX",
    "outputId": "cb7dc1aa-7813-4372-dcba-41faafa82f9f",
    "scrolled": true
   },
   "outputs": [
    {
     "data": {
      "text/html": [
       "<div>\n",
       "<style scoped>\n",
       "    .dataframe tbody tr th:only-of-type {\n",
       "        vertical-align: middle;\n",
       "    }\n",
       "\n",
       "    .dataframe tbody tr th {\n",
       "        vertical-align: top;\n",
       "    }\n",
       "\n",
       "    .dataframe thead th {\n",
       "        text-align: right;\n",
       "    }\n",
       "</style>\n",
       "<table border=\"1\" class=\"dataframe\">\n",
       "  <thead>\n",
       "    <tr style=\"text-align: right;\">\n",
       "      <th></th>\n",
       "      <th>user_id</th>\n",
       "      <th>payment_method</th>\n",
       "      <th>partner_id</th>\n",
       "      <th>partner_category</th>\n",
       "      <th>device_type</th>\n",
       "      <th>money_transacted</th>\n",
       "      <th>partner_pricing_category</th>\n",
       "      <th>is_fraud</th>\n",
       "      <th>year</th>\n",
       "      <th>month</th>\n",
       "      <th>...</th>\n",
       "      <th>e_wallet_payments</th>\n",
       "      <th>other_debit_cards</th>\n",
       "      <th>sbi_atm_cum_debit_card</th>\n",
       "      <th>unified_payments_interface</th>\n",
       "      <th>visa_master_credit_cards</th>\n",
       "      <th>visa_master_debit_cards</th>\n",
       "      <th>android_devices</th>\n",
       "      <th>ios_devices</th>\n",
       "      <th>other_pcs</th>\n",
       "      <th>windows_pcs</th>\n",
       "    </tr>\n",
       "  </thead>\n",
       "  <tbody>\n",
       "    <tr>\n",
       "      <th>0</th>\n",
       "      <td>17539344</td>\n",
       "      <td>sbi_atm_cum_debit_card</td>\n",
       "      <td>47334</td>\n",
       "      <td>cat_1</td>\n",
       "      <td>android_devices</td>\n",
       "      <td>-5.0</td>\n",
       "      <td>2</td>\n",
       "      <td>0</td>\n",
       "      <td>2016</td>\n",
       "      <td>11</td>\n",
       "      <td>...</td>\n",
       "      <td>0</td>\n",
       "      <td>0</td>\n",
       "      <td>1</td>\n",
       "      <td>0</td>\n",
       "      <td>0</td>\n",
       "      <td>0</td>\n",
       "      <td>1</td>\n",
       "      <td>0</td>\n",
       "      <td>0</td>\n",
       "      <td>0</td>\n",
       "    </tr>\n",
       "    <tr>\n",
       "      <th>1</th>\n",
       "      <td>24710841</td>\n",
       "      <td>e_wallet_payments</td>\n",
       "      <td>78890</td>\n",
       "      <td>cat_2</td>\n",
       "      <td>other_pcs</td>\n",
       "      <td>100.0</td>\n",
       "      <td>2</td>\n",
       "      <td>0</td>\n",
       "      <td>2017</td>\n",
       "      <td>1</td>\n",
       "      <td>...</td>\n",
       "      <td>1</td>\n",
       "      <td>0</td>\n",
       "      <td>0</td>\n",
       "      <td>0</td>\n",
       "      <td>0</td>\n",
       "      <td>0</td>\n",
       "      <td>0</td>\n",
       "      <td>0</td>\n",
       "      <td>1</td>\n",
       "      <td>0</td>\n",
       "    </tr>\n",
       "    <tr>\n",
       "      <th>2</th>\n",
       "      <td>24265476</td>\n",
       "      <td>e_wallet_payments</td>\n",
       "      <td>78890</td>\n",
       "      <td>cat_2</td>\n",
       "      <td>other_pcs</td>\n",
       "      <td>50.0</td>\n",
       "      <td>2</td>\n",
       "      <td>0</td>\n",
       "      <td>2016</td>\n",
       "      <td>12</td>\n",
       "      <td>...</td>\n",
       "      <td>1</td>\n",
       "      <td>0</td>\n",
       "      <td>0</td>\n",
       "      <td>0</td>\n",
       "      <td>0</td>\n",
       "      <td>0</td>\n",
       "      <td>0</td>\n",
       "      <td>0</td>\n",
       "      <td>1</td>\n",
       "      <td>0</td>\n",
       "    </tr>\n",
       "    <tr>\n",
       "      <th>3</th>\n",
       "      <td>10240000</td>\n",
       "      <td>other_debit_cards</td>\n",
       "      <td>102557</td>\n",
       "      <td>cat_3</td>\n",
       "      <td>other_pcs</td>\n",
       "      <td>1000.0</td>\n",
       "      <td>2</td>\n",
       "      <td>0</td>\n",
       "      <td>2017</td>\n",
       "      <td>1</td>\n",
       "      <td>...</td>\n",
       "      <td>0</td>\n",
       "      <td>1</td>\n",
       "      <td>0</td>\n",
       "      <td>0</td>\n",
       "      <td>0</td>\n",
       "      <td>0</td>\n",
       "      <td>0</td>\n",
       "      <td>0</td>\n",
       "      <td>1</td>\n",
       "      <td>0</td>\n",
       "    </tr>\n",
       "    <tr>\n",
       "      <th>4</th>\n",
       "      <td>5880625</td>\n",
       "      <td>other_debit_cards</td>\n",
       "      <td>118335</td>\n",
       "      <td>cat_1</td>\n",
       "      <td>other_pcs</td>\n",
       "      <td>200.0</td>\n",
       "      <td>2</td>\n",
       "      <td>0</td>\n",
       "      <td>2016</td>\n",
       "      <td>11</td>\n",
       "      <td>...</td>\n",
       "      <td>0</td>\n",
       "      <td>1</td>\n",
       "      <td>0</td>\n",
       "      <td>0</td>\n",
       "      <td>0</td>\n",
       "      <td>0</td>\n",
       "      <td>0</td>\n",
       "      <td>0</td>\n",
       "      <td>1</td>\n",
       "      <td>0</td>\n",
       "    </tr>\n",
       "    <tr>\n",
       "      <th>...</th>\n",
       "      <td>...</td>\n",
       "      <td>...</td>\n",
       "      <td>...</td>\n",
       "      <td>...</td>\n",
       "      <td>...</td>\n",
       "      <td>...</td>\n",
       "      <td>...</td>\n",
       "      <td>...</td>\n",
       "      <td>...</td>\n",
       "      <td>...</td>\n",
       "      <td>...</td>\n",
       "      <td>...</td>\n",
       "      <td>...</td>\n",
       "      <td>...</td>\n",
       "      <td>...</td>\n",
       "      <td>...</td>\n",
       "      <td>...</td>\n",
       "      <td>...</td>\n",
       "      <td>...</td>\n",
       "      <td>...</td>\n",
       "      <td>...</td>\n",
       "    </tr>\n",
       "    <tr>\n",
       "      <th>76524</th>\n",
       "      <td>19686969</td>\n",
       "      <td>sbi_atm_cum_debit_card</td>\n",
       "      <td>47334</td>\n",
       "      <td>cat_1</td>\n",
       "      <td>android_devices</td>\n",
       "      <td>-100.0</td>\n",
       "      <td>2</td>\n",
       "      <td>0</td>\n",
       "      <td>2016</td>\n",
       "      <td>11</td>\n",
       "      <td>...</td>\n",
       "      <td>0</td>\n",
       "      <td>0</td>\n",
       "      <td>1</td>\n",
       "      <td>0</td>\n",
       "      <td>0</td>\n",
       "      <td>0</td>\n",
       "      <td>1</td>\n",
       "      <td>0</td>\n",
       "      <td>0</td>\n",
       "      <td>0</td>\n",
       "    </tr>\n",
       "    <tr>\n",
       "      <th>76525</th>\n",
       "      <td>11662225</td>\n",
       "      <td>visa_master_debit_cards</td>\n",
       "      <td>118335</td>\n",
       "      <td>cat_1</td>\n",
       "      <td>other_pcs</td>\n",
       "      <td>200.0</td>\n",
       "      <td>2</td>\n",
       "      <td>0</td>\n",
       "      <td>2017</td>\n",
       "      <td>1</td>\n",
       "      <td>...</td>\n",
       "      <td>0</td>\n",
       "      <td>0</td>\n",
       "      <td>0</td>\n",
       "      <td>0</td>\n",
       "      <td>0</td>\n",
       "      <td>1</td>\n",
       "      <td>0</td>\n",
       "      <td>0</td>\n",
       "      <td>1</td>\n",
       "      <td>0</td>\n",
       "    </tr>\n",
       "    <tr>\n",
       "      <th>76526</th>\n",
       "      <td>374544</td>\n",
       "      <td>sbi_atm_cum_debit_card</td>\n",
       "      <td>47334</td>\n",
       "      <td>cat_1</td>\n",
       "      <td>android_devices</td>\n",
       "      <td>-3.5</td>\n",
       "      <td>2</td>\n",
       "      <td>0</td>\n",
       "      <td>2016</td>\n",
       "      <td>12</td>\n",
       "      <td>...</td>\n",
       "      <td>0</td>\n",
       "      <td>0</td>\n",
       "      <td>1</td>\n",
       "      <td>0</td>\n",
       "      <td>0</td>\n",
       "      <td>0</td>\n",
       "      <td>1</td>\n",
       "      <td>0</td>\n",
       "      <td>0</td>\n",
       "      <td>0</td>\n",
       "    </tr>\n",
       "    <tr>\n",
       "      <th>76527</th>\n",
       "      <td>1687401</td>\n",
       "      <td>sbi_atm_cum_debit_card</td>\n",
       "      <td>47334</td>\n",
       "      <td>cat_1</td>\n",
       "      <td>android_devices</td>\n",
       "      <td>-20.0</td>\n",
       "      <td>2</td>\n",
       "      <td>0</td>\n",
       "      <td>2016</td>\n",
       "      <td>12</td>\n",
       "      <td>...</td>\n",
       "      <td>0</td>\n",
       "      <td>0</td>\n",
       "      <td>1</td>\n",
       "      <td>0</td>\n",
       "      <td>0</td>\n",
       "      <td>0</td>\n",
       "      <td>1</td>\n",
       "      <td>0</td>\n",
       "      <td>0</td>\n",
       "      <td>0</td>\n",
       "    </tr>\n",
       "    <tr>\n",
       "      <th>76528</th>\n",
       "      <td>6754801</td>\n",
       "      <td>sbi_atm_cum_debit_card</td>\n",
       "      <td>47334</td>\n",
       "      <td>cat_1</td>\n",
       "      <td>android_devices</td>\n",
       "      <td>-100.0</td>\n",
       "      <td>2</td>\n",
       "      <td>0</td>\n",
       "      <td>2017</td>\n",
       "      <td>1</td>\n",
       "      <td>...</td>\n",
       "      <td>0</td>\n",
       "      <td>0</td>\n",
       "      <td>1</td>\n",
       "      <td>0</td>\n",
       "      <td>0</td>\n",
       "      <td>0</td>\n",
       "      <td>1</td>\n",
       "      <td>0</td>\n",
       "      <td>0</td>\n",
       "      <td>0</td>\n",
       "    </tr>\n",
       "  </tbody>\n",
       "</table>\n",
       "<p>75052 rows × 30 columns</p>\n",
       "</div>"
      ],
      "text/plain": [
       "        user_id           payment_method  partner_id partner_category  \\\n",
       "0      17539344   sbi_atm_cum_debit_card       47334            cat_1   \n",
       "1      24710841        e_wallet_payments       78890            cat_2   \n",
       "2      24265476        e_wallet_payments       78890            cat_2   \n",
       "3      10240000        other_debit_cards      102557            cat_3   \n",
       "4       5880625        other_debit_cards      118335            cat_1   \n",
       "...         ...                      ...         ...              ...   \n",
       "76524  19686969   sbi_atm_cum_debit_card       47334            cat_1   \n",
       "76525  11662225  visa_master_debit_cards      118335            cat_1   \n",
       "76526    374544   sbi_atm_cum_debit_card       47334            cat_1   \n",
       "76527   1687401   sbi_atm_cum_debit_card       47334            cat_1   \n",
       "76528   6754801   sbi_atm_cum_debit_card       47334            cat_1   \n",
       "\n",
       "           device_type  money_transacted  partner_pricing_category  is_fraud  \\\n",
       "0      android_devices              -5.0                         2         0   \n",
       "1            other_pcs             100.0                         2         0   \n",
       "2            other_pcs              50.0                         2         0   \n",
       "3            other_pcs            1000.0                         2         0   \n",
       "4            other_pcs             200.0                         2         0   \n",
       "...                ...               ...                       ...       ...   \n",
       "76524  android_devices            -100.0                         2         0   \n",
       "76525        other_pcs             200.0                         2         0   \n",
       "76526  android_devices              -3.5                         2         0   \n",
       "76527  android_devices             -20.0                         2         0   \n",
       "76528  android_devices            -100.0                         2         0   \n",
       "\n",
       "       year  month  ...  e_wallet_payments  other_debit_cards  \\\n",
       "0      2016     11  ...                  0                  0   \n",
       "1      2017      1  ...                  1                  0   \n",
       "2      2016     12  ...                  1                  0   \n",
       "3      2017      1  ...                  0                  1   \n",
       "4      2016     11  ...                  0                  1   \n",
       "...     ...    ...  ...                ...                ...   \n",
       "76524  2016     11  ...                  0                  0   \n",
       "76525  2017      1  ...                  0                  0   \n",
       "76526  2016     12  ...                  0                  0   \n",
       "76527  2016     12  ...                  0                  0   \n",
       "76528  2017      1  ...                  0                  0   \n",
       "\n",
       "       sbi_atm_cum_debit_card  unified_payments_interface  \\\n",
       "0                           1                           0   \n",
       "1                           0                           0   \n",
       "2                           0                           0   \n",
       "3                           0                           0   \n",
       "4                           0                           0   \n",
       "...                       ...                         ...   \n",
       "76524                       1                           0   \n",
       "76525                       0                           0   \n",
       "76526                       1                           0   \n",
       "76527                       1                           0   \n",
       "76528                       1                           0   \n",
       "\n",
       "       visa_master_credit_cards  visa_master_debit_cards  android_devices  \\\n",
       "0                             0                        0                1   \n",
       "1                             0                        0                0   \n",
       "2                             0                        0                0   \n",
       "3                             0                        0                0   \n",
       "4                             0                        0                0   \n",
       "...                         ...                      ...              ...   \n",
       "76524                         0                        0                1   \n",
       "76525                         0                        1                0   \n",
       "76526                         0                        0                1   \n",
       "76527                         0                        0                1   \n",
       "76528                         0                        0                1   \n",
       "\n",
       "       ios_devices  other_pcs  windows_pcs  \n",
       "0                0          0            0  \n",
       "1                0          1            0  \n",
       "2                0          1            0  \n",
       "3                0          1            0  \n",
       "4                0          1            0  \n",
       "...            ...        ...          ...  \n",
       "76524            0          0            0  \n",
       "76525            0          1            0  \n",
       "76526            0          0            0  \n",
       "76527            0          0            0  \n",
       "76528            0          0            0  \n",
       "\n",
       "[75052 rows x 30 columns]"
      ]
     },
     "execution_count": 70,
     "metadata": {},
     "output_type": "execute_result"
    }
   ],
   "source": [
    "final_d1=pd.concat([d1,fraud,cat1,cat2,cat3],axis=1)\n",
    "final_d1"
   ]
  },
  {
   "cell_type": "code",
   "execution_count": 71,
   "metadata": {
    "colab": {
     "base_uri": "https://localhost:8080/",
     "height": 488
    },
    "id": "o4_PFDfSSngX",
    "outputId": "80bc637e-8166-401c-fa9c-f9c682381afe"
   },
   "outputs": [
    {
     "data": {
      "text/html": [
       "<div>\n",
       "<style scoped>\n",
       "    .dataframe tbody tr th:only-of-type {\n",
       "        vertical-align: middle;\n",
       "    }\n",
       "\n",
       "    .dataframe tbody tr th {\n",
       "        vertical-align: top;\n",
       "    }\n",
       "\n",
       "    .dataframe thead th {\n",
       "        text-align: right;\n",
       "    }\n",
       "</style>\n",
       "<table border=\"1\" class=\"dataframe\">\n",
       "  <thead>\n",
       "    <tr style=\"text-align: right;\">\n",
       "      <th></th>\n",
       "      <th>user_id</th>\n",
       "      <th>payment_method</th>\n",
       "      <th>partner_id</th>\n",
       "      <th>partner_category</th>\n",
       "      <th>device_type</th>\n",
       "      <th>money_transacted</th>\n",
       "      <th>partner_pricing_category</th>\n",
       "      <th>year</th>\n",
       "      <th>month</th>\n",
       "      <th>day</th>\n",
       "      <th>...</th>\n",
       "      <th>e_wallet_payments</th>\n",
       "      <th>other_debit_cards</th>\n",
       "      <th>sbi_atm_cum_debit_card</th>\n",
       "      <th>unified_payments_interface</th>\n",
       "      <th>visa_master_credit_cards</th>\n",
       "      <th>visa_master_debit_cards</th>\n",
       "      <th>android_devices</th>\n",
       "      <th>ios_devices</th>\n",
       "      <th>other_pcs</th>\n",
       "      <th>windows_pcs</th>\n",
       "    </tr>\n",
       "  </thead>\n",
       "  <tbody>\n",
       "    <tr>\n",
       "      <th>0</th>\n",
       "      <td>3802500</td>\n",
       "      <td>visa_master_debit_cards</td>\n",
       "      <td>118335</td>\n",
       "      <td>cat_1</td>\n",
       "      <td>other_pcs</td>\n",
       "      <td>200.0</td>\n",
       "      <td>2</td>\n",
       "      <td>2016</td>\n",
       "      <td>12</td>\n",
       "      <td>28</td>\n",
       "      <td>...</td>\n",
       "      <td>0</td>\n",
       "      <td>0</td>\n",
       "      <td>0</td>\n",
       "      <td>0</td>\n",
       "      <td>0</td>\n",
       "      <td>1</td>\n",
       "      <td>0</td>\n",
       "      <td>0</td>\n",
       "      <td>1</td>\n",
       "      <td>0</td>\n",
       "    </tr>\n",
       "    <tr>\n",
       "      <th>1</th>\n",
       "      <td>200704</td>\n",
       "      <td>e_wallet_payments</td>\n",
       "      <td>23667</td>\n",
       "      <td>cat_2</td>\n",
       "      <td>other_pcs</td>\n",
       "      <td>20.0</td>\n",
       "      <td>2</td>\n",
       "      <td>2016</td>\n",
       "      <td>12</td>\n",
       "      <td>14</td>\n",
       "      <td>...</td>\n",
       "      <td>1</td>\n",
       "      <td>0</td>\n",
       "      <td>0</td>\n",
       "      <td>0</td>\n",
       "      <td>0</td>\n",
       "      <td>0</td>\n",
       "      <td>0</td>\n",
       "      <td>0</td>\n",
       "      <td>1</td>\n",
       "      <td>0</td>\n",
       "    </tr>\n",
       "    <tr>\n",
       "      <th>2</th>\n",
       "      <td>25150225</td>\n",
       "      <td>sbi_atm_cum_debit_card</td>\n",
       "      <td>47334</td>\n",
       "      <td>cat_1</td>\n",
       "      <td>android_devices</td>\n",
       "      <td>-100.0</td>\n",
       "      <td>2</td>\n",
       "      <td>2017</td>\n",
       "      <td>1</td>\n",
       "      <td>21</td>\n",
       "      <td>...</td>\n",
       "      <td>0</td>\n",
       "      <td>0</td>\n",
       "      <td>1</td>\n",
       "      <td>0</td>\n",
       "      <td>0</td>\n",
       "      <td>0</td>\n",
       "      <td>1</td>\n",
       "      <td>0</td>\n",
       "      <td>0</td>\n",
       "      <td>0</td>\n",
       "    </tr>\n",
       "    <tr>\n",
       "      <th>3</th>\n",
       "      <td>21827584</td>\n",
       "      <td>visa_master_credit_cards</td>\n",
       "      <td>78890</td>\n",
       "      <td>cat_2</td>\n",
       "      <td>other_pcs</td>\n",
       "      <td>200.0</td>\n",
       "      <td>1</td>\n",
       "      <td>2017</td>\n",
       "      <td>1</td>\n",
       "      <td>16</td>\n",
       "      <td>...</td>\n",
       "      <td>0</td>\n",
       "      <td>0</td>\n",
       "      <td>0</td>\n",
       "      <td>0</td>\n",
       "      <td>1</td>\n",
       "      <td>0</td>\n",
       "      <td>0</td>\n",
       "      <td>0</td>\n",
       "      <td>1</td>\n",
       "      <td>0</td>\n",
       "    </tr>\n",
       "    <tr>\n",
       "      <th>4</th>\n",
       "      <td>576081</td>\n",
       "      <td>e_wallet_payments</td>\n",
       "      <td>23667</td>\n",
       "      <td>cat_2</td>\n",
       "      <td>other_pcs</td>\n",
       "      <td>100.0</td>\n",
       "      <td>2</td>\n",
       "      <td>2017</td>\n",
       "      <td>2</td>\n",
       "      <td>9</td>\n",
       "      <td>...</td>\n",
       "      <td>1</td>\n",
       "      <td>0</td>\n",
       "      <td>0</td>\n",
       "      <td>0</td>\n",
       "      <td>0</td>\n",
       "      <td>0</td>\n",
       "      <td>0</td>\n",
       "      <td>0</td>\n",
       "      <td>1</td>\n",
       "      <td>0</td>\n",
       "    </tr>\n",
       "    <tr>\n",
       "      <th>...</th>\n",
       "      <td>...</td>\n",
       "      <td>...</td>\n",
       "      <td>...</td>\n",
       "      <td>...</td>\n",
       "      <td>...</td>\n",
       "      <td>...</td>\n",
       "      <td>...</td>\n",
       "      <td>...</td>\n",
       "      <td>...</td>\n",
       "      <td>...</td>\n",
       "      <td>...</td>\n",
       "      <td>...</td>\n",
       "      <td>...</td>\n",
       "      <td>...</td>\n",
       "      <td>...</td>\n",
       "      <td>...</td>\n",
       "      <td>...</td>\n",
       "      <td>...</td>\n",
       "      <td>...</td>\n",
       "      <td>...</td>\n",
       "      <td>...</td>\n",
       "    </tr>\n",
       "    <tr>\n",
       "      <th>19127</th>\n",
       "      <td>17665209</td>\n",
       "      <td>e_wallet_payments</td>\n",
       "      <td>7889</td>\n",
       "      <td>cat_2</td>\n",
       "      <td>other_pcs</td>\n",
       "      <td>80.0</td>\n",
       "      <td>2</td>\n",
       "      <td>2017</td>\n",
       "      <td>2</td>\n",
       "      <td>4</td>\n",
       "      <td>...</td>\n",
       "      <td>1</td>\n",
       "      <td>0</td>\n",
       "      <td>0</td>\n",
       "      <td>0</td>\n",
       "      <td>0</td>\n",
       "      <td>0</td>\n",
       "      <td>0</td>\n",
       "      <td>0</td>\n",
       "      <td>1</td>\n",
       "      <td>0</td>\n",
       "    </tr>\n",
       "    <tr>\n",
       "      <th>19128</th>\n",
       "      <td>13235044</td>\n",
       "      <td>e_wallet_payments</td>\n",
       "      <td>23667</td>\n",
       "      <td>cat_2</td>\n",
       "      <td>other_pcs</td>\n",
       "      <td>20.0</td>\n",
       "      <td>2</td>\n",
       "      <td>2017</td>\n",
       "      <td>1</td>\n",
       "      <td>1</td>\n",
       "      <td>...</td>\n",
       "      <td>1</td>\n",
       "      <td>0</td>\n",
       "      <td>0</td>\n",
       "      <td>0</td>\n",
       "      <td>0</td>\n",
       "      <td>0</td>\n",
       "      <td>0</td>\n",
       "      <td>0</td>\n",
       "      <td>1</td>\n",
       "      <td>0</td>\n",
       "    </tr>\n",
       "    <tr>\n",
       "      <th>19129</th>\n",
       "      <td>12257001</td>\n",
       "      <td>e_wallet_payments</td>\n",
       "      <td>78890</td>\n",
       "      <td>cat_2</td>\n",
       "      <td>other_pcs</td>\n",
       "      <td>30.0</td>\n",
       "      <td>2</td>\n",
       "      <td>2016</td>\n",
       "      <td>12</td>\n",
       "      <td>26</td>\n",
       "      <td>...</td>\n",
       "      <td>1</td>\n",
       "      <td>0</td>\n",
       "      <td>0</td>\n",
       "      <td>0</td>\n",
       "      <td>0</td>\n",
       "      <td>0</td>\n",
       "      <td>0</td>\n",
       "      <td>0</td>\n",
       "      <td>1</td>\n",
       "      <td>0</td>\n",
       "    </tr>\n",
       "    <tr>\n",
       "      <th>19130</th>\n",
       "      <td>5958481</td>\n",
       "      <td>visa_master_debit_cards</td>\n",
       "      <td>23667</td>\n",
       "      <td>cat_2</td>\n",
       "      <td>other_pcs</td>\n",
       "      <td>20.0</td>\n",
       "      <td>4</td>\n",
       "      <td>2016</td>\n",
       "      <td>12</td>\n",
       "      <td>24</td>\n",
       "      <td>...</td>\n",
       "      <td>0</td>\n",
       "      <td>0</td>\n",
       "      <td>0</td>\n",
       "      <td>0</td>\n",
       "      <td>0</td>\n",
       "      <td>1</td>\n",
       "      <td>0</td>\n",
       "      <td>0</td>\n",
       "      <td>1</td>\n",
       "      <td>0</td>\n",
       "    </tr>\n",
       "    <tr>\n",
       "      <th>19132</th>\n",
       "      <td>14500864</td>\n",
       "      <td>e_wallet_payments</td>\n",
       "      <td>78890</td>\n",
       "      <td>cat_2</td>\n",
       "      <td>other_pcs</td>\n",
       "      <td>40.0</td>\n",
       "      <td>2</td>\n",
       "      <td>2017</td>\n",
       "      <td>1</td>\n",
       "      <td>12</td>\n",
       "      <td>...</td>\n",
       "      <td>1</td>\n",
       "      <td>0</td>\n",
       "      <td>0</td>\n",
       "      <td>0</td>\n",
       "      <td>0</td>\n",
       "      <td>0</td>\n",
       "      <td>0</td>\n",
       "      <td>0</td>\n",
       "      <td>1</td>\n",
       "      <td>0</td>\n",
       "    </tr>\n",
       "  </tbody>\n",
       "</table>\n",
       "<p>17822 rows × 27 columns</p>\n",
       "</div>"
      ],
      "text/plain": [
       "        user_id            payment_method  partner_id partner_category  \\\n",
       "0       3802500   visa_master_debit_cards      118335            cat_1   \n",
       "1        200704         e_wallet_payments       23667            cat_2   \n",
       "2      25150225    sbi_atm_cum_debit_card       47334            cat_1   \n",
       "3      21827584  visa_master_credit_cards       78890            cat_2   \n",
       "4        576081         e_wallet_payments       23667            cat_2   \n",
       "...         ...                       ...         ...              ...   \n",
       "19127  17665209         e_wallet_payments        7889            cat_2   \n",
       "19128  13235044         e_wallet_payments       23667            cat_2   \n",
       "19129  12257001         e_wallet_payments       78890            cat_2   \n",
       "19130   5958481   visa_master_debit_cards       23667            cat_2   \n",
       "19132  14500864         e_wallet_payments       78890            cat_2   \n",
       "\n",
       "           device_type  money_transacted  partner_pricing_category  year  \\\n",
       "0            other_pcs             200.0                         2  2016   \n",
       "1            other_pcs              20.0                         2  2016   \n",
       "2      android_devices            -100.0                         2  2017   \n",
       "3            other_pcs             200.0                         1  2017   \n",
       "4            other_pcs             100.0                         2  2017   \n",
       "...                ...               ...                       ...   ...   \n",
       "19127        other_pcs              80.0                         2  2017   \n",
       "19128        other_pcs              20.0                         2  2017   \n",
       "19129        other_pcs              30.0                         2  2016   \n",
       "19130        other_pcs              20.0                         4  2016   \n",
       "19132        other_pcs              40.0                         2  2017   \n",
       "\n",
       "       month  day  ...  e_wallet_payments  other_debit_cards  \\\n",
       "0         12   28  ...                  0                  0   \n",
       "1         12   14  ...                  1                  0   \n",
       "2          1   21  ...                  0                  0   \n",
       "3          1   16  ...                  0                  0   \n",
       "4          2    9  ...                  1                  0   \n",
       "...      ...  ...  ...                ...                ...   \n",
       "19127      2    4  ...                  1                  0   \n",
       "19128      1    1  ...                  1                  0   \n",
       "19129     12   26  ...                  1                  0   \n",
       "19130     12   24  ...                  0                  0   \n",
       "19132      1   12  ...                  1                  0   \n",
       "\n",
       "       sbi_atm_cum_debit_card  unified_payments_interface  \\\n",
       "0                           0                           0   \n",
       "1                           0                           0   \n",
       "2                           1                           0   \n",
       "3                           0                           0   \n",
       "4                           0                           0   \n",
       "...                       ...                         ...   \n",
       "19127                       0                           0   \n",
       "19128                       0                           0   \n",
       "19129                       0                           0   \n",
       "19130                       0                           0   \n",
       "19132                       0                           0   \n",
       "\n",
       "       visa_master_credit_cards  visa_master_debit_cards  android_devices  \\\n",
       "0                             0                        1                0   \n",
       "1                             0                        0                0   \n",
       "2                             0                        0                1   \n",
       "3                             1                        0                0   \n",
       "4                             0                        0                0   \n",
       "...                         ...                      ...              ...   \n",
       "19127                         0                        0                0   \n",
       "19128                         0                        0                0   \n",
       "19129                         0                        0                0   \n",
       "19130                         0                        1                0   \n",
       "19132                         0                        0                0   \n",
       "\n",
       "       ios_devices  other_pcs  windows_pcs  \n",
       "0                0          1            0  \n",
       "1                0          1            0  \n",
       "2                0          0            0  \n",
       "3                0          1            0  \n",
       "4                0          1            0  \n",
       "...            ...        ...          ...  \n",
       "19127            0          1            0  \n",
       "19128            0          1            0  \n",
       "19129            0          1            0  \n",
       "19130            0          1            0  \n",
       "19132            0          1            0  \n",
       "\n",
       "[17822 rows x 27 columns]"
      ]
     },
     "execution_count": 71,
     "metadata": {},
     "output_type": "execute_result"
    }
   ],
   "source": [
    "final_d2=pd.concat([d2,cat1_test,cat2_test,cat3_test],axis=1)\n",
    "final_d2"
   ]
  },
  {
   "cell_type": "code",
   "execution_count": 72,
   "metadata": {
    "colab": {
     "base_uri": "https://localhost:8080/"
    },
    "id": "zW6naSG1w5tY",
    "outputId": "825bf0cf-9881-4f96-fd21-a17b299f39c5"
   },
   "outputs": [
    {
     "data": {
      "text/plain": [
       "user_id                          int64\n",
       "payment_method                category\n",
       "partner_id                       int64\n",
       "partner_category              category\n",
       "device_type                   category\n",
       "money_transacted               float64\n",
       "partner_pricing_category         int64\n",
       "is_fraud                         int64\n",
       "year                             int64\n",
       "month                            int64\n",
       "day                              int64\n",
       "1                                uint8\n",
       "cat_1                            uint8\n",
       "cat_2                            uint8\n",
       "cat_3                            uint8\n",
       "cat_4                            uint8\n",
       "cat_5                            uint8\n",
       "cat_7                            uint8\n",
       "cat_8                            uint8\n",
       "cat_9                            uint8\n",
       "e_wallet_payments                uint8\n",
       "other_debit_cards                uint8\n",
       "sbi_atm_cum_debit_card           uint8\n",
       "unified_payments_interface       uint8\n",
       "visa_master_credit_cards         uint8\n",
       "visa_master_debit_cards          uint8\n",
       "android_devices                  uint8\n",
       "ios_devices                      uint8\n",
       "other_pcs                        uint8\n",
       "windows_pcs                      uint8\n",
       "dtype: object"
      ]
     },
     "execution_count": 72,
     "metadata": {},
     "output_type": "execute_result"
    }
   ],
   "source": [
    "final_d1.dtypes"
   ]
  },
  {
   "cell_type": "code",
   "execution_count": 73,
   "metadata": {
    "colab": {
     "base_uri": "https://localhost:8080/"
    },
    "id": "bMPaUDvWSymu",
    "outputId": "95a2a442-d1f9-4cc4-e01f-44dd59e34159"
   },
   "outputs": [
    {
     "data": {
      "text/plain": [
       "user_id                          int64\n",
       "payment_method                category\n",
       "partner_id                       int64\n",
       "partner_category              category\n",
       "device_type                   category\n",
       "money_transacted               float64\n",
       "partner_pricing_category         int64\n",
       "year                             int64\n",
       "month                            int64\n",
       "day                              int64\n",
       "cat_1                            uint8\n",
       "cat_2                            uint8\n",
       "cat_3                            uint8\n",
       "cat_4                            uint8\n",
       "cat_5                            uint8\n",
       "cat_7                            uint8\n",
       "cat_8                            uint8\n",
       "e_wallet_payments                uint8\n",
       "other_debit_cards                uint8\n",
       "sbi_atm_cum_debit_card           uint8\n",
       "unified_payments_interface       uint8\n",
       "visa_master_credit_cards         uint8\n",
       "visa_master_debit_cards          uint8\n",
       "android_devices                  uint8\n",
       "ios_devices                      uint8\n",
       "other_pcs                        uint8\n",
       "windows_pcs                      uint8\n",
       "dtype: object"
      ]
     },
     "execution_count": 73,
     "metadata": {},
     "output_type": "execute_result"
    }
   ],
   "source": [
    "final_d2.dtypes"
   ]
  },
  {
   "cell_type": "code",
   "execution_count": 74,
   "metadata": {
    "id": "VNUmQbkTpH9R"
   },
   "outputs": [],
   "source": [
    "final_d1.drop(['payment_method','partner_category','device_type'],axis=1,inplace=True)"
   ]
  },
  {
   "cell_type": "code",
   "execution_count": 75,
   "metadata": {
    "id": "589no9vJS5O5"
   },
   "outputs": [],
   "source": [
    "final_d2.drop(['payment_method','partner_category','device_type'],axis=1,inplace=True)"
   ]
  },
  {
   "cell_type": "code",
   "execution_count": 76,
   "metadata": {
    "colab": {
     "base_uri": "https://localhost:8080/"
    },
    "id": "8UDShzGhxXzh",
    "outputId": "23863630-9cd0-48d6-b327-1f5166200303"
   },
   "outputs": [
    {
     "data": {
      "text/plain": [
       "user_id                         int64\n",
       "partner_id                      int64\n",
       "money_transacted              float64\n",
       "partner_pricing_category        int64\n",
       "is_fraud                        int64\n",
       "year                            int64\n",
       "month                           int64\n",
       "day                             int64\n",
       "1                               uint8\n",
       "cat_1                           uint8\n",
       "cat_2                           uint8\n",
       "cat_3                           uint8\n",
       "cat_4                           uint8\n",
       "cat_5                           uint8\n",
       "cat_7                           uint8\n",
       "cat_8                           uint8\n",
       "cat_9                           uint8\n",
       "e_wallet_payments               uint8\n",
       "other_debit_cards               uint8\n",
       "sbi_atm_cum_debit_card          uint8\n",
       "unified_payments_interface      uint8\n",
       "visa_master_credit_cards        uint8\n",
       "visa_master_debit_cards         uint8\n",
       "android_devices                 uint8\n",
       "ios_devices                     uint8\n",
       "other_pcs                       uint8\n",
       "windows_pcs                     uint8\n",
       "dtype: object"
      ]
     },
     "execution_count": 76,
     "metadata": {},
     "output_type": "execute_result"
    }
   ],
   "source": [
    "final_d1.dtypes"
   ]
  },
  {
   "cell_type": "code",
   "execution_count": 77,
   "metadata": {
    "id": "Epizu5vFVGiS"
   },
   "outputs": [],
   "source": [
    "final_d1.drop([1],axis=1,inplace=True)"
   ]
  },
  {
   "cell_type": "code",
   "execution_count": 78,
   "metadata": {
    "colab": {
     "base_uri": "https://localhost:8080/"
    },
    "id": "PLyY-HdbVX6n",
    "outputId": "da202e93-2cc4-46b5-c53b-efb355a426da"
   },
   "outputs": [
    {
     "data": {
      "text/plain": [
       "Index(['user_id', 'partner_id', 'money_transacted', 'partner_pricing_category',\n",
       "       'is_fraud', 'year', 'month', 'day', 'cat_1', 'cat_2', 'cat_3', 'cat_4',\n",
       "       'cat_5', 'cat_7', 'cat_8', 'cat_9', 'e_wallet_payments',\n",
       "       'other_debit_cards', 'sbi_atm_cum_debit_card',\n",
       "       'unified_payments_interface', 'visa_master_credit_cards',\n",
       "       'visa_master_debit_cards', 'android_devices', 'ios_devices',\n",
       "       'other_pcs', 'windows_pcs'],\n",
       "      dtype='object')"
      ]
     },
     "execution_count": 78,
     "metadata": {},
     "output_type": "execute_result"
    }
   ],
   "source": [
    "final_d1.columns"
   ]
  },
  {
   "cell_type": "code",
   "execution_count": 79,
   "metadata": {
    "colab": {
     "base_uri": "https://localhost:8080/"
    },
    "id": "6pDJKqEDS_Lg",
    "outputId": "8b9a2311-e246-418f-94f5-98e95046bb6d"
   },
   "outputs": [
    {
     "data": {
      "text/plain": [
       "user_id                         int64\n",
       "partner_id                      int64\n",
       "money_transacted              float64\n",
       "partner_pricing_category        int64\n",
       "year                            int64\n",
       "month                           int64\n",
       "day                             int64\n",
       "cat_1                           uint8\n",
       "cat_2                           uint8\n",
       "cat_3                           uint8\n",
       "cat_4                           uint8\n",
       "cat_5                           uint8\n",
       "cat_7                           uint8\n",
       "cat_8                           uint8\n",
       "e_wallet_payments               uint8\n",
       "other_debit_cards               uint8\n",
       "sbi_atm_cum_debit_card          uint8\n",
       "unified_payments_interface      uint8\n",
       "visa_master_credit_cards        uint8\n",
       "visa_master_debit_cards         uint8\n",
       "android_devices                 uint8\n",
       "ios_devices                     uint8\n",
       "other_pcs                       uint8\n",
       "windows_pcs                     uint8\n",
       "dtype: object"
      ]
     },
     "execution_count": 79,
     "metadata": {},
     "output_type": "execute_result"
    }
   ],
   "source": [
    "final_d2.dtypes"
   ]
  },
  {
   "cell_type": "code",
   "execution_count": 80,
   "metadata": {
    "colab": {
     "base_uri": "https://localhost:8080/",
     "height": 488
    },
    "id": "X7x_zMf20jI-",
    "outputId": "6e6db630-6a69-4628-e91f-7d4c1482611c"
   },
   "outputs": [
    {
     "data": {
      "text/html": [
       "<div>\n",
       "<style scoped>\n",
       "    .dataframe tbody tr th:only-of-type {\n",
       "        vertical-align: middle;\n",
       "    }\n",
       "\n",
       "    .dataframe tbody tr th {\n",
       "        vertical-align: top;\n",
       "    }\n",
       "\n",
       "    .dataframe thead th {\n",
       "        text-align: right;\n",
       "    }\n",
       "</style>\n",
       "<table border=\"1\" class=\"dataframe\">\n",
       "  <thead>\n",
       "    <tr style=\"text-align: right;\">\n",
       "      <th></th>\n",
       "      <th>user_id</th>\n",
       "      <th>partner_id</th>\n",
       "      <th>money_transacted</th>\n",
       "      <th>partner_pricing_category</th>\n",
       "      <th>is_fraud</th>\n",
       "      <th>year</th>\n",
       "      <th>month</th>\n",
       "      <th>day</th>\n",
       "      <th>cat_1</th>\n",
       "      <th>cat_2</th>\n",
       "      <th>...</th>\n",
       "      <th>e_wallet_payments</th>\n",
       "      <th>other_debit_cards</th>\n",
       "      <th>sbi_atm_cum_debit_card</th>\n",
       "      <th>unified_payments_interface</th>\n",
       "      <th>visa_master_credit_cards</th>\n",
       "      <th>visa_master_debit_cards</th>\n",
       "      <th>android_devices</th>\n",
       "      <th>ios_devices</th>\n",
       "      <th>other_pcs</th>\n",
       "      <th>windows_pcs</th>\n",
       "    </tr>\n",
       "  </thead>\n",
       "  <tbody>\n",
       "    <tr>\n",
       "      <th>0</th>\n",
       "      <td>17539344</td>\n",
       "      <td>47334</td>\n",
       "      <td>-5.0</td>\n",
       "      <td>2</td>\n",
       "      <td>0</td>\n",
       "      <td>2016</td>\n",
       "      <td>11</td>\n",
       "      <td>15</td>\n",
       "      <td>1</td>\n",
       "      <td>0</td>\n",
       "      <td>...</td>\n",
       "      <td>0</td>\n",
       "      <td>0</td>\n",
       "      <td>1</td>\n",
       "      <td>0</td>\n",
       "      <td>0</td>\n",
       "      <td>0</td>\n",
       "      <td>1</td>\n",
       "      <td>0</td>\n",
       "      <td>0</td>\n",
       "      <td>0</td>\n",
       "    </tr>\n",
       "    <tr>\n",
       "      <th>1</th>\n",
       "      <td>24710841</td>\n",
       "      <td>78890</td>\n",
       "      <td>100.0</td>\n",
       "      <td>2</td>\n",
       "      <td>0</td>\n",
       "      <td>2017</td>\n",
       "      <td>1</td>\n",
       "      <td>11</td>\n",
       "      <td>0</td>\n",
       "      <td>1</td>\n",
       "      <td>...</td>\n",
       "      <td>1</td>\n",
       "      <td>0</td>\n",
       "      <td>0</td>\n",
       "      <td>0</td>\n",
       "      <td>0</td>\n",
       "      <td>0</td>\n",
       "      <td>0</td>\n",
       "      <td>0</td>\n",
       "      <td>1</td>\n",
       "      <td>0</td>\n",
       "    </tr>\n",
       "    <tr>\n",
       "      <th>2</th>\n",
       "      <td>24265476</td>\n",
       "      <td>78890</td>\n",
       "      <td>50.0</td>\n",
       "      <td>2</td>\n",
       "      <td>0</td>\n",
       "      <td>2016</td>\n",
       "      <td>12</td>\n",
       "      <td>7</td>\n",
       "      <td>0</td>\n",
       "      <td>1</td>\n",
       "      <td>...</td>\n",
       "      <td>1</td>\n",
       "      <td>0</td>\n",
       "      <td>0</td>\n",
       "      <td>0</td>\n",
       "      <td>0</td>\n",
       "      <td>0</td>\n",
       "      <td>0</td>\n",
       "      <td>0</td>\n",
       "      <td>1</td>\n",
       "      <td>0</td>\n",
       "    </tr>\n",
       "    <tr>\n",
       "      <th>3</th>\n",
       "      <td>10240000</td>\n",
       "      <td>102557</td>\n",
       "      <td>1000.0</td>\n",
       "      <td>2</td>\n",
       "      <td>0</td>\n",
       "      <td>2017</td>\n",
       "      <td>1</td>\n",
       "      <td>11</td>\n",
       "      <td>0</td>\n",
       "      <td>0</td>\n",
       "      <td>...</td>\n",
       "      <td>0</td>\n",
       "      <td>1</td>\n",
       "      <td>0</td>\n",
       "      <td>0</td>\n",
       "      <td>0</td>\n",
       "      <td>0</td>\n",
       "      <td>0</td>\n",
       "      <td>0</td>\n",
       "      <td>1</td>\n",
       "      <td>0</td>\n",
       "    </tr>\n",
       "    <tr>\n",
       "      <th>4</th>\n",
       "      <td>5880625</td>\n",
       "      <td>118335</td>\n",
       "      <td>200.0</td>\n",
       "      <td>2</td>\n",
       "      <td>0</td>\n",
       "      <td>2016</td>\n",
       "      <td>11</td>\n",
       "      <td>16</td>\n",
       "      <td>1</td>\n",
       "      <td>0</td>\n",
       "      <td>...</td>\n",
       "      <td>0</td>\n",
       "      <td>1</td>\n",
       "      <td>0</td>\n",
       "      <td>0</td>\n",
       "      <td>0</td>\n",
       "      <td>0</td>\n",
       "      <td>0</td>\n",
       "      <td>0</td>\n",
       "      <td>1</td>\n",
       "      <td>0</td>\n",
       "    </tr>\n",
       "    <tr>\n",
       "      <th>...</th>\n",
       "      <td>...</td>\n",
       "      <td>...</td>\n",
       "      <td>...</td>\n",
       "      <td>...</td>\n",
       "      <td>...</td>\n",
       "      <td>...</td>\n",
       "      <td>...</td>\n",
       "      <td>...</td>\n",
       "      <td>...</td>\n",
       "      <td>...</td>\n",
       "      <td>...</td>\n",
       "      <td>...</td>\n",
       "      <td>...</td>\n",
       "      <td>...</td>\n",
       "      <td>...</td>\n",
       "      <td>...</td>\n",
       "      <td>...</td>\n",
       "      <td>...</td>\n",
       "      <td>...</td>\n",
       "      <td>...</td>\n",
       "      <td>...</td>\n",
       "    </tr>\n",
       "    <tr>\n",
       "      <th>76524</th>\n",
       "      <td>19686969</td>\n",
       "      <td>47334</td>\n",
       "      <td>-100.0</td>\n",
       "      <td>2</td>\n",
       "      <td>0</td>\n",
       "      <td>2016</td>\n",
       "      <td>11</td>\n",
       "      <td>30</td>\n",
       "      <td>1</td>\n",
       "      <td>0</td>\n",
       "      <td>...</td>\n",
       "      <td>0</td>\n",
       "      <td>0</td>\n",
       "      <td>1</td>\n",
       "      <td>0</td>\n",
       "      <td>0</td>\n",
       "      <td>0</td>\n",
       "      <td>1</td>\n",
       "      <td>0</td>\n",
       "      <td>0</td>\n",
       "      <td>0</td>\n",
       "    </tr>\n",
       "    <tr>\n",
       "      <th>76525</th>\n",
       "      <td>11662225</td>\n",
       "      <td>118335</td>\n",
       "      <td>200.0</td>\n",
       "      <td>2</td>\n",
       "      <td>0</td>\n",
       "      <td>2017</td>\n",
       "      <td>1</td>\n",
       "      <td>8</td>\n",
       "      <td>1</td>\n",
       "      <td>0</td>\n",
       "      <td>...</td>\n",
       "      <td>0</td>\n",
       "      <td>0</td>\n",
       "      <td>0</td>\n",
       "      <td>0</td>\n",
       "      <td>0</td>\n",
       "      <td>1</td>\n",
       "      <td>0</td>\n",
       "      <td>0</td>\n",
       "      <td>1</td>\n",
       "      <td>0</td>\n",
       "    </tr>\n",
       "    <tr>\n",
       "      <th>76526</th>\n",
       "      <td>374544</td>\n",
       "      <td>47334</td>\n",
       "      <td>-3.5</td>\n",
       "      <td>2</td>\n",
       "      <td>0</td>\n",
       "      <td>2016</td>\n",
       "      <td>12</td>\n",
       "      <td>26</td>\n",
       "      <td>1</td>\n",
       "      <td>0</td>\n",
       "      <td>...</td>\n",
       "      <td>0</td>\n",
       "      <td>0</td>\n",
       "      <td>1</td>\n",
       "      <td>0</td>\n",
       "      <td>0</td>\n",
       "      <td>0</td>\n",
       "      <td>1</td>\n",
       "      <td>0</td>\n",
       "      <td>0</td>\n",
       "      <td>0</td>\n",
       "    </tr>\n",
       "    <tr>\n",
       "      <th>76527</th>\n",
       "      <td>1687401</td>\n",
       "      <td>47334</td>\n",
       "      <td>-20.0</td>\n",
       "      <td>2</td>\n",
       "      <td>0</td>\n",
       "      <td>2016</td>\n",
       "      <td>12</td>\n",
       "      <td>11</td>\n",
       "      <td>1</td>\n",
       "      <td>0</td>\n",
       "      <td>...</td>\n",
       "      <td>0</td>\n",
       "      <td>0</td>\n",
       "      <td>1</td>\n",
       "      <td>0</td>\n",
       "      <td>0</td>\n",
       "      <td>0</td>\n",
       "      <td>1</td>\n",
       "      <td>0</td>\n",
       "      <td>0</td>\n",
       "      <td>0</td>\n",
       "    </tr>\n",
       "    <tr>\n",
       "      <th>76528</th>\n",
       "      <td>6754801</td>\n",
       "      <td>47334</td>\n",
       "      <td>-100.0</td>\n",
       "      <td>2</td>\n",
       "      <td>0</td>\n",
       "      <td>2017</td>\n",
       "      <td>1</td>\n",
       "      <td>11</td>\n",
       "      <td>1</td>\n",
       "      <td>0</td>\n",
       "      <td>...</td>\n",
       "      <td>0</td>\n",
       "      <td>0</td>\n",
       "      <td>1</td>\n",
       "      <td>0</td>\n",
       "      <td>0</td>\n",
       "      <td>0</td>\n",
       "      <td>1</td>\n",
       "      <td>0</td>\n",
       "      <td>0</td>\n",
       "      <td>0</td>\n",
       "    </tr>\n",
       "  </tbody>\n",
       "</table>\n",
       "<p>75052 rows × 26 columns</p>\n",
       "</div>"
      ],
      "text/plain": [
       "        user_id  partner_id  money_transacted  partner_pricing_category  \\\n",
       "0      17539344       47334              -5.0                         2   \n",
       "1      24710841       78890             100.0                         2   \n",
       "2      24265476       78890              50.0                         2   \n",
       "3      10240000      102557            1000.0                         2   \n",
       "4       5880625      118335             200.0                         2   \n",
       "...         ...         ...               ...                       ...   \n",
       "76524  19686969       47334            -100.0                         2   \n",
       "76525  11662225      118335             200.0                         2   \n",
       "76526    374544       47334              -3.5                         2   \n",
       "76527   1687401       47334             -20.0                         2   \n",
       "76528   6754801       47334            -100.0                         2   \n",
       "\n",
       "       is_fraud  year  month  day  cat_1  cat_2  ...  e_wallet_payments  \\\n",
       "0             0  2016     11   15      1      0  ...                  0   \n",
       "1             0  2017      1   11      0      1  ...                  1   \n",
       "2             0  2016     12    7      0      1  ...                  1   \n",
       "3             0  2017      1   11      0      0  ...                  0   \n",
       "4             0  2016     11   16      1      0  ...                  0   \n",
       "...         ...   ...    ...  ...    ...    ...  ...                ...   \n",
       "76524         0  2016     11   30      1      0  ...                  0   \n",
       "76525         0  2017      1    8      1      0  ...                  0   \n",
       "76526         0  2016     12   26      1      0  ...                  0   \n",
       "76527         0  2016     12   11      1      0  ...                  0   \n",
       "76528         0  2017      1   11      1      0  ...                  0   \n",
       "\n",
       "       other_debit_cards  sbi_atm_cum_debit_card  unified_payments_interface  \\\n",
       "0                      0                       1                           0   \n",
       "1                      0                       0                           0   \n",
       "2                      0                       0                           0   \n",
       "3                      1                       0                           0   \n",
       "4                      1                       0                           0   \n",
       "...                  ...                     ...                         ...   \n",
       "76524                  0                       1                           0   \n",
       "76525                  0                       0                           0   \n",
       "76526                  0                       1                           0   \n",
       "76527                  0                       1                           0   \n",
       "76528                  0                       1                           0   \n",
       "\n",
       "       visa_master_credit_cards  visa_master_debit_cards  android_devices  \\\n",
       "0                             0                        0                1   \n",
       "1                             0                        0                0   \n",
       "2                             0                        0                0   \n",
       "3                             0                        0                0   \n",
       "4                             0                        0                0   \n",
       "...                         ...                      ...              ...   \n",
       "76524                         0                        0                1   \n",
       "76525                         0                        1                0   \n",
       "76526                         0                        0                1   \n",
       "76527                         0                        0                1   \n",
       "76528                         0                        0                1   \n",
       "\n",
       "       ios_devices  other_pcs  windows_pcs  \n",
       "0                0          0            0  \n",
       "1                0          1            0  \n",
       "2                0          1            0  \n",
       "3                0          1            0  \n",
       "4                0          1            0  \n",
       "...            ...        ...          ...  \n",
       "76524            0          0            0  \n",
       "76525            0          1            0  \n",
       "76526            0          0            0  \n",
       "76527            0          0            0  \n",
       "76528            0          0            0  \n",
       "\n",
       "[75052 rows x 26 columns]"
      ]
     },
     "execution_count": 80,
     "metadata": {},
     "output_type": "execute_result"
    }
   ],
   "source": [
    "final_d1"
   ]
  },
  {
   "cell_type": "code",
   "execution_count": 81,
   "metadata": {
    "colab": {
     "base_uri": "https://localhost:8080/",
     "height": 488
    },
    "id": "unTbrnUdTD0p",
    "outputId": "25d185cc-7816-4926-a839-c56259c63f5f"
   },
   "outputs": [
    {
     "data": {
      "text/html": [
       "<div>\n",
       "<style scoped>\n",
       "    .dataframe tbody tr th:only-of-type {\n",
       "        vertical-align: middle;\n",
       "    }\n",
       "\n",
       "    .dataframe tbody tr th {\n",
       "        vertical-align: top;\n",
       "    }\n",
       "\n",
       "    .dataframe thead th {\n",
       "        text-align: right;\n",
       "    }\n",
       "</style>\n",
       "<table border=\"1\" class=\"dataframe\">\n",
       "  <thead>\n",
       "    <tr style=\"text-align: right;\">\n",
       "      <th></th>\n",
       "      <th>user_id</th>\n",
       "      <th>partner_id</th>\n",
       "      <th>money_transacted</th>\n",
       "      <th>partner_pricing_category</th>\n",
       "      <th>year</th>\n",
       "      <th>month</th>\n",
       "      <th>day</th>\n",
       "      <th>cat_1</th>\n",
       "      <th>cat_2</th>\n",
       "      <th>cat_3</th>\n",
       "      <th>...</th>\n",
       "      <th>e_wallet_payments</th>\n",
       "      <th>other_debit_cards</th>\n",
       "      <th>sbi_atm_cum_debit_card</th>\n",
       "      <th>unified_payments_interface</th>\n",
       "      <th>visa_master_credit_cards</th>\n",
       "      <th>visa_master_debit_cards</th>\n",
       "      <th>android_devices</th>\n",
       "      <th>ios_devices</th>\n",
       "      <th>other_pcs</th>\n",
       "      <th>windows_pcs</th>\n",
       "    </tr>\n",
       "  </thead>\n",
       "  <tbody>\n",
       "    <tr>\n",
       "      <th>0</th>\n",
       "      <td>3802500</td>\n",
       "      <td>118335</td>\n",
       "      <td>200.0</td>\n",
       "      <td>2</td>\n",
       "      <td>2016</td>\n",
       "      <td>12</td>\n",
       "      <td>28</td>\n",
       "      <td>1</td>\n",
       "      <td>0</td>\n",
       "      <td>0</td>\n",
       "      <td>...</td>\n",
       "      <td>0</td>\n",
       "      <td>0</td>\n",
       "      <td>0</td>\n",
       "      <td>0</td>\n",
       "      <td>0</td>\n",
       "      <td>1</td>\n",
       "      <td>0</td>\n",
       "      <td>0</td>\n",
       "      <td>1</td>\n",
       "      <td>0</td>\n",
       "    </tr>\n",
       "    <tr>\n",
       "      <th>1</th>\n",
       "      <td>200704</td>\n",
       "      <td>23667</td>\n",
       "      <td>20.0</td>\n",
       "      <td>2</td>\n",
       "      <td>2016</td>\n",
       "      <td>12</td>\n",
       "      <td>14</td>\n",
       "      <td>0</td>\n",
       "      <td>1</td>\n",
       "      <td>0</td>\n",
       "      <td>...</td>\n",
       "      <td>1</td>\n",
       "      <td>0</td>\n",
       "      <td>0</td>\n",
       "      <td>0</td>\n",
       "      <td>0</td>\n",
       "      <td>0</td>\n",
       "      <td>0</td>\n",
       "      <td>0</td>\n",
       "      <td>1</td>\n",
       "      <td>0</td>\n",
       "    </tr>\n",
       "    <tr>\n",
       "      <th>2</th>\n",
       "      <td>25150225</td>\n",
       "      <td>47334</td>\n",
       "      <td>-100.0</td>\n",
       "      <td>2</td>\n",
       "      <td>2017</td>\n",
       "      <td>1</td>\n",
       "      <td>21</td>\n",
       "      <td>1</td>\n",
       "      <td>0</td>\n",
       "      <td>0</td>\n",
       "      <td>...</td>\n",
       "      <td>0</td>\n",
       "      <td>0</td>\n",
       "      <td>1</td>\n",
       "      <td>0</td>\n",
       "      <td>0</td>\n",
       "      <td>0</td>\n",
       "      <td>1</td>\n",
       "      <td>0</td>\n",
       "      <td>0</td>\n",
       "      <td>0</td>\n",
       "    </tr>\n",
       "    <tr>\n",
       "      <th>3</th>\n",
       "      <td>21827584</td>\n",
       "      <td>78890</td>\n",
       "      <td>200.0</td>\n",
       "      <td>1</td>\n",
       "      <td>2017</td>\n",
       "      <td>1</td>\n",
       "      <td>16</td>\n",
       "      <td>0</td>\n",
       "      <td>1</td>\n",
       "      <td>0</td>\n",
       "      <td>...</td>\n",
       "      <td>0</td>\n",
       "      <td>0</td>\n",
       "      <td>0</td>\n",
       "      <td>0</td>\n",
       "      <td>1</td>\n",
       "      <td>0</td>\n",
       "      <td>0</td>\n",
       "      <td>0</td>\n",
       "      <td>1</td>\n",
       "      <td>0</td>\n",
       "    </tr>\n",
       "    <tr>\n",
       "      <th>4</th>\n",
       "      <td>576081</td>\n",
       "      <td>23667</td>\n",
       "      <td>100.0</td>\n",
       "      <td>2</td>\n",
       "      <td>2017</td>\n",
       "      <td>2</td>\n",
       "      <td>9</td>\n",
       "      <td>0</td>\n",
       "      <td>1</td>\n",
       "      <td>0</td>\n",
       "      <td>...</td>\n",
       "      <td>1</td>\n",
       "      <td>0</td>\n",
       "      <td>0</td>\n",
       "      <td>0</td>\n",
       "      <td>0</td>\n",
       "      <td>0</td>\n",
       "      <td>0</td>\n",
       "      <td>0</td>\n",
       "      <td>1</td>\n",
       "      <td>0</td>\n",
       "    </tr>\n",
       "    <tr>\n",
       "      <th>...</th>\n",
       "      <td>...</td>\n",
       "      <td>...</td>\n",
       "      <td>...</td>\n",
       "      <td>...</td>\n",
       "      <td>...</td>\n",
       "      <td>...</td>\n",
       "      <td>...</td>\n",
       "      <td>...</td>\n",
       "      <td>...</td>\n",
       "      <td>...</td>\n",
       "      <td>...</td>\n",
       "      <td>...</td>\n",
       "      <td>...</td>\n",
       "      <td>...</td>\n",
       "      <td>...</td>\n",
       "      <td>...</td>\n",
       "      <td>...</td>\n",
       "      <td>...</td>\n",
       "      <td>...</td>\n",
       "      <td>...</td>\n",
       "      <td>...</td>\n",
       "    </tr>\n",
       "    <tr>\n",
       "      <th>19127</th>\n",
       "      <td>17665209</td>\n",
       "      <td>7889</td>\n",
       "      <td>80.0</td>\n",
       "      <td>2</td>\n",
       "      <td>2017</td>\n",
       "      <td>2</td>\n",
       "      <td>4</td>\n",
       "      <td>0</td>\n",
       "      <td>1</td>\n",
       "      <td>0</td>\n",
       "      <td>...</td>\n",
       "      <td>1</td>\n",
       "      <td>0</td>\n",
       "      <td>0</td>\n",
       "      <td>0</td>\n",
       "      <td>0</td>\n",
       "      <td>0</td>\n",
       "      <td>0</td>\n",
       "      <td>0</td>\n",
       "      <td>1</td>\n",
       "      <td>0</td>\n",
       "    </tr>\n",
       "    <tr>\n",
       "      <th>19128</th>\n",
       "      <td>13235044</td>\n",
       "      <td>23667</td>\n",
       "      <td>20.0</td>\n",
       "      <td>2</td>\n",
       "      <td>2017</td>\n",
       "      <td>1</td>\n",
       "      <td>1</td>\n",
       "      <td>0</td>\n",
       "      <td>1</td>\n",
       "      <td>0</td>\n",
       "      <td>...</td>\n",
       "      <td>1</td>\n",
       "      <td>0</td>\n",
       "      <td>0</td>\n",
       "      <td>0</td>\n",
       "      <td>0</td>\n",
       "      <td>0</td>\n",
       "      <td>0</td>\n",
       "      <td>0</td>\n",
       "      <td>1</td>\n",
       "      <td>0</td>\n",
       "    </tr>\n",
       "    <tr>\n",
       "      <th>19129</th>\n",
       "      <td>12257001</td>\n",
       "      <td>78890</td>\n",
       "      <td>30.0</td>\n",
       "      <td>2</td>\n",
       "      <td>2016</td>\n",
       "      <td>12</td>\n",
       "      <td>26</td>\n",
       "      <td>0</td>\n",
       "      <td>1</td>\n",
       "      <td>0</td>\n",
       "      <td>...</td>\n",
       "      <td>1</td>\n",
       "      <td>0</td>\n",
       "      <td>0</td>\n",
       "      <td>0</td>\n",
       "      <td>0</td>\n",
       "      <td>0</td>\n",
       "      <td>0</td>\n",
       "      <td>0</td>\n",
       "      <td>1</td>\n",
       "      <td>0</td>\n",
       "    </tr>\n",
       "    <tr>\n",
       "      <th>19130</th>\n",
       "      <td>5958481</td>\n",
       "      <td>23667</td>\n",
       "      <td>20.0</td>\n",
       "      <td>4</td>\n",
       "      <td>2016</td>\n",
       "      <td>12</td>\n",
       "      <td>24</td>\n",
       "      <td>0</td>\n",
       "      <td>1</td>\n",
       "      <td>0</td>\n",
       "      <td>...</td>\n",
       "      <td>0</td>\n",
       "      <td>0</td>\n",
       "      <td>0</td>\n",
       "      <td>0</td>\n",
       "      <td>0</td>\n",
       "      <td>1</td>\n",
       "      <td>0</td>\n",
       "      <td>0</td>\n",
       "      <td>1</td>\n",
       "      <td>0</td>\n",
       "    </tr>\n",
       "    <tr>\n",
       "      <th>19132</th>\n",
       "      <td>14500864</td>\n",
       "      <td>78890</td>\n",
       "      <td>40.0</td>\n",
       "      <td>2</td>\n",
       "      <td>2017</td>\n",
       "      <td>1</td>\n",
       "      <td>12</td>\n",
       "      <td>0</td>\n",
       "      <td>1</td>\n",
       "      <td>0</td>\n",
       "      <td>...</td>\n",
       "      <td>1</td>\n",
       "      <td>0</td>\n",
       "      <td>0</td>\n",
       "      <td>0</td>\n",
       "      <td>0</td>\n",
       "      <td>0</td>\n",
       "      <td>0</td>\n",
       "      <td>0</td>\n",
       "      <td>1</td>\n",
       "      <td>0</td>\n",
       "    </tr>\n",
       "  </tbody>\n",
       "</table>\n",
       "<p>17822 rows × 24 columns</p>\n",
       "</div>"
      ],
      "text/plain": [
       "        user_id  partner_id  money_transacted  partner_pricing_category  year  \\\n",
       "0       3802500      118335             200.0                         2  2016   \n",
       "1        200704       23667              20.0                         2  2016   \n",
       "2      25150225       47334            -100.0                         2  2017   \n",
       "3      21827584       78890             200.0                         1  2017   \n",
       "4        576081       23667             100.0                         2  2017   \n",
       "...         ...         ...               ...                       ...   ...   \n",
       "19127  17665209        7889              80.0                         2  2017   \n",
       "19128  13235044       23667              20.0                         2  2017   \n",
       "19129  12257001       78890              30.0                         2  2016   \n",
       "19130   5958481       23667              20.0                         4  2016   \n",
       "19132  14500864       78890              40.0                         2  2017   \n",
       "\n",
       "       month  day  cat_1  cat_2  cat_3  ...  e_wallet_payments  \\\n",
       "0         12   28      1      0      0  ...                  0   \n",
       "1         12   14      0      1      0  ...                  1   \n",
       "2          1   21      1      0      0  ...                  0   \n",
       "3          1   16      0      1      0  ...                  0   \n",
       "4          2    9      0      1      0  ...                  1   \n",
       "...      ...  ...    ...    ...    ...  ...                ...   \n",
       "19127      2    4      0      1      0  ...                  1   \n",
       "19128      1    1      0      1      0  ...                  1   \n",
       "19129     12   26      0      1      0  ...                  1   \n",
       "19130     12   24      0      1      0  ...                  0   \n",
       "19132      1   12      0      1      0  ...                  1   \n",
       "\n",
       "       other_debit_cards  sbi_atm_cum_debit_card  unified_payments_interface  \\\n",
       "0                      0                       0                           0   \n",
       "1                      0                       0                           0   \n",
       "2                      0                       1                           0   \n",
       "3                      0                       0                           0   \n",
       "4                      0                       0                           0   \n",
       "...                  ...                     ...                         ...   \n",
       "19127                  0                       0                           0   \n",
       "19128                  0                       0                           0   \n",
       "19129                  0                       0                           0   \n",
       "19130                  0                       0                           0   \n",
       "19132                  0                       0                           0   \n",
       "\n",
       "       visa_master_credit_cards  visa_master_debit_cards  android_devices  \\\n",
       "0                             0                        1                0   \n",
       "1                             0                        0                0   \n",
       "2                             0                        0                1   \n",
       "3                             1                        0                0   \n",
       "4                             0                        0                0   \n",
       "...                         ...                      ...              ...   \n",
       "19127                         0                        0                0   \n",
       "19128                         0                        0                0   \n",
       "19129                         0                        0                0   \n",
       "19130                         0                        1                0   \n",
       "19132                         0                        0                0   \n",
       "\n",
       "       ios_devices  other_pcs  windows_pcs  \n",
       "0                0          1            0  \n",
       "1                0          1            0  \n",
       "2                0          0            0  \n",
       "3                0          1            0  \n",
       "4                0          1            0  \n",
       "...            ...        ...          ...  \n",
       "19127            0          1            0  \n",
       "19128            0          1            0  \n",
       "19129            0          1            0  \n",
       "19130            0          1            0  \n",
       "19132            0          1            0  \n",
       "\n",
       "[17822 rows x 24 columns]"
      ]
     },
     "execution_count": 81,
     "metadata": {},
     "output_type": "execute_result"
    }
   ],
   "source": [
    "final_d2"
   ]
  },
  {
   "cell_type": "markdown",
   "metadata": {
    "id": "dWnmEwKDTH_z"
   },
   "source": [
    "####Value Counts"
   ]
  },
  {
   "cell_type": "code",
   "execution_count": 82,
   "metadata": {
    "colab": {
     "base_uri": "https://localhost:8080/"
    },
    "id": "UhSrV7yuUZXr",
    "outputId": "4fd41100-9670-4e24-e12f-4451429e9930"
   },
   "outputs": [
    {
     "data": {
      "text/plain": [
       "is_fraud\n",
       "0    74903\n",
       "1      149\n",
       "dtype: int64"
      ]
     },
     "execution_count": 82,
     "metadata": {},
     "output_type": "execute_result"
    }
   ],
   "source": [
    "final_d1.value_counts('is_fraud')"
   ]
  },
  {
   "cell_type": "markdown",
   "metadata": {
    "id": "cIAcqstjgyGy"
   },
   "source": [
    "##Train_test_split"
   ]
  },
  {
   "cell_type": "code",
   "execution_count": 83,
   "metadata": {
    "id": "BDG1FJSRgAO0"
   },
   "outputs": [],
   "source": [
    "from sklearn.model_selection import train_test_split"
   ]
  },
  {
   "cell_type": "code",
   "execution_count": 84,
   "metadata": {
    "colab": {
     "base_uri": "https://localhost:8080/",
     "height": 328
    },
    "id": "ZXMdNcSDhEJQ",
    "outputId": "092cc2be-1dc3-4dda-e944-7252ce6c6eef"
   },
   "outputs": [],
   "source": [
    "y=final_d1['is_fraud']\n",
    "X=final_d1.drop(['is_fraud','cat_9'],axis=1)"
   ]
  },
  {
   "cell_type": "code",
   "execution_count": 85,
   "metadata": {
    "colab": {
     "base_uri": "https://localhost:8080/",
     "height": 165
    },
    "id": "jAlr_UqMhVf5",
    "outputId": "75102f9c-11bd-4d5f-898b-8297ac054d38"
   },
   "outputs": [],
   "source": [
    "X_train,X_test,y_train,y_test=train_test_split(X,y,test_size=0.20,random_state=123)"
   ]
  },
  {
   "cell_type": "code",
   "execution_count": 86,
   "metadata": {
    "colab": {
     "base_uri": "https://localhost:8080/",
     "height": 217
    },
    "id": "vZWJT7Qwhf74",
    "outputId": "262d2ff2-f302-48d9-b94e-6f472127be0f"
   },
   "outputs": [
    {
     "name": "stdout",
     "output_type": "stream",
     "text": [
      "(60041, 24)\n",
      "(15011, 24)\n",
      "(60041,)\n",
      "(15011,)\n"
     ]
    }
   ],
   "source": [
    "print(X_train.shape)\n",
    "print(X_test.shape)\n",
    "print(y_train.shape)\n",
    "print(y_test.shape)"
   ]
  },
  {
   "cell_type": "markdown",
   "metadata": {
    "id": "kUyXcMl8h55o"
   },
   "source": [
    "##Standardization"
   ]
  },
  {
   "cell_type": "code",
   "execution_count": 87,
   "metadata": {
    "id": "aU4UM15HhkhI"
   },
   "outputs": [],
   "source": [
    "from sklearn.preprocessing import StandardScaler"
   ]
  },
  {
   "cell_type": "code",
   "execution_count": 88,
   "metadata": {
    "id": "XtrbNAumhuvx"
   },
   "outputs": [],
   "source": [
    "scaler=StandardScaler()"
   ]
  },
  {
   "cell_type": "code",
   "execution_count": 89,
   "metadata": {
    "id": "_ZHmGKdJhzz8"
   },
   "outputs": [],
   "source": [
    "X_train=scaler.fit_transform(X_train)\n",
    "X_test=scaler.transform(X_test)"
   ]
  },
  {
   "cell_type": "markdown",
   "metadata": {
    "id": "Rt5Sa1Ac1mk1"
   },
   "source": [
    "##Model Building"
   ]
  },
  {
   "cell_type": "markdown",
   "metadata": {
    "id": "T1QFNaPb1uTk"
   },
   "source": [
    "#####Decision Tree Classifier"
   ]
  },
  {
   "cell_type": "code",
   "execution_count": 90,
   "metadata": {
    "id": "h20zXezah4yT"
   },
   "outputs": [],
   "source": [
    "from sklearn.tree import DecisionTreeClassifier\n",
    "dtc=DecisionTreeClassifier()"
   ]
  },
  {
   "cell_type": "code",
   "execution_count": 91,
   "metadata": {
    "id": "H8kmINlK1-IN"
   },
   "outputs": [],
   "source": [
    "model_dtc=dtc.fit(X_train,y_train)"
   ]
  },
  {
   "cell_type": "code",
   "execution_count": 92,
   "metadata": {
    "id": "aQe7eQGe2Bdp"
   },
   "outputs": [],
   "source": [
    "y_pred_train_dtc=model_dtc.predict(X_train)\n",
    "y_pred_test_dtc=model_dtc.predict(X_test)"
   ]
  },
  {
   "cell_type": "code",
   "execution_count": 93,
   "metadata": {
    "id": "R3u-pOdp2RgU"
   },
   "outputs": [],
   "source": [
    "def error_metrics(test_data,pred_data):\n",
    "  from sklearn.metrics import accuracy_score,recall_score,precision_score,f1_score\n",
    "  List=[accuracy_score(test_data,pred_data),recall_score(test_data,pred_data),precision_score(test_data,pred_data),f1_score(test_data,pred_data)]\n",
    "  print('Accuracy score:\\n',accuracy_score(test_data,pred_data))\n",
    "  print('Recall score:\\n',recall_score(test_data,pred_data))\n",
    "  print('Precision score:\\n',precision_score(test_data,pred_data))\n",
    "  print('F1 score:\\n',f1_score(test_data,pred_data))\n",
    "  print(List)\n",
    "a=['Accuracy_Score','Recall_Score','Precision_Score','F1_Score']"
   ]
  },
  {
   "cell_type": "code",
   "execution_count": 94,
   "metadata": {
    "colab": {
     "base_uri": "https://localhost:8080/"
    },
    "id": "FgpBHXjy2EaW",
    "outputId": "dc97fa75-d860-4024-9a4f-0a641e373384"
   },
   "outputs": [
    {
     "name": "stdout",
     "output_type": "stream",
     "text": [
      "Accuracy score:\n",
      " 0.9999333788577806\n",
      "Recall score:\n",
      " 0.967741935483871\n",
      "Precision score:\n",
      " 1.0\n",
      "F1 score:\n",
      " 0.9836065573770492\n",
      "[0.9999333788577806, 0.967741935483871, 1.0, 0.9836065573770492]\n"
     ]
    }
   ],
   "source": [
    "dtc_error_metrics_train=error_metrics(y_train,y_pred_train_dtc)"
   ]
  },
  {
   "cell_type": "code",
   "execution_count": 95,
   "metadata": {
    "colab": {
     "base_uri": "https://localhost:8080/"
    },
    "id": "BU0T85du2MD3",
    "outputId": "165c7e98-4984-4a51-f29d-0e542e8f593e"
   },
   "outputs": [
    {
     "name": "stdout",
     "output_type": "stream",
     "text": [
      "Accuracy score:\n",
      " 0.9998667643727933\n",
      "Recall score:\n",
      " 0.96\n",
      "Precision score:\n",
      " 0.96\n",
      "F1 score:\n",
      " 0.96\n",
      "[0.9998667643727933, 0.96, 0.96, 0.96]\n"
     ]
    }
   ],
   "source": [
    "dtc_error_metrics_test=error_metrics(y_test,y_pred_test_dtc)"
   ]
  },
  {
   "cell_type": "markdown",
   "metadata": {
    "id": "H5gOin3K6AWD"
   },
   "source": [
    "##Smote"
   ]
  },
  {
   "cell_type": "code",
   "execution_count": 96,
   "metadata": {
    "colab": {
     "base_uri": "https://localhost:8080/"
    },
    "id": "uevl-qGo5-fy",
    "outputId": "5c1a3f63-27f3-4b1d-97fd-127328ca1152"
   },
   "outputs": [
    {
     "ename": "ModuleNotFoundError",
     "evalue": "No module named 'imblearn'",
     "output_type": "error",
     "traceback": [
      "\u001b[1;31m---------------------------------------------------------------------------\u001b[0m",
      "\u001b[1;31mModuleNotFoundError\u001b[0m                       Traceback (most recent call last)",
      "\u001b[1;32m~\\AppData\\Local\\Temp/ipykernel_17056/3548658449.py\u001b[0m in \u001b[0;36m<module>\u001b[1;34m\u001b[0m\n\u001b[0;32m      1\u001b[0m \u001b[1;32mfrom\u001b[0m \u001b[0msklearn\u001b[0m\u001b[1;33m.\u001b[0m\u001b[0mdatasets\u001b[0m \u001b[1;32mimport\u001b[0m \u001b[0mmake_classification\u001b[0m\u001b[1;33m\u001b[0m\u001b[1;33m\u001b[0m\u001b[0m\n\u001b[1;32m----> 2\u001b[1;33m \u001b[1;32mfrom\u001b[0m \u001b[0mimblearn\u001b[0m\u001b[1;33m.\u001b[0m\u001b[0mover_sampling\u001b[0m \u001b[1;32mimport\u001b[0m \u001b[0mSMOTE\u001b[0m\u001b[1;33m\u001b[0m\u001b[1;33m\u001b[0m\u001b[0m\n\u001b[0m\u001b[0;32m      3\u001b[0m \u001b[1;33m\u001b[0m\u001b[0m\n\u001b[0;32m      4\u001b[0m \u001b[1;31m# define dataset\u001b[0m\u001b[1;33m\u001b[0m\u001b[1;33m\u001b[0m\u001b[0m\n\u001b[0;32m      5\u001b[0m \u001b[0mx\u001b[0m\u001b[1;33m,\u001b[0m \u001b[0my\u001b[0m \u001b[1;33m=\u001b[0m \u001b[0mmake_classification\u001b[0m\u001b[1;33m(\u001b[0m\u001b[0mn_samples\u001b[0m\u001b[1;33m=\u001b[0m\u001b[1;36m10000\u001b[0m\u001b[1;33m,\u001b[0m \u001b[0mweights\u001b[0m\u001b[1;33m=\u001b[0m\u001b[1;33m[\u001b[0m\u001b[1;36m0.99\u001b[0m\u001b[1;33m]\u001b[0m\u001b[1;33m,\u001b[0m \u001b[0mflip_y\u001b[0m\u001b[1;33m=\u001b[0m\u001b[1;36m0\u001b[0m\u001b[1;33m)\u001b[0m\u001b[1;33m\u001b[0m\u001b[1;33m\u001b[0m\u001b[0m\n",
      "\u001b[1;31mModuleNotFoundError\u001b[0m: No module named 'imblearn'"
     ]
    }
   ],
   "source": [
    "from sklearn.datasets import make_classification\n",
    "from imblearn.over_sampling import SMOTE\n",
    "  \n",
    "# define dataset\n",
    "x, y = make_classification(n_samples=10000, weights=[0.99], flip_y=0)\n",
    "smote = SMOTE()\n",
    "x_smote, y_smote = smote.fit_resample(x, y)\n",
    "  \n",
    "# print the features and the labels\n",
    "print('x_smote:\\n', x_smote)\n",
    "print('y_smote:\\n', y_smote)"
   ]
  },
  {
   "cell_type": "code",
   "execution_count": 97,
   "metadata": {
    "id": "ppEvMdd759yc"
   },
   "outputs": [],
   "source": [
    "from sklearn.tree import DecisionTreeClassifier\n",
    "dtc=DecisionTreeClassifier()"
   ]
  },
  {
   "cell_type": "code",
   "execution_count": 98,
   "metadata": {
    "id": "3oUX6b0U6ros"
   },
   "outputs": [],
   "source": [
    "model_dtc=dtc.fit(X_train,y_train)"
   ]
  },
  {
   "cell_type": "code",
   "execution_count": 99,
   "metadata": {
    "id": "9Antk2ao6tS7"
   },
   "outputs": [],
   "source": [
    "y_pred_train_dtc=model_dtc.predict(X_train)\n",
    "y_pred_test_dtc=model_dtc.predict(X_test)"
   ]
  },
  {
   "cell_type": "markdown",
   "metadata": {
    "id": "GIcP4l0gUNKJ"
   },
   "source": [
    "Error Metrics For Decision Tree Classifier"
   ]
  },
  {
   "cell_type": "code",
   "execution_count": 100,
   "metadata": {
    "id": "rBqXHKxv6tN9"
   },
   "outputs": [],
   "source": [
    "def error_metrics(test_data,pred_data):\n",
    "  from sklearn.metrics import f1_score\n",
    "  List=f1_score(test_data,pred_data)\n",
    "  print('F1 score:\\n',f1_score(test_data,pred_data))\n",
    "  print(List)\n",
    "a=['F1_Score']"
   ]
  },
  {
   "cell_type": "code",
   "execution_count": 101,
   "metadata": {
    "colab": {
     "base_uri": "https://localhost:8080/"
    },
    "id": "9Zy1f8Ay6tIX",
    "outputId": "67d409de-d401-483b-8681-b4492915bb97"
   },
   "outputs": [
    {
     "name": "stdout",
     "output_type": "stream",
     "text": [
      "F1 score:\n",
      " 0.9836065573770492\n",
      "0.9836065573770492\n"
     ]
    }
   ],
   "source": [
    "dtc_error_metrics_train=error_metrics(y_train,y_pred_train_dtc)"
   ]
  },
  {
   "cell_type": "code",
   "execution_count": 102,
   "metadata": {
    "colab": {
     "base_uri": "https://localhost:8080/"
    },
    "id": "LwJPHTfe6tCC",
    "outputId": "5372ce6b-5cf5-41c3-d816-f363bfe54fe3"
   },
   "outputs": [
    {
     "name": "stdout",
     "output_type": "stream",
     "text": [
      "F1 score:\n",
      " 0.96\n",
      "0.96\n"
     ]
    }
   ],
   "source": [
    "dtc_error_metrics_test=error_metrics(y_test,y_pred_test_dtc)"
   ]
  },
  {
   "cell_type": "code",
   "execution_count": 103,
   "metadata": {
    "id": "JaUrz2VfdAi8"
   },
   "outputs": [],
   "source": [
    "scaler = StandardScaler()\n",
    "scaler.fit(d2[num_attr_d2])\n",
    "d2[num_attr_d2] = scaler.transform(d2[num_attr_d2])"
   ]
  },
  {
   "cell_type": "code",
   "execution_count": 121,
   "metadata": {
    "colab": {
     "base_uri": "https://localhost:8080/",
     "height": 365
    },
    "id": "eXuY-RlPdBIm",
    "outputId": "fd8f7a95-08d2-4d9f-d672-d2695d3fe510"
   },
   "outputs": [],
   "source": [
    "d2_pred=dtc.predict(final_d2)"
   ]
  },
  {
   "cell_type": "code",
   "execution_count": 122,
   "metadata": {},
   "outputs": [
    {
     "name": "stdout",
     "output_type": "stream",
     "text": [
      "[1 0 0 ... 1 0 1]\n"
     ]
    }
   ],
   "source": [
    "print(d2_pred)"
   ]
  },
  {
   "cell_type": "code",
   "execution_count": 123,
   "metadata": {},
   "outputs": [],
   "source": [
    "pd.DataFrame({\"d2predict\":test_pred}).to_csv(\"Submission.csv\")"
   ]
  },
  {
   "cell_type": "code",
   "execution_count": 126,
   "metadata": {},
   "outputs": [
    {
     "data": {
      "text/html": [
       "<div>\n",
       "<style scoped>\n",
       "    .dataframe tbody tr th:only-of-type {\n",
       "        vertical-align: middle;\n",
       "    }\n",
       "\n",
       "    .dataframe tbody tr th {\n",
       "        vertical-align: top;\n",
       "    }\n",
       "\n",
       "    .dataframe thead th {\n",
       "        text-align: right;\n",
       "    }\n",
       "</style>\n",
       "<table border=\"1\" class=\"dataframe\">\n",
       "  <thead>\n",
       "    <tr style=\"text-align: right;\">\n",
       "      <th></th>\n",
       "      <th>Unnamed: 0</th>\n",
       "      <th>d2predict</th>\n",
       "    </tr>\n",
       "  </thead>\n",
       "  <tbody>\n",
       "    <tr>\n",
       "      <th>0</th>\n",
       "      <td>0</td>\n",
       "      <td>1</td>\n",
       "    </tr>\n",
       "    <tr>\n",
       "      <th>1</th>\n",
       "      <td>1</td>\n",
       "      <td>0</td>\n",
       "    </tr>\n",
       "    <tr>\n",
       "      <th>2</th>\n",
       "      <td>2</td>\n",
       "      <td>0</td>\n",
       "    </tr>\n",
       "    <tr>\n",
       "      <th>3</th>\n",
       "      <td>3</td>\n",
       "      <td>1</td>\n",
       "    </tr>\n",
       "    <tr>\n",
       "      <th>4</th>\n",
       "      <td>4</td>\n",
       "      <td>1</td>\n",
       "    </tr>\n",
       "    <tr>\n",
       "      <th>...</th>\n",
       "      <td>...</td>\n",
       "      <td>...</td>\n",
       "    </tr>\n",
       "    <tr>\n",
       "      <th>17817</th>\n",
       "      <td>17817</td>\n",
       "      <td>1</td>\n",
       "    </tr>\n",
       "    <tr>\n",
       "      <th>17818</th>\n",
       "      <td>17818</td>\n",
       "      <td>0</td>\n",
       "    </tr>\n",
       "    <tr>\n",
       "      <th>17819</th>\n",
       "      <td>17819</td>\n",
       "      <td>1</td>\n",
       "    </tr>\n",
       "    <tr>\n",
       "      <th>17820</th>\n",
       "      <td>17820</td>\n",
       "      <td>0</td>\n",
       "    </tr>\n",
       "    <tr>\n",
       "      <th>17821</th>\n",
       "      <td>17821</td>\n",
       "      <td>1</td>\n",
       "    </tr>\n",
       "  </tbody>\n",
       "</table>\n",
       "<p>17822 rows × 2 columns</p>\n",
       "</div>"
      ],
      "text/plain": [
       "       Unnamed: 0  d2predict\n",
       "0               0          1\n",
       "1               1          0\n",
       "2               2          0\n",
       "3               3          1\n",
       "4               4          1\n",
       "...           ...        ...\n",
       "17817       17817          1\n",
       "17818       17818          0\n",
       "17819       17819          1\n",
       "17820       17820          0\n",
       "17821       17821          1\n",
       "\n",
       "[17822 rows x 2 columns]"
      ]
     },
     "execution_count": 126,
     "metadata": {},
     "output_type": "execute_result"
    }
   ],
   "source": [
    "pd.read_csv(\"Submission.csv\")"
   ]
  },
  {
   "cell_type": "code",
   "execution_count": 105,
   "metadata": {
    "colab": {
     "base_uri": "https://localhost:8080/"
    },
    "id": "Cw9sTdDleYVF",
    "outputId": "cddb33a5-e804-4fe2-8419-5f39001d6f35"
   },
   "outputs": [
    {
     "name": "stdout",
     "output_type": "stream",
     "text": [
      "user_id\n",
      "partner_id\n",
      "money_transacted\n",
      "partner_pricing_category\n",
      "is_fraud\n",
      "year\n",
      "month\n",
      "day\n",
      "cat_1\n",
      "cat_2\n",
      "cat_3\n",
      "cat_4\n",
      "cat_5\n",
      "cat_7\n",
      "cat_8\n",
      "cat_9\n",
      "e_wallet_payments\n",
      "other_debit_cards\n",
      "sbi_atm_cum_debit_card\n",
      "unified_payments_interface\n",
      "visa_master_credit_cards\n",
      "visa_master_debit_cards\n",
      "android_devices\n",
      "ios_devices\n",
      "other_pcs\n",
      "windows_pcs\n"
     ]
    }
   ],
   "source": [
    "for i in final_d1:\n",
    "  print(i)"
   ]
  },
  {
   "cell_type": "code",
   "execution_count": 106,
   "metadata": {
    "colab": {
     "base_uri": "https://localhost:8080/"
    },
    "id": "o2iN4JITej6i",
    "outputId": "dd24c78a-5930-4429-d2e6-965c9187aac8"
   },
   "outputs": [
    {
     "name": "stdout",
     "output_type": "stream",
     "text": [
      "user_id\n",
      "partner_id\n",
      "money_transacted\n",
      "partner_pricing_category\n",
      "year\n",
      "month\n",
      "day\n",
      "cat_1\n",
      "cat_2\n",
      "cat_3\n",
      "cat_4\n",
      "cat_5\n",
      "cat_7\n",
      "cat_8\n",
      "e_wallet_payments\n",
      "other_debit_cards\n",
      "sbi_atm_cum_debit_card\n",
      "unified_payments_interface\n",
      "visa_master_credit_cards\n",
      "visa_master_debit_cards\n",
      "android_devices\n",
      "ios_devices\n",
      "other_pcs\n",
      "windows_pcs\n"
     ]
    }
   ],
   "source": [
    "for j in final_d2:\n",
    "  print(j)\n"
   ]
  },
  {
   "cell_type": "markdown",
   "metadata": {
    "id": "OddfGdYm4YEm"
   },
   "source": [
    "##RandomForest Classifier"
   ]
  },
  {
   "cell_type": "code",
   "execution_count": null,
   "metadata": {
    "id": "TSvwMCbl2gzv"
   },
   "outputs": [],
   "source": [
    "from sklearn.ensemble import RandomForestClassifier\n",
    "rfc=RandomForestClassifier() "
   ]
  },
  {
   "cell_type": "code",
   "execution_count": null,
   "metadata": {
    "id": "A6kFFyHl4oNL"
   },
   "outputs": [],
   "source": [
    "model_rfc=rfc.fit(X_train,y_train)\n"
   ]
  },
  {
   "cell_type": "code",
   "execution_count": null,
   "metadata": {
    "id": "4a681H-04sRr"
   },
   "outputs": [],
   "source": [
    "y_pred_train_rfc=model_rfc.predict(X_train)\n",
    "y_pred_test_rfc=model_rfc.predict(X_test)"
   ]
  },
  {
   "cell_type": "markdown",
   "metadata": {
    "id": "UqrPdAX3T3wW"
   },
   "source": [
    "Error Metrics for RandomForest Classifier"
   ]
  },
  {
   "cell_type": "code",
   "execution_count": null,
   "metadata": {
    "colab": {
     "base_uri": "https://localhost:8080/"
    },
    "id": "jZDUGJjX4wBn",
    "outputId": "e66b22c3-c2e4-416f-c1e5-2f509931a0cc"
   },
   "outputs": [],
   "source": [
    "rfc_error_metrics_train=error_metrics(y_train,y_pred_train_rfc)"
   ]
  },
  {
   "cell_type": "code",
   "execution_count": null,
   "metadata": {
    "colab": {
     "base_uri": "https://localhost:8080/"
    },
    "id": "7KVPy_4t4ynk",
    "outputId": "a27a5d27-f9ab-4235-d288-d84090d59aad"
   },
   "outputs": [],
   "source": [
    "rfc_error_metrics_test=error_metrics(y_test,y_pred_test_rfc)"
   ]
  },
  {
   "cell_type": "markdown",
   "metadata": {
    "id": "EKoJ0veDTqrf"
   },
   "source": [
    "##KNN Classifier"
   ]
  },
  {
   "cell_type": "code",
   "execution_count": null,
   "metadata": {
    "id": "bn2x-P_P43e6"
   },
   "outputs": [],
   "source": [
    "from sklearn.neighbors import KNeighborsClassifier"
   ]
  },
  {
   "cell_type": "code",
   "execution_count": null,
   "metadata": {
    "id": "qz_1rVaNCH9x"
   },
   "outputs": [],
   "source": [
    "KNN=KNeighborsClassifier()\n",
    "KNN=KNN.fit(X_train,y_train)"
   ]
  },
  {
   "cell_type": "code",
   "execution_count": null,
   "metadata": {
    "colab": {
     "base_uri": "https://localhost:8080/"
    },
    "id": "lWxm7wcjCTxF",
    "outputId": "026ce77f-d58e-4172-ccaf-d34e6f3db734"
   },
   "outputs": [],
   "source": [
    "y_pred_test_KNN=KNN.predict(X_test)\n",
    "y_pred_train_KNN=KNN.predict(X_train)\n",
    "print(y_pred_test_KNN)"
   ]
  },
  {
   "cell_type": "markdown",
   "metadata": {
    "id": "yjGXwn1OTx51"
   },
   "source": [
    "Error Metrics for KNN"
   ]
  },
  {
   "cell_type": "code",
   "execution_count": null,
   "metadata": {
    "colab": {
     "base_uri": "https://localhost:8080/"
    },
    "id": "3TlrkDz3Cvq9",
    "outputId": "8463bbcc-715a-47c9-bbe5-9e2f02e55962"
   },
   "outputs": [],
   "source": [
    "KNN_error_metrics_TRAIN=(error_metrics(y_train,y_pred_train_KNN))"
   ]
  },
  {
   "cell_type": "code",
   "execution_count": null,
   "metadata": {
    "colab": {
     "base_uri": "https://localhost:8080/"
    },
    "id": "gyR28iMoC0zy",
    "outputId": "ddd8f5c0-1d94-4c63-eef2-444c8e9cc9c6"
   },
   "outputs": [],
   "source": [
    "KNN_error_metrics_TEST=(error_metrics(y_test,y_pred_test_KNN))"
   ]
  },
  {
   "cell_type": "markdown",
   "metadata": {
    "id": "fjR19gpJUX9r"
   },
   "source": [
    "##Support Vector Machine"
   ]
  },
  {
   "cell_type": "code",
   "execution_count": null,
   "metadata": {
    "colab": {
     "base_uri": "https://localhost:8080/"
    },
    "id": "7OG-p6rCDJef",
    "outputId": "43235de0-f222-42ba-de90-9c29998cb8cd"
   },
   "outputs": [],
   "source": [
    "from sklearn.svm import SVC\n",
    "svc_model = SVC(C= .1, kernel='linear', gamma= 1)\n",
    "svc_model.fit(X_train, y_train)"
   ]
  },
  {
   "cell_type": "code",
   "execution_count": null,
   "metadata": {
    "colab": {
     "base_uri": "https://localhost:8080/"
    },
    "id": "nicmZyf1Dpuq",
    "outputId": "9cf6dbcf-6b60-42d0-b0d8-92cbf8d46786"
   },
   "outputs": [],
   "source": [
    "y_pred_train_svc_model =svc_model .predict(X_train)\n",
    "y_pred_test_svc_model =svc_model .predict(X_test)\n",
    "print(y_pred_test_svc_model )"
   ]
  },
  {
   "cell_type": "markdown",
   "metadata": {
    "id": "FtsEkoPVUiu3"
   },
   "source": [
    "Error Metrics for SVC"
   ]
  },
  {
   "cell_type": "code",
   "execution_count": null,
   "metadata": {
    "colab": {
     "base_uri": "https://localhost:8080/"
    },
    "id": "Y6ZsLSILEKPp",
    "outputId": "bfc711ee-2676-40ba-c039-c2b0cbee1742"
   },
   "outputs": [],
   "source": [
    "svc_model_error_metrics_TRAIN=(error_metrics(y_train,y_pred_train_svc_model))"
   ]
  },
  {
   "cell_type": "code",
   "execution_count": null,
   "metadata": {
    "colab": {
     "base_uri": "https://localhost:8080/"
    },
    "id": "fTw1obFSEO5Z",
    "outputId": "bf8b658d-c257-459b-8b45-bd9a2bfe96d0"
   },
   "outputs": [],
   "source": [
    "svc_model_error_metrics_TEST=(error_metrics(y_test,y_pred_test_svc_model))"
   ]
  },
  {
   "cell_type": "markdown",
   "metadata": {
    "id": "P4JnNqqMUpTE"
   },
   "source": [
    "GridSearch for SVM"
   ]
  },
  {
   "cell_type": "code",
   "execution_count": null,
   "metadata": {
    "id": "V8EmtjhQME7c"
   },
   "outputs": [],
   "source": []
  }
 ],
 "metadata": {
  "colab": {
   "collapsed_sections": [],
   "provenance": []
  },
  "kernelspec": {
   "display_name": "Python 3 (ipykernel)",
   "language": "python",
   "name": "python3"
  },
  "language_info": {
   "codemirror_mode": {
    "name": "ipython",
    "version": 3
   },
   "file_extension": ".py",
   "mimetype": "text/x-python",
   "name": "python",
   "nbconvert_exporter": "python",
   "pygments_lexer": "ipython3",
   "version": "3.9.7"
  }
 },
 "nbformat": 4,
 "nbformat_minor": 1
}
