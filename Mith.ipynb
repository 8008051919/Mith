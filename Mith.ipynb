{
  "nbformat": 4,
  "nbformat_minor": 0,
  "metadata": {
    "colab": {
      "provenance": []
    },
    "kernelspec": {
      "name": "python3",
      "display_name": "Python 3"
    },
    "language_info": {
      "name": "python"
    },
    "accelerator": "GPU",
    "gpuClass": "standard"
  },
  "cells": [
    {
      "cell_type": "markdown",
      "source": [
        "#Business Problem\n",
        "\n",
        "A new disruptive payment gateway start-up, ‘IndAvenue’, has started gaining traction due to its extremely low processing fees for handling online vendors’ digital payments. This strategy has led to very low costs of acquiring new vendors. Due to this,the company was not able to build a fast and robust fraud detection system. The company’s data engineers curated a dataset that they believe follows the real world distribution of transactions on their payment gateway. The company hired Insofe and provided it with the dataset, to create a fast and robust AI based model that can detect and prevent fraudulent transactions on its payment gateway."
      ],
      "metadata": {
        "id": "FABeD5i1Ude1"
      }
    },
    {
      "cell_type": "markdown",
      "source": [
        "Importing Libraries"
      ],
      "metadata": {
        "id": "Xe4b_b6BjSRg"
      }
    },
    {
      "cell_type": "code",
      "execution_count": 50,
      "metadata": {
        "id": "yyMTyrTmkExc"
      },
      "outputs": [],
      "source": [
        "import numpy as np      #for working with arrays\n",
        "import pandas as pd       #for working with datasets\n",
        "\n"
      ]
    },
    {
      "cell_type": "markdown",
      "source": [
        "Reading the train and test files"
      ],
      "metadata": {
        "id": "XHK_13otjXMT"
      }
    },
    {
      "cell_type": "code",
      "source": [
        "traindf=pd.read_csv(\"/content/train_data-1611220940820.csv\")   #train data\n",
        "testdf=pd.read_csv(\"/content/test_data-1611220982388.csv\")      #test data"
      ],
      "metadata": {
        "id": "iEH1VDKOmM3s"
      },
      "execution_count": 51,
      "outputs": []
    },
    {
      "cell_type": "markdown",
      "source": [
        "Checking the shape and head"
      ],
      "metadata": {
        "id": "jRYTLomMjeHj"
      }
    },
    {
      "cell_type": "code",
      "source": [
        "traindf.shape   #shape of train data"
      ],
      "metadata": {
        "colab": {
          "base_uri": "https://localhost:8080/"
        },
        "id": "ccSFjT94mYj-",
        "outputId": "117c8462-743d-45e2-8fef-202e21f25804"
      },
      "execution_count": 52,
      "outputs": [
        {
          "output_type": "execute_result",
          "data": {
            "text/plain": [
              "(76529, 11)"
            ]
          },
          "metadata": {},
          "execution_count": 52
        }
      ]
    },
    {
      "cell_type": "code",
      "source": [
        "testdf.shape      #shape of test data"
      ],
      "metadata": {
        "colab": {
          "base_uri": "https://localhost:8080/"
        },
        "id": "8SwrLrPEmbQF",
        "outputId": "fb202a81-97d3-4c0c-cf70-dc477f800470"
      },
      "execution_count": 53,
      "outputs": [
        {
          "output_type": "execute_result",
          "data": {
            "text/plain": [
              "(19133, 10)"
            ]
          },
          "metadata": {},
          "execution_count": 53
        }
      ]
    },
    {
      "cell_type": "code",
      "source": [
        "traindf.sample(5)         #sample rows of the data"
      ],
      "metadata": {
        "colab": {
          "base_uri": "https://localhost:8080/",
          "height": 357
        },
        "id": "9slVG-2nmd9P",
        "outputId": "aa0bcbc2-2623-44c2-80ba-4d004aa18a43"
      },
      "execution_count": 54,
      "outputs": [
        {
          "output_type": "execute_result",
          "data": {
            "text/plain": [
              "       transaction_number   user_id           payment_method  partner_id  \\\n",
              "37493      53732007040375  18438436   sbi_atm_cum_debit_card       47334   \n",
              "3677     1389181756312000   2765569        other_debit_cards      118335   \n",
              "8571     1110679372347481  19633761  visa_master_debit_cards       23667   \n",
              "13328     509527191693311  13808656   sbi_atm_cum_debit_card       47334   \n",
              "27037     373232448215999   3779136        other_debit_cards      118335   \n",
              "\n",
              "      partner_category  country      device_type  money_transacted  \\\n",
              "37493            cat_1  IND_INR  android_devices              -0.5   \n",
              "3677             cat_1  IND_INR        other_pcs             280.0   \n",
              "8571             cat_2  IND_INR        other_pcs              20.0   \n",
              "13328            cat_1  IND_INR  android_devices             -20.0   \n",
              "27037            cat_1  IND_INR        other_pcs             200.0   \n",
              "\n",
              "          transaction_initiation  partner_pricing_category  is_fraud  \n",
              "37493  2017-01-22 12:53:52+00:00                         2         0  \n",
              "3677   2017-01-04 18:48:46+00:00                         2         0  \n",
              "8571   2016-12-13 11:53:45+00:00                         4         0  \n",
              "13328  2016-12-18 11:27:00+00:00                         2         0  \n",
              "27037  2017-01-15 22:35:47+00:00                         2         0  "
            ],
            "text/html": [
              "\n",
              "  <div id=\"df-3cceb46f-36d3-4fc0-81ef-46ad9708561c\">\n",
              "    <div class=\"colab-df-container\">\n",
              "      <div>\n",
              "<style scoped>\n",
              "    .dataframe tbody tr th:only-of-type {\n",
              "        vertical-align: middle;\n",
              "    }\n",
              "\n",
              "    .dataframe tbody tr th {\n",
              "        vertical-align: top;\n",
              "    }\n",
              "\n",
              "    .dataframe thead th {\n",
              "        text-align: right;\n",
              "    }\n",
              "</style>\n",
              "<table border=\"1\" class=\"dataframe\">\n",
              "  <thead>\n",
              "    <tr style=\"text-align: right;\">\n",
              "      <th></th>\n",
              "      <th>transaction_number</th>\n",
              "      <th>user_id</th>\n",
              "      <th>payment_method</th>\n",
              "      <th>partner_id</th>\n",
              "      <th>partner_category</th>\n",
              "      <th>country</th>\n",
              "      <th>device_type</th>\n",
              "      <th>money_transacted</th>\n",
              "      <th>transaction_initiation</th>\n",
              "      <th>partner_pricing_category</th>\n",
              "      <th>is_fraud</th>\n",
              "    </tr>\n",
              "  </thead>\n",
              "  <tbody>\n",
              "    <tr>\n",
              "      <th>37493</th>\n",
              "      <td>53732007040375</td>\n",
              "      <td>18438436</td>\n",
              "      <td>sbi_atm_cum_debit_card</td>\n",
              "      <td>47334</td>\n",
              "      <td>cat_1</td>\n",
              "      <td>IND_INR</td>\n",
              "      <td>android_devices</td>\n",
              "      <td>-0.5</td>\n",
              "      <td>2017-01-22 12:53:52+00:00</td>\n",
              "      <td>2</td>\n",
              "      <td>0</td>\n",
              "    </tr>\n",
              "    <tr>\n",
              "      <th>3677</th>\n",
              "      <td>1389181756312000</td>\n",
              "      <td>2765569</td>\n",
              "      <td>other_debit_cards</td>\n",
              "      <td>118335</td>\n",
              "      <td>cat_1</td>\n",
              "      <td>IND_INR</td>\n",
              "      <td>other_pcs</td>\n",
              "      <td>280.0</td>\n",
              "      <td>2017-01-04 18:48:46+00:00</td>\n",
              "      <td>2</td>\n",
              "      <td>0</td>\n",
              "    </tr>\n",
              "    <tr>\n",
              "      <th>8571</th>\n",
              "      <td>1110679372347481</td>\n",
              "      <td>19633761</td>\n",
              "      <td>visa_master_debit_cards</td>\n",
              "      <td>23667</td>\n",
              "      <td>cat_2</td>\n",
              "      <td>IND_INR</td>\n",
              "      <td>other_pcs</td>\n",
              "      <td>20.0</td>\n",
              "      <td>2016-12-13 11:53:45+00:00</td>\n",
              "      <td>4</td>\n",
              "      <td>0</td>\n",
              "    </tr>\n",
              "    <tr>\n",
              "      <th>13328</th>\n",
              "      <td>509527191693311</td>\n",
              "      <td>13808656</td>\n",
              "      <td>sbi_atm_cum_debit_card</td>\n",
              "      <td>47334</td>\n",
              "      <td>cat_1</td>\n",
              "      <td>IND_INR</td>\n",
              "      <td>android_devices</td>\n",
              "      <td>-20.0</td>\n",
              "      <td>2016-12-18 11:27:00+00:00</td>\n",
              "      <td>2</td>\n",
              "      <td>0</td>\n",
              "    </tr>\n",
              "    <tr>\n",
              "      <th>27037</th>\n",
              "      <td>373232448215999</td>\n",
              "      <td>3779136</td>\n",
              "      <td>other_debit_cards</td>\n",
              "      <td>118335</td>\n",
              "      <td>cat_1</td>\n",
              "      <td>IND_INR</td>\n",
              "      <td>other_pcs</td>\n",
              "      <td>200.0</td>\n",
              "      <td>2017-01-15 22:35:47+00:00</td>\n",
              "      <td>2</td>\n",
              "      <td>0</td>\n",
              "    </tr>\n",
              "  </tbody>\n",
              "</table>\n",
              "</div>\n",
              "      <button class=\"colab-df-convert\" onclick=\"convertToInteractive('df-3cceb46f-36d3-4fc0-81ef-46ad9708561c')\"\n",
              "              title=\"Convert this dataframe to an interactive table.\"\n",
              "              style=\"display:none;\">\n",
              "        \n",
              "  <svg xmlns=\"http://www.w3.org/2000/svg\" height=\"24px\"viewBox=\"0 0 24 24\"\n",
              "       width=\"24px\">\n",
              "    <path d=\"M0 0h24v24H0V0z\" fill=\"none\"/>\n",
              "    <path d=\"M18.56 5.44l.94 2.06.94-2.06 2.06-.94-2.06-.94-.94-2.06-.94 2.06-2.06.94zm-11 1L8.5 8.5l.94-2.06 2.06-.94-2.06-.94L8.5 2.5l-.94 2.06-2.06.94zm10 10l.94 2.06.94-2.06 2.06-.94-2.06-.94-.94-2.06-.94 2.06-2.06.94z\"/><path d=\"M17.41 7.96l-1.37-1.37c-.4-.4-.92-.59-1.43-.59-.52 0-1.04.2-1.43.59L10.3 9.45l-7.72 7.72c-.78.78-.78 2.05 0 2.83L4 21.41c.39.39.9.59 1.41.59.51 0 1.02-.2 1.41-.59l7.78-7.78 2.81-2.81c.8-.78.8-2.07 0-2.86zM5.41 20L4 18.59l7.72-7.72 1.47 1.35L5.41 20z\"/>\n",
              "  </svg>\n",
              "      </button>\n",
              "      \n",
              "  <style>\n",
              "    .colab-df-container {\n",
              "      display:flex;\n",
              "      flex-wrap:wrap;\n",
              "      gap: 12px;\n",
              "    }\n",
              "\n",
              "    .colab-df-convert {\n",
              "      background-color: #E8F0FE;\n",
              "      border: none;\n",
              "      border-radius: 50%;\n",
              "      cursor: pointer;\n",
              "      display: none;\n",
              "      fill: #1967D2;\n",
              "      height: 32px;\n",
              "      padding: 0 0 0 0;\n",
              "      width: 32px;\n",
              "    }\n",
              "\n",
              "    .colab-df-convert:hover {\n",
              "      background-color: #E2EBFA;\n",
              "      box-shadow: 0px 1px 2px rgba(60, 64, 67, 0.3), 0px 1px 3px 1px rgba(60, 64, 67, 0.15);\n",
              "      fill: #174EA6;\n",
              "    }\n",
              "\n",
              "    [theme=dark] .colab-df-convert {\n",
              "      background-color: #3B4455;\n",
              "      fill: #D2E3FC;\n",
              "    }\n",
              "\n",
              "    [theme=dark] .colab-df-convert:hover {\n",
              "      background-color: #434B5C;\n",
              "      box-shadow: 0px 1px 3px 1px rgba(0, 0, 0, 0.15);\n",
              "      filter: drop-shadow(0px 1px 2px rgba(0, 0, 0, 0.3));\n",
              "      fill: #FFFFFF;\n",
              "    }\n",
              "  </style>\n",
              "\n",
              "      <script>\n",
              "        const buttonEl =\n",
              "          document.querySelector('#df-3cceb46f-36d3-4fc0-81ef-46ad9708561c button.colab-df-convert');\n",
              "        buttonEl.style.display =\n",
              "          google.colab.kernel.accessAllowed ? 'block' : 'none';\n",
              "\n",
              "        async function convertToInteractive(key) {\n",
              "          const element = document.querySelector('#df-3cceb46f-36d3-4fc0-81ef-46ad9708561c');\n",
              "          const dataTable =\n",
              "            await google.colab.kernel.invokeFunction('convertToInteractive',\n",
              "                                                     [key], {});\n",
              "          if (!dataTable) return;\n",
              "\n",
              "          const docLinkHtml = 'Like what you see? Visit the ' +\n",
              "            '<a target=\"_blank\" href=https://colab.research.google.com/notebooks/data_table.ipynb>data table notebook</a>'\n",
              "            + ' to learn more about interactive tables.';\n",
              "          element.innerHTML = '';\n",
              "          dataTable['output_type'] = 'display_data';\n",
              "          await google.colab.output.renderOutput(dataTable, element);\n",
              "          const docLink = document.createElement('div');\n",
              "          docLink.innerHTML = docLinkHtml;\n",
              "          element.appendChild(docLink);\n",
              "        }\n",
              "      </script>\n",
              "    </div>\n",
              "  </div>\n",
              "  "
            ]
          },
          "metadata": {},
          "execution_count": 54
        }
      ]
    },
    {
      "cell_type": "code",
      "source": [
        "testdf.sample(5)"
      ],
      "metadata": {
        "colab": {
          "base_uri": "https://localhost:8080/",
          "height": 357
        },
        "id": "enDbWOR4mjb4",
        "outputId": "ef1bc07f-5d03-479f-86f1-dd4eea87f97c"
      },
      "execution_count": 55,
      "outputs": [
        {
          "output_type": "execute_result",
          "data": {
            "text/plain": [
              "       transaction_number   user_id           payment_method  partner_id  \\\n",
              "3924      856644182745317   7033104  visa_master_debit_cards       78890   \n",
              "13803      22259181797000  18593344        e_wallet_payments        7889   \n",
              "16473    1406772774853649   1752976  visa_master_debit_cards      118335   \n",
              "8488      697109077213632  18653761   sbi_atm_cum_debit_card       47334   \n",
              "7946       42889701680064  23794884  visa_master_debit_cards      118335   \n",
              "\n",
              "      partner_category  country      device_type  money_transacted  \\\n",
              "3924             cat_2  IND_INR        other_pcs              20.0   \n",
              "13803            cat_2  IND_INR        other_pcs              20.0   \n",
              "16473            cat_1  IND_INR        other_pcs             400.0   \n",
              "8488             cat_1  IND_INR  android_devices              -1.0   \n",
              "7946             cat_1  IND_INR        other_pcs            6000.0   \n",
              "\n",
              "          transaction_initiation  partner_pricing_category  \n",
              "3924   2016-12-10 11:31:54+00:00                         4  \n",
              "13803  2017-01-28 10:29:14+00:00                         2  \n",
              "16473  2017-01-31 19:04:14+00:00                         2  \n",
              "8488   2017-02-07 18:27:20+00:00                         2  \n",
              "7946   2016-12-20 17:38:01+00:00                         2  "
            ],
            "text/html": [
              "\n",
              "  <div id=\"df-b596de77-d9f7-4b29-b89f-7fe037030b87\">\n",
              "    <div class=\"colab-df-container\">\n",
              "      <div>\n",
              "<style scoped>\n",
              "    .dataframe tbody tr th:only-of-type {\n",
              "        vertical-align: middle;\n",
              "    }\n",
              "\n",
              "    .dataframe tbody tr th {\n",
              "        vertical-align: top;\n",
              "    }\n",
              "\n",
              "    .dataframe thead th {\n",
              "        text-align: right;\n",
              "    }\n",
              "</style>\n",
              "<table border=\"1\" class=\"dataframe\">\n",
              "  <thead>\n",
              "    <tr style=\"text-align: right;\">\n",
              "      <th></th>\n",
              "      <th>transaction_number</th>\n",
              "      <th>user_id</th>\n",
              "      <th>payment_method</th>\n",
              "      <th>partner_id</th>\n",
              "      <th>partner_category</th>\n",
              "      <th>country</th>\n",
              "      <th>device_type</th>\n",
              "      <th>money_transacted</th>\n",
              "      <th>transaction_initiation</th>\n",
              "      <th>partner_pricing_category</th>\n",
              "    </tr>\n",
              "  </thead>\n",
              "  <tbody>\n",
              "    <tr>\n",
              "      <th>3924</th>\n",
              "      <td>856644182745317</td>\n",
              "      <td>7033104</td>\n",
              "      <td>visa_master_debit_cards</td>\n",
              "      <td>78890</td>\n",
              "      <td>cat_2</td>\n",
              "      <td>IND_INR</td>\n",
              "      <td>other_pcs</td>\n",
              "      <td>20.0</td>\n",
              "      <td>2016-12-10 11:31:54+00:00</td>\n",
              "      <td>4</td>\n",
              "    </tr>\n",
              "    <tr>\n",
              "      <th>13803</th>\n",
              "      <td>22259181797000</td>\n",
              "      <td>18593344</td>\n",
              "      <td>e_wallet_payments</td>\n",
              "      <td>7889</td>\n",
              "      <td>cat_2</td>\n",
              "      <td>IND_INR</td>\n",
              "      <td>other_pcs</td>\n",
              "      <td>20.0</td>\n",
              "      <td>2017-01-28 10:29:14+00:00</td>\n",
              "      <td>2</td>\n",
              "    </tr>\n",
              "    <tr>\n",
              "      <th>16473</th>\n",
              "      <td>1406772774853649</td>\n",
              "      <td>1752976</td>\n",
              "      <td>visa_master_debit_cards</td>\n",
              "      <td>118335</td>\n",
              "      <td>cat_1</td>\n",
              "      <td>IND_INR</td>\n",
              "      <td>other_pcs</td>\n",
              "      <td>400.0</td>\n",
              "      <td>2017-01-31 19:04:14+00:00</td>\n",
              "      <td>2</td>\n",
              "    </tr>\n",
              "    <tr>\n",
              "      <th>8488</th>\n",
              "      <td>697109077213632</td>\n",
              "      <td>18653761</td>\n",
              "      <td>sbi_atm_cum_debit_card</td>\n",
              "      <td>47334</td>\n",
              "      <td>cat_1</td>\n",
              "      <td>IND_INR</td>\n",
              "      <td>android_devices</td>\n",
              "      <td>-1.0</td>\n",
              "      <td>2017-02-07 18:27:20+00:00</td>\n",
              "      <td>2</td>\n",
              "    </tr>\n",
              "    <tr>\n",
              "      <th>7946</th>\n",
              "      <td>42889701680064</td>\n",
              "      <td>23794884</td>\n",
              "      <td>visa_master_debit_cards</td>\n",
              "      <td>118335</td>\n",
              "      <td>cat_1</td>\n",
              "      <td>IND_INR</td>\n",
              "      <td>other_pcs</td>\n",
              "      <td>6000.0</td>\n",
              "      <td>2016-12-20 17:38:01+00:00</td>\n",
              "      <td>2</td>\n",
              "    </tr>\n",
              "  </tbody>\n",
              "</table>\n",
              "</div>\n",
              "      <button class=\"colab-df-convert\" onclick=\"convertToInteractive('df-b596de77-d9f7-4b29-b89f-7fe037030b87')\"\n",
              "              title=\"Convert this dataframe to an interactive table.\"\n",
              "              style=\"display:none;\">\n",
              "        \n",
              "  <svg xmlns=\"http://www.w3.org/2000/svg\" height=\"24px\"viewBox=\"0 0 24 24\"\n",
              "       width=\"24px\">\n",
              "    <path d=\"M0 0h24v24H0V0z\" fill=\"none\"/>\n",
              "    <path d=\"M18.56 5.44l.94 2.06.94-2.06 2.06-.94-2.06-.94-.94-2.06-.94 2.06-2.06.94zm-11 1L8.5 8.5l.94-2.06 2.06-.94-2.06-.94L8.5 2.5l-.94 2.06-2.06.94zm10 10l.94 2.06.94-2.06 2.06-.94-2.06-.94-.94-2.06-.94 2.06-2.06.94z\"/><path d=\"M17.41 7.96l-1.37-1.37c-.4-.4-.92-.59-1.43-.59-.52 0-1.04.2-1.43.59L10.3 9.45l-7.72 7.72c-.78.78-.78 2.05 0 2.83L4 21.41c.39.39.9.59 1.41.59.51 0 1.02-.2 1.41-.59l7.78-7.78 2.81-2.81c.8-.78.8-2.07 0-2.86zM5.41 20L4 18.59l7.72-7.72 1.47 1.35L5.41 20z\"/>\n",
              "  </svg>\n",
              "      </button>\n",
              "      \n",
              "  <style>\n",
              "    .colab-df-container {\n",
              "      display:flex;\n",
              "      flex-wrap:wrap;\n",
              "      gap: 12px;\n",
              "    }\n",
              "\n",
              "    .colab-df-convert {\n",
              "      background-color: #E8F0FE;\n",
              "      border: none;\n",
              "      border-radius: 50%;\n",
              "      cursor: pointer;\n",
              "      display: none;\n",
              "      fill: #1967D2;\n",
              "      height: 32px;\n",
              "      padding: 0 0 0 0;\n",
              "      width: 32px;\n",
              "    }\n",
              "\n",
              "    .colab-df-convert:hover {\n",
              "      background-color: #E2EBFA;\n",
              "      box-shadow: 0px 1px 2px rgba(60, 64, 67, 0.3), 0px 1px 3px 1px rgba(60, 64, 67, 0.15);\n",
              "      fill: #174EA6;\n",
              "    }\n",
              "\n",
              "    [theme=dark] .colab-df-convert {\n",
              "      background-color: #3B4455;\n",
              "      fill: #D2E3FC;\n",
              "    }\n",
              "\n",
              "    [theme=dark] .colab-df-convert:hover {\n",
              "      background-color: #434B5C;\n",
              "      box-shadow: 0px 1px 3px 1px rgba(0, 0, 0, 0.15);\n",
              "      filter: drop-shadow(0px 1px 2px rgba(0, 0, 0, 0.3));\n",
              "      fill: #FFFFFF;\n",
              "    }\n",
              "  </style>\n",
              "\n",
              "      <script>\n",
              "        const buttonEl =\n",
              "          document.querySelector('#df-b596de77-d9f7-4b29-b89f-7fe037030b87 button.colab-df-convert');\n",
              "        buttonEl.style.display =\n",
              "          google.colab.kernel.accessAllowed ? 'block' : 'none';\n",
              "\n",
              "        async function convertToInteractive(key) {\n",
              "          const element = document.querySelector('#df-b596de77-d9f7-4b29-b89f-7fe037030b87');\n",
              "          const dataTable =\n",
              "            await google.colab.kernel.invokeFunction('convertToInteractive',\n",
              "                                                     [key], {});\n",
              "          if (!dataTable) return;\n",
              "\n",
              "          const docLinkHtml = 'Like what you see? Visit the ' +\n",
              "            '<a target=\"_blank\" href=https://colab.research.google.com/notebooks/data_table.ipynb>data table notebook</a>'\n",
              "            + ' to learn more about interactive tables.';\n",
              "          element.innerHTML = '';\n",
              "          dataTable['output_type'] = 'display_data';\n",
              "          await google.colab.output.renderOutput(dataTable, element);\n",
              "          const docLink = document.createElement('div');\n",
              "          docLink.innerHTML = docLinkHtml;\n",
              "          element.appendChild(docLink);\n",
              "        }\n",
              "      </script>\n",
              "    </div>\n",
              "  </div>\n",
              "  "
            ]
          },
          "metadata": {},
          "execution_count": 55
        }
      ]
    },
    {
      "cell_type": "code",
      "source": [
        "#checking the unique values\n",
        "traindf.nunique()"
      ],
      "metadata": {
        "id": "1lWhWlVVmvOj",
        "colab": {
          "base_uri": "https://localhost:8080/"
        },
        "outputId": "0a1d5f17-8dbc-415b-b0db-6a4f0527a33e"
      },
      "execution_count": 56,
      "outputs": [
        {
          "output_type": "execute_result",
          "data": {
            "text/plain": [
              "transaction_number          76529\n",
              "user_id                      3594\n",
              "payment_method                  6\n",
              "partner_id                     23\n",
              "partner_category                9\n",
              "country                         1\n",
              "device_type                     4\n",
              "money_transacted             1454\n",
              "transaction_initiation      75811\n",
              "partner_pricing_category        4\n",
              "is_fraud                        2\n",
              "dtype: int64"
            ]
          },
          "metadata": {},
          "execution_count": 56
        }
      ]
    },
    {
      "cell_type": "code",
      "source": [
        "testdf.nunique()"
      ],
      "metadata": {
        "colab": {
          "base_uri": "https://localhost:8080/"
        },
        "id": "pkffzR4wtoEJ",
        "outputId": "dd2e709d-509b-46c3-ca4e-ba830f36862f"
      },
      "execution_count": 57,
      "outputs": [
        {
          "output_type": "execute_result",
          "data": {
            "text/plain": [
              "transaction_number          19133\n",
              "user_id                      2617\n",
              "payment_method                  6\n",
              "partner_id                     20\n",
              "partner_category                8\n",
              "country                         1\n",
              "device_type                     4\n",
              "money_transacted              695\n",
              "transaction_initiation      19090\n",
              "partner_pricing_category        4\n",
              "dtype: int64"
            ]
          },
          "metadata": {},
          "execution_count": 57
        }
      ]
    },
    {
      "cell_type": "markdown",
      "source": [
        "Dropping the unnecessary attributes"
      ],
      "metadata": {
        "id": "qI45UKIOktIX"
      }
    },
    {
      "cell_type": "code",
      "source": [
        "traindf.drop(['transaction_number','country'],axis=1,inplace=True)"
      ],
      "metadata": {
        "id": "IXBB3iWZuoOg"
      },
      "execution_count": 58,
      "outputs": []
    },
    {
      "cell_type": "code",
      "source": [
        "testdf.drop(['transaction_number','country'],axis=1,inplace=True)"
      ],
      "metadata": {
        "id": "qma_UO2pvB3y"
      },
      "execution_count": 59,
      "outputs": []
    },
    {
      "cell_type": "markdown",
      "source": [
        "Checking for null values"
      ],
      "metadata": {
        "id": "3QAPoHYFky45"
      }
    },
    {
      "cell_type": "code",
      "source": [
        "traindf.isnull().sum()"
      ],
      "metadata": {
        "colab": {
          "base_uri": "https://localhost:8080/"
        },
        "id": "52-U_xVwvHkL",
        "outputId": "23de0147-78b2-4188-ae50-7577307b0bb6"
      },
      "execution_count": 60,
      "outputs": [
        {
          "output_type": "execute_result",
          "data": {
            "text/plain": [
              "user_id                     0\n",
              "payment_method              0\n",
              "partner_id                  0\n",
              "partner_category            0\n",
              "device_type                 0\n",
              "money_transacted            0\n",
              "transaction_initiation      0\n",
              "partner_pricing_category    0\n",
              "is_fraud                    0\n",
              "dtype: int64"
            ]
          },
          "metadata": {},
          "execution_count": 60
        }
      ]
    },
    {
      "cell_type": "code",
      "source": [
        "testdf.isnull().sum()"
      ],
      "metadata": {
        "colab": {
          "base_uri": "https://localhost:8080/"
        },
        "id": "z5S_qxc5vmwy",
        "outputId": "c01b58aa-279d-466e-ea98-61fa8b8227dd"
      },
      "execution_count": 61,
      "outputs": [
        {
          "output_type": "execute_result",
          "data": {
            "text/plain": [
              "user_id                     0\n",
              "payment_method              0\n",
              "partner_id                  0\n",
              "partner_category            0\n",
              "device_type                 0\n",
              "money_transacted            0\n",
              "transaction_initiation      0\n",
              "partner_pricing_category    0\n",
              "dtype: int64"
            ]
          },
          "metadata": {},
          "execution_count": 61
        }
      ]
    },
    {
      "cell_type": "markdown",
      "source": [
        "We can see that both train and test datasets have no null values"
      ],
      "metadata": {
        "id": "2WA9duYyk26c"
      }
    },
    {
      "cell_type": "markdown",
      "source": [
        "Checking data types"
      ],
      "metadata": {
        "id": "uuzyW_y_k-Cy"
      }
    },
    {
      "cell_type": "code",
      "source": [
        "traindf.dtypes"
      ],
      "metadata": {
        "colab": {
          "base_uri": "https://localhost:8080/"
        },
        "id": "LbHUBvlmvq4A",
        "outputId": "7a728823-ead5-4a2f-bf8c-4d090bf71d03"
      },
      "execution_count": 62,
      "outputs": [
        {
          "output_type": "execute_result",
          "data": {
            "text/plain": [
              "user_id                       int64\n",
              "payment_method               object\n",
              "partner_id                    int64\n",
              "partner_category             object\n",
              "device_type                  object\n",
              "money_transacted            float64\n",
              "transaction_initiation       object\n",
              "partner_pricing_category      int64\n",
              "is_fraud                      int64\n",
              "dtype: object"
            ]
          },
          "metadata": {},
          "execution_count": 62
        }
      ]
    },
    {
      "cell_type": "code",
      "source": [
        "testdf.dtypes"
      ],
      "metadata": {
        "colab": {
          "base_uri": "https://localhost:8080/"
        },
        "id": "ef_2IULMv1kj",
        "outputId": "0cf5b4aa-17a5-4ee4-cbfe-40d016814514"
      },
      "execution_count": 63,
      "outputs": [
        {
          "output_type": "execute_result",
          "data": {
            "text/plain": [
              "user_id                       int64\n",
              "payment_method               object\n",
              "partner_id                    int64\n",
              "partner_category             object\n",
              "device_type                  object\n",
              "money_transacted            float64\n",
              "transaction_initiation       object\n",
              "partner_pricing_category      int64\n",
              "dtype: object"
            ]
          },
          "metadata": {},
          "execution_count": 63
        }
      ]
    },
    {
      "cell_type": "markdown",
      "source": [
        "Dividing the data into categorical and numerical"
      ],
      "metadata": {
        "id": "SnSunuARlC7o"
      }
    },
    {
      "cell_type": "code",
      "source": [
        "train_cat=['payment_method','partner_category','device_type','transaction_initiation']\n",
        "traindf[train_cat]=traindf[train_cat].astype('category')"
      ],
      "metadata": {
        "id": "Ak979Pj-wARE"
      },
      "execution_count": 64,
      "outputs": []
    },
    {
      "cell_type": "code",
      "source": [
        "test_cat=['payment_method','partner_category','device_type','transaction_initiation']\n",
        "testdf[test_cat]=traindf[test_cat].astype('category')"
      ],
      "metadata": {
        "id": "QMW5ydsRw3rC"
      },
      "execution_count": 65,
      "outputs": []
    },
    {
      "cell_type": "code",
      "source": [
        "traindf.dtypes"
      ],
      "metadata": {
        "colab": {
          "base_uri": "https://localhost:8080/"
        },
        "id": "PdV-t68FxRuW",
        "outputId": "9798a0d5-7786-4ecb-c62e-934c505d3335"
      },
      "execution_count": 66,
      "outputs": [
        {
          "output_type": "execute_result",
          "data": {
            "text/plain": [
              "user_id                        int64\n",
              "payment_method              category\n",
              "partner_id                     int64\n",
              "partner_category            category\n",
              "device_type                 category\n",
              "money_transacted             float64\n",
              "transaction_initiation      category\n",
              "partner_pricing_category       int64\n",
              "is_fraud                       int64\n",
              "dtype: object"
            ]
          },
          "metadata": {},
          "execution_count": 66
        }
      ]
    },
    {
      "cell_type": "code",
      "source": [
        "train_num=['user_id','partner_id','money_transacted','partner_pricing_category']"
      ],
      "metadata": {
        "id": "2cGZXsKVxaHP"
      },
      "execution_count": 67,
      "outputs": []
    },
    {
      "cell_type": "code",
      "source": [
        "test_num=['user_id','partner_id','money_transacted','partner_pricing_category']"
      ],
      "metadata": {
        "id": "gL1GuXaRx3Zj"
      },
      "execution_count": 68,
      "outputs": []
    },
    {
      "cell_type": "markdown",
      "source": [
        "Checking for outliers in numerical columns"
      ],
      "metadata": {
        "id": "CUgqOgOklRUD"
      }
    },
    {
      "cell_type": "code",
      "source": [
        "Q1=traindf[train_num].quantile(0.25)\n",
        "Q3=traindf[train_num].quantile(0.75)\n",
        "IQR=Q3-Q1\n",
        "IQR\n",
        "((traindf[train_num]<(Q1-1.5*IQR)) | (traindf[train_num]>(Q3+1.5*IQR))).any()"
      ],
      "metadata": {
        "colab": {
          "base_uri": "https://localhost:8080/"
        },
        "id": "OkTRKTQcyH-o",
        "outputId": "b1cf7b81-2e00-435b-d49d-7c8ff31efa4e"
      },
      "execution_count": 69,
      "outputs": [
        {
          "output_type": "execute_result",
          "data": {
            "text/plain": [
              "user_id                     True\n",
              "partner_id                  True\n",
              "money_transacted            True\n",
              "partner_pricing_category    True\n",
              "dtype: bool"
            ]
          },
          "metadata": {},
          "execution_count": 69
        }
      ]
    },
    {
      "cell_type": "markdown",
      "source": [
        "EDA"
      ],
      "metadata": {
        "id": "c4XoU_cuyDeY"
      }
    },
    {
      "cell_type": "code",
      "source": [
        "traindf['payment_method']"
      ],
      "metadata": {
        "colab": {
          "base_uri": "https://localhost:8080/"
        },
        "id": "FPMIZpUO0l4p",
        "outputId": "07a3eba8-5573-45e5-e40b-27c6a8d1e23d"
      },
      "execution_count": 70,
      "outputs": [
        {
          "output_type": "execute_result",
          "data": {
            "text/plain": [
              "0         sbi_atm_cum_debit_card\n",
              "1              e_wallet_payments\n",
              "2              e_wallet_payments\n",
              "3              other_debit_cards\n",
              "4              other_debit_cards\n",
              "                  ...           \n",
              "76524     sbi_atm_cum_debit_card\n",
              "76525    visa_master_debit_cards\n",
              "76526     sbi_atm_cum_debit_card\n",
              "76527     sbi_atm_cum_debit_card\n",
              "76528     sbi_atm_cum_debit_card\n",
              "Name: payment_method, Length: 76529, dtype: category\n",
              "Categories (6, object): ['e_wallet_payments', 'other_debit_cards', 'sbi_atm_cum_debit_card',\n",
              "                         'unified_payments_interface', 'visa_master_credit_cards', 'visa_master_debit_cards']"
            ]
          },
          "metadata": {},
          "execution_count": 70
        }
      ]
    },
    {
      "cell_type": "code",
      "source": [
        "# Count the occurrences of each categorical variable\n",
        "import matplotlib.pyplot as plt\n",
        "counts = traindf['payment_method'].value_counts()\n",
        "\n",
        "# Get the labels and values\n",
        "labels = counts.index.tolist()\n",
        "values = counts.tolist()\n",
        "\n",
        "# Create the pie chart\n",
        "plt.figure(figsize=(6,6))\n",
        "\n",
        "plt.pie(values, \n",
        "        wedgeprops = { 'linewidth' : 1, 'edgecolor' : 'white' }, \n",
        "        autopct='%1.1f%%',)\n",
        "plt.legend(labels, loc='best', fontsize=5)\n",
        "\n",
        "plt.show()"
      ],
      "metadata": {
        "colab": {
          "base_uri": "https://localhost:8080/",
          "height": 499
        },
        "id": "48X2S3or6YSJ",
        "outputId": "1d5e7170-125f-4fd5-b5e9-9702cd03e9ac"
      },
      "execution_count": 71,
      "outputs": [
        {
          "output_type": "display_data",
          "data": {
            "text/plain": [
              "<Figure size 600x600 with 1 Axes>"
            ],
            "image/png": "[encoded data removed]"
          },
          "metadata": {}
        }
      ]
    },
    {
      "cell_type": "markdown",
      "source": [
        "\n",
        "\n",
        "*   Sbi_atm_cum_debit_cards is the most preferred payment method with 39.9% \n",
        "*   unified_payments_interace is not used at all.\n",
        "\n"
      ],
      "metadata": {
        "id": "v3KS8KVe_Dz9"
      }
    },
    {
      "cell_type": "code",
      "source": [
        "traindf['device_type']"
      ],
      "metadata": {
        "colab": {
          "base_uri": "https://localhost:8080/"
        },
        "id": "7RNbi-DN3kct",
        "outputId": "e83cd3a0-438a-48a9-9d87-427704e49c7a"
      },
      "execution_count": 72,
      "outputs": [
        {
          "output_type": "execute_result",
          "data": {
            "text/plain": [
              "0        android_devices\n",
              "1              other_pcs\n",
              "2              other_pcs\n",
              "3              other_pcs\n",
              "4              other_pcs\n",
              "              ...       \n",
              "76524    android_devices\n",
              "76525          other_pcs\n",
              "76526    android_devices\n",
              "76527    android_devices\n",
              "76528    android_devices\n",
              "Name: device_type, Length: 76529, dtype: category\n",
              "Categories (4, object): ['android_devices', 'ios_devices', 'other_pcs', 'windows_pcs']"
            ]
          },
          "metadata": {},
          "execution_count": 72
        }
      ]
    },
    {
      "cell_type": "code",
      "source": [
        "# Count the occurrences of each categorical variable\n",
        "counts = traindf['device_type'].value_counts()\n",
        "\n",
        "# Get the labels and values\n",
        "labels = counts.index.tolist()\n",
        "values = counts.tolist()\n",
        "\n",
        "# Create the pie chart\n",
        "plt.figure(figsize=(6,6))\n",
        "\n",
        "plt.pie(values, \n",
        "        wedgeprops = { 'linewidth' : 1, 'edgecolor' : 'white' }, \n",
        "        autopct='%1.1f%%',)\n",
        "plt.legend(labels, loc='best', fontsize=5)\n",
        "\n",
        "plt.show()"
      ],
      "metadata": {
        "colab": {
          "base_uri": "https://localhost:8080/",
          "height": 499
        },
        "id": "hlr9-MYE0M2t",
        "outputId": "e476034c-d5f5-4fdb-8853-2408a6d61604"
      },
      "execution_count": 73,
      "outputs": [
        {
          "output_type": "display_data",
          "data": {
            "text/plain": [
              "<Figure size 600x600 with 1 Axes>"
            ],
            "image/png": "[encoded data removed]"
          },
          "metadata": {}
        }
      ]
    },
    {
      "cell_type": "markdown",
      "source": [
        "\n",
        "\n",
        "*   Transactions are done mostly through other pcs(59.5%) and android devices(38.8%) \n",
        "*   Windows pcs are least used - 0.6%\n",
        "\n",
        "\n"
      ],
      "metadata": {
        "id": "ZylkbeGrAPAB"
      }
    },
    {
      "cell_type": "code",
      "source": [
        "# Create count plot\n",
        "import seaborn as sns\n",
        "ax = sns.countplot(x=\"is_fraud\", data=traindf)\n",
        "\n",
        "# Add percentage labels\n",
        "total = len(traindf)\n",
        "for p in ax.patches:\n",
        "    percentage = '{:.1f}%'.format(100 * p.get_height()/total)\n",
        "    x = p.get_x() + 0.15\n",
        "    y = p.get_y() + p.get_height() + 0.5\n",
        "    ax.annotate(percentage, (x, y))\n",
        "\n",
        "# Show plot\n",
        "plt.show()"
      ],
      "metadata": {
        "colab": {
          "base_uri": "https://localhost:8080/",
          "height": 454
        },
        "id": "xvempAaJ0TqN",
        "outputId": "35117bbc-5cc3-4020-ec16-42c764ec1bf8"
      },
      "execution_count": 74,
      "outputs": [
        {
          "output_type": "display_data",
          "data": {
            "text/plain": [
              "<Figure size 640x480 with 1 Axes>"
            ],
            "image/png": "[encoded data removed]"
          },
          "metadata": {}
        }
      ]
    },
    {
      "cell_type": "markdown",
      "source": [
        "We can see there is high imbalance in data, i.e, 99.8% as not fraud and 0.2% is fraud\n"
      ],
      "metadata": {
        "id": "VyHOsJNG6yRl"
      }
    },
    {
      "cell_type": "code",
      "source": [
        "#Histogram plot for numerical column\n",
        "traindf.hist('money_transacted',bins=5,figsize=(7,7))\n",
        "plt.show()"
      ],
      "metadata": {
        "colab": {
          "base_uri": "https://localhost:8080/",
          "height": 622
        },
        "id": "k3cTprAy6C6Z",
        "outputId": "ddc64021-b840-4608-ce22-8c1579f86f1e"
      },
      "execution_count": 75,
      "outputs": [
        {
          "output_type": "display_data",
          "data": {
            "text/plain": [
              "<Figure size 700x700 with 1 Axes>"
            ],
            "image/png": "[encoded data removed]"
          },
          "metadata": {}
        }
      ]
    },
    {
      "cell_type": "markdown",
      "source": [
        "Feature Engineering"
      ],
      "metadata": {
        "id": "zRAm7PyvnRSF"
      }
    },
    {
      "cell_type": "code",
      "source": [
        "traindf['transaction_initiation'] = pd.to_datetime(traindf['transaction_initiation'])\n",
        "testdf['transaction_initiation'] = pd.to_datetime(testdf['transaction_initiation'])"
      ],
      "metadata": {
        "id": "YQCaYIl9Bhj-"
      },
      "execution_count": 76,
      "outputs": []
    },
    {
      "cell_type": "code",
      "source": [
        "#for train data\n",
        "traindf['year'] = traindf['transaction_initiation'].dt.year           #extracting year\n",
        "traindf['month'] = traindf['transaction_initiation'].dt.month         #extracting month\n",
        "traindf['day'] = traindf['transaction_initiation'].dt.day              #extracting day\n",
        "traindf['time'] = traindf['transaction_initiation'].dt.time             #extracting time\n",
        "traindf.drop(columns='transaction_initiation', axis='column', inplace=True)"
      ],
      "metadata": {
        "id": "5ExTRi57nZvg"
      },
      "execution_count": 77,
      "outputs": []
    },
    {
      "cell_type": "code",
      "source": [
        "#for test data\n",
        "testdf['year'] = testdf['transaction_initiation'].dt.year\n",
        "testdf['month'] = testdf['transaction_initiation'].dt.month\n",
        "testdf['day'] = testdf['transaction_initiation'].dt.day\n",
        "testdf['time'] = testdf['transaction_initiation'].dt.time\n",
        "testdf.drop(columns='transaction_initiation', axis='column', inplace=True)"
      ],
      "metadata": {
        "id": "yLqdsbOJoFuX"
      },
      "execution_count": 78,
      "outputs": []
    },
    {
      "cell_type": "code",
      "source": [
        "\n",
        "traindf.columns"
      ],
      "metadata": {
        "colab": {
          "base_uri": "https://localhost:8080/"
        },
        "id": "iRnPsxQjoYPs",
        "outputId": "ec071a94-04c0-4279-a04b-133edfee18bc"
      },
      "execution_count": 79,
      "outputs": [
        {
          "output_type": "execute_result",
          "data": {
            "text/plain": [
              "Index(['user_id', 'payment_method', 'partner_id', 'partner_category',\n",
              "       'device_type', 'money_transacted', 'partner_pricing_category',\n",
              "       'is_fraud', 'year', 'month', 'day', 'time'],\n",
              "      dtype='object')"
            ]
          },
          "metadata": {},
          "execution_count": 79
        }
      ]
    },
    {
      "cell_type": "code",
      "source": [
        "testdf.columns"
      ],
      "metadata": {
        "colab": {
          "base_uri": "https://localhost:8080/"
        },
        "id": "gvGc0vI4oa2P",
        "outputId": "bee0f250-d09d-4594-9c1f-6fe2e195d1bb"
      },
      "execution_count": 80,
      "outputs": [
        {
          "output_type": "execute_result",
          "data": {
            "text/plain": [
              "Index(['user_id', 'payment_method', 'partner_id', 'partner_category',\n",
              "       'device_type', 'money_transacted', 'partner_pricing_category', 'year',\n",
              "       'month', 'day', 'time'],\n",
              "      dtype='object')"
            ]
          },
          "metadata": {},
          "execution_count": 80
        }
      ]
    },
    {
      "cell_type": "markdown",
      "source": [
        "We have extracted year, day, month and time from transaction_initiation coumn in both datasets simultaneously"
      ],
      "metadata": {
        "id": "9lRTTLqTogSK"
      }
    },
    {
      "cell_type": "code",
      "source": [
        "traindf.dtypes"
      ],
      "metadata": {
        "colab": {
          "base_uri": "https://localhost:8080/"
        },
        "id": "o5WIGh2OqObm",
        "outputId": "7cc5c86d-d6bd-410b-c02a-3b3f2e84bda8"
      },
      "execution_count": 81,
      "outputs": [
        {
          "output_type": "execute_result",
          "data": {
            "text/plain": [
              "user_id                        int64\n",
              "payment_method              category\n",
              "partner_id                     int64\n",
              "partner_category            category\n",
              "device_type                 category\n",
              "money_transacted             float64\n",
              "partner_pricing_category       int64\n",
              "is_fraud                       int64\n",
              "year                           int64\n",
              "month                          int64\n",
              "day                            int64\n",
              "time                          object\n",
              "dtype: object"
            ]
          },
          "metadata": {},
          "execution_count": 81
        }
      ]
    },
    {
      "cell_type": "code",
      "source": [
        "traindf.drop(columns='time', axis='column', inplace=True)"
      ],
      "metadata": {
        "id": "79-Q48cMrd7w"
      },
      "execution_count": 82,
      "outputs": []
    },
    {
      "cell_type": "code",
      "source": [
        "testdf.drop(columns='time', axis='column', inplace=True)"
      ],
      "metadata": {
        "id": "KbzyOL29sniH"
      },
      "execution_count": 83,
      "outputs": []
    },
    {
      "cell_type": "code",
      "source": [
        "plt.plot(traindf['month'],traindf['money_transacted'])"
      ],
      "metadata": {
        "colab": {
          "base_uri": "https://localhost:8080/",
          "height": 447
        },
        "id": "QuU7gxmmoetN",
        "outputId": "ce1b6d75-3f2c-41ff-a377-d80cb4a8559b"
      },
      "execution_count": 84,
      "outputs": [
        {
          "output_type": "execute_result",
          "data": {
            "text/plain": [
              "[<matplotlib.lines.Line2D at 0x7feddd1798e0>]"
            ]
          },
          "metadata": {},
          "execution_count": 84
        },
        {
          "output_type": "display_data",
          "data": {
            "text/plain": [
              "<Figure size 640x480 with 1 Axes>"
            ],
            "image/png": "[encoded data removed]"
          },
          "metadata": {}
        }
      ]
    },
    {
      "cell_type": "markdown",
      "source": [
        "Highest Transaction was made in the month of February."
      ],
      "metadata": {
        "id": "9jCuv66XukH7"
      }
    },
    {
      "cell_type": "code",
      "source": [
        "sns.barplot(x=traindf['month'],y=traindf['money_transacted'])"
      ],
      "metadata": {
        "colab": {
          "base_uri": "https://localhost:8080/",
          "height": 466
        },
        "id": "f4Dc1pp2v9LJ",
        "outputId": "391a7c22-2cb2-40f3-dcaf-d5af3592543d"
      },
      "execution_count": 85,
      "outputs": [
        {
          "output_type": "execute_result",
          "data": {
            "text/plain": [
              "<Axes: xlabel='month', ylabel='money_transacted'>"
            ]
          },
          "metadata": {},
          "execution_count": 85
        },
        {
          "output_type": "display_data",
          "data": {
            "text/plain": [
              "<Figure size 640x480 with 1 Axes>"
            ],
            "image/png": "[encoded data removed]"
          },
          "metadata": {}
        }
      ]
    },
    {
      "cell_type": "code",
      "source": [
        "sns.barplot(x=testdf['month'],y=testdf['money_transacted'])"
      ],
      "metadata": {
        "colab": {
          "base_uri": "https://localhost:8080/",
          "height": 466
        },
        "id": "gEchwcWyw7zf",
        "outputId": "83c0a2ed-c68e-4d2b-bc26-00c5d50f15d9"
      },
      "execution_count": 86,
      "outputs": [
        {
          "output_type": "execute_result",
          "data": {
            "text/plain": [
              "<Axes: xlabel='month', ylabel='money_transacted'>"
            ]
          },
          "metadata": {},
          "execution_count": 86
        },
        {
          "output_type": "display_data",
          "data": {
            "text/plain": [
              "<Figure size 640x480 with 1 Axes>"
            ],
            "image/png": "[encoded data removed]"
          },
          "metadata": {}
        }
      ]
    },
    {
      "cell_type": "markdown",
      "source": [
        "*   Most transactions were made in the month of February for train data\n",
        "*   Highest transactions were in January for Test data\n",
        "\n",
        "\n",
        "\n"
      ],
      "metadata": {
        "id": "VWfomouoxGwQ"
      }
    },
    {
      "cell_type": "markdown",
      "source": [
        "Encoding train and test datasets"
      ],
      "metadata": {
        "id": "1cFYxzoQu7PF"
      }
    },
    {
      "cell_type": "code",
      "source": [
        "#Creating dummies\n",
        "traindf=pd.get_dummies(columns=['partner_category','payment_method','device_type'],data=traindf)"
      ],
      "metadata": {
        "id": "r68CE3nlrKVY"
      },
      "execution_count": 87,
      "outputs": []
    },
    {
      "cell_type": "code",
      "source": [
        "testdf=pd.get_dummies(columns=['partner_category','payment_method','device_type'],data=testdf)"
      ],
      "metadata": {
        "id": "tSNT5WwnveOT"
      },
      "execution_count": 88,
      "outputs": []
    },
    {
      "cell_type": "code",
      "source": [
        "traindf"
      ],
      "metadata": {
        "colab": {
          "base_uri": "https://localhost:8080/",
          "height": 488
        },
        "id": "ls830t8Uvqz5",
        "outputId": "088ddf78-2b76-47c5-bf5a-c6662ffce789"
      },
      "execution_count": 89,
      "outputs": [
        {
          "output_type": "execute_result",
          "data": {
            "text/plain": [
              "        user_id  partner_id  money_transacted  partner_pricing_category  \\\n",
              "0      17539344       47334              -5.0                         2   \n",
              "1      24710841       78890             100.0                         2   \n",
              "2      24265476       78890              50.0                         2   \n",
              "3      10240000      102557            1000.0                         2   \n",
              "4       5880625      118335             200.0                         2   \n",
              "...         ...         ...               ...                       ...   \n",
              "76524  19686969       47334            -100.0                         2   \n",
              "76525  11662225      118335             200.0                         2   \n",
              "76526    374544       47334              -3.5                         2   \n",
              "76527   1687401       47334             -20.0                         2   \n",
              "76528   6754801       47334            -100.0                         2   \n",
              "\n",
              "       is_fraud  year  month  day  partner_category_cat_1  \\\n",
              "0             0  2016     11   15                       1   \n",
              "1             0  2017      1   11                       0   \n",
              "2             0  2016     12    7                       0   \n",
              "3             0  2017      1   11                       0   \n",
              "4             0  2016     11   16                       1   \n",
              "...         ...   ...    ...  ...                     ...   \n",
              "76524         0  2016     11   30                       1   \n",
              "76525         0  2017      1    8                       1   \n",
              "76526         0  2016     12   26                       1   \n",
              "76527         0  2016     12   11                       1   \n",
              "76528         0  2017      1   11                       1   \n",
              "\n",
              "       partner_category_cat_2  ...  payment_method_e_wallet_payments  \\\n",
              "0                           0  ...                                 0   \n",
              "1                           1  ...                                 1   \n",
              "2                           1  ...                                 1   \n",
              "3                           0  ...                                 0   \n",
              "4                           0  ...                                 0   \n",
              "...                       ...  ...                               ...   \n",
              "76524                       0  ...                                 0   \n",
              "76525                       0  ...                                 0   \n",
              "76526                       0  ...                                 0   \n",
              "76527                       0  ...                                 0   \n",
              "76528                       0  ...                                 0   \n",
              "\n",
              "       payment_method_other_debit_cards  \\\n",
              "0                                     0   \n",
              "1                                     0   \n",
              "2                                     0   \n",
              "3                                     1   \n",
              "4                                     1   \n",
              "...                                 ...   \n",
              "76524                                 0   \n",
              "76525                                 0   \n",
              "76526                                 0   \n",
              "76527                                 0   \n",
              "76528                                 0   \n",
              "\n",
              "       payment_method_sbi_atm_cum_debit_card  \\\n",
              "0                                          1   \n",
              "1                                          0   \n",
              "2                                          0   \n",
              "3                                          0   \n",
              "4                                          0   \n",
              "...                                      ...   \n",
              "76524                                      1   \n",
              "76525                                      0   \n",
              "76526                                      1   \n",
              "76527                                      1   \n",
              "76528                                      1   \n",
              "\n",
              "       payment_method_unified_payments_interface  \\\n",
              "0                                              0   \n",
              "1                                              0   \n",
              "2                                              0   \n",
              "3                                              0   \n",
              "4                                              0   \n",
              "...                                          ...   \n",
              "76524                                          0   \n",
              "76525                                          0   \n",
              "76526                                          0   \n",
              "76527                                          0   \n",
              "76528                                          0   \n",
              "\n",
              "       payment_method_visa_master_credit_cards  \\\n",
              "0                                            0   \n",
              "1                                            0   \n",
              "2                                            0   \n",
              "3                                            0   \n",
              "4                                            0   \n",
              "...                                        ...   \n",
              "76524                                        0   \n",
              "76525                                        0   \n",
              "76526                                        0   \n",
              "76527                                        0   \n",
              "76528                                        0   \n",
              "\n",
              "       payment_method_visa_master_debit_cards  device_type_android_devices  \\\n",
              "0                                           0                            1   \n",
              "1                                           0                            0   \n",
              "2                                           0                            0   \n",
              "3                                           0                            0   \n",
              "4                                           0                            0   \n",
              "...                                       ...                          ...   \n",
              "76524                                       0                            1   \n",
              "76525                                       1                            0   \n",
              "76526                                       0                            1   \n",
              "76527                                       0                            1   \n",
              "76528                                       0                            1   \n",
              "\n",
              "       device_type_ios_devices  device_type_other_pcs  device_type_windows_pcs  \n",
              "0                            0                      0                        0  \n",
              "1                            0                      1                        0  \n",
              "2                            0                      1                        0  \n",
              "3                            0                      1                        0  \n",
              "4                            0                      1                        0  \n",
              "...                        ...                    ...                      ...  \n",
              "76524                        0                      0                        0  \n",
              "76525                        0                      1                        0  \n",
              "76526                        0                      0                        0  \n",
              "76527                        0                      0                        0  \n",
              "76528                        0                      0                        0  \n",
              "\n",
              "[76529 rows x 27 columns]"
            ],
            "text/html": [
              "\n",
              "  <div id=\"df-00a68ca8-c1ac-4d23-9f18-423b550269cc\">\n",
              "    <div class=\"colab-df-container\">\n",
              "      <div>\n",
              "<style scoped>\n",
              "    .dataframe tbody tr th:only-of-type {\n",
              "        vertical-align: middle;\n",
              "    }\n",
              "\n",
              "    .dataframe tbody tr th {\n",
              "        vertical-align: top;\n",
              "    }\n",
              "\n",
              "    .dataframe thead th {\n",
              "        text-align: right;\n",
              "    }\n",
              "</style>\n",
              "<table border=\"1\" class=\"dataframe\">\n",
              "  <thead>\n",
              "    <tr style=\"text-align: right;\">\n",
              "      <th></th>\n",
              "      <th>user_id</th>\n",
              "      <th>partner_id</th>\n",
              "      <th>money_transacted</th>\n",
              "      <th>partner_pricing_category</th>\n",
              "      <th>is_fraud</th>\n",
              "      <th>year</th>\n",
              "      <th>month</th>\n",
              "      <th>day</th>\n",
              "      <th>partner_category_cat_1</th>\n",
              "      <th>partner_category_cat_2</th>\n",
              "      <th>...</th>\n",
              "      <th>payment_method_e_wallet_payments</th>\n",
              "      <th>payment_method_other_debit_cards</th>\n",
              "      <th>payment_method_sbi_atm_cum_debit_card</th>\n",
              "      <th>payment_method_unified_payments_interface</th>\n",
              "      <th>payment_method_visa_master_credit_cards</th>\n",
              "      <th>payment_method_visa_master_debit_cards</th>\n",
              "      <th>device_type_android_devices</th>\n",
              "      <th>device_type_ios_devices</th>\n",
              "      <th>device_type_other_pcs</th>\n",
              "      <th>device_type_windows_pcs</th>\n",
              "    </tr>\n",
              "  </thead>\n",
              "  <tbody>\n",
              "    <tr>\n",
              "      <th>0</th>\n",
              "      <td>17539344</td>\n",
              "      <td>47334</td>\n",
              "      <td>-5.0</td>\n",
              "      <td>2</td>\n",
              "      <td>0</td>\n",
              "      <td>2016</td>\n",
              "      <td>11</td>\n",
              "      <td>15</td>\n",
              "      <td>1</td>\n",
              "      <td>0</td>\n",
              "      <td>...</td>\n",
              "      <td>0</td>\n",
              "      <td>0</td>\n",
              "      <td>1</td>\n",
              "      <td>0</td>\n",
              "      <td>0</td>\n",
              "      <td>0</td>\n",
              "      <td>1</td>\n",
              "      <td>0</td>\n",
              "      <td>0</td>\n",
              "      <td>0</td>\n",
              "    </tr>\n",
              "    <tr>\n",
              "      <th>1</th>\n",
              "      <td>24710841</td>\n",
              "      <td>78890</td>\n",
              "      <td>100.0</td>\n",
              "      <td>2</td>\n",
              "      <td>0</td>\n",
              "      <td>2017</td>\n",
              "      <td>1</td>\n",
              "      <td>11</td>\n",
              "      <td>0</td>\n",
              "      <td>1</td>\n",
              "      <td>...</td>\n",
              "      <td>1</td>\n",
              "      <td>0</td>\n",
              "      <td>0</td>\n",
              "      <td>0</td>\n",
              "      <td>0</td>\n",
              "      <td>0</td>\n",
              "      <td>0</td>\n",
              "      <td>0</td>\n",
              "      <td>1</td>\n",
              "      <td>0</td>\n",
              "    </tr>\n",
              "    <tr>\n",
              "      <th>2</th>\n",
              "      <td>24265476</td>\n",
              "      <td>78890</td>\n",
              "      <td>50.0</td>\n",
              "      <td>2</td>\n",
              "      <td>0</td>\n",
              "      <td>2016</td>\n",
              "      <td>12</td>\n",
              "      <td>7</td>\n",
              "      <td>0</td>\n",
              "      <td>1</td>\n",
              "      <td>...</td>\n",
              "      <td>1</td>\n",
              "      <td>0</td>\n",
              "      <td>0</td>\n",
              "      <td>0</td>\n",
              "      <td>0</td>\n",
              "      <td>0</td>\n",
              "      <td>0</td>\n",
              "      <td>0</td>\n",
              "      <td>1</td>\n",
              "      <td>0</td>\n",
              "    </tr>\n",
              "    <tr>\n",
              "      <th>3</th>\n",
              "      <td>10240000</td>\n",
              "      <td>102557</td>\n",
              "      <td>1000.0</td>\n",
              "      <td>2</td>\n",
              "      <td>0</td>\n",
              "      <td>2017</td>\n",
              "      <td>1</td>\n",
              "      <td>11</td>\n",
              "      <td>0</td>\n",
              "      <td>0</td>\n",
              "      <td>...</td>\n",
              "      <td>0</td>\n",
              "      <td>1</td>\n",
              "      <td>0</td>\n",
              "      <td>0</td>\n",
              "      <td>0</td>\n",
              "      <td>0</td>\n",
              "      <td>0</td>\n",
              "      <td>0</td>\n",
              "      <td>1</td>\n",
              "      <td>0</td>\n",
              "    </tr>\n",
              "    <tr>\n",
              "      <th>4</th>\n",
              "      <td>5880625</td>\n",
              "      <td>118335</td>\n",
              "      <td>200.0</td>\n",
              "      <td>2</td>\n",
              "      <td>0</td>\n",
              "      <td>2016</td>\n",
              "      <td>11</td>\n",
              "      <td>16</td>\n",
              "      <td>1</td>\n",
              "      <td>0</td>\n",
              "      <td>...</td>\n",
              "      <td>0</td>\n",
              "      <td>1</td>\n",
              "      <td>0</td>\n",
              "      <td>0</td>\n",
              "      <td>0</td>\n",
              "      <td>0</td>\n",
              "      <td>0</td>\n",
              "      <td>0</td>\n",
              "      <td>1</td>\n",
              "      <td>0</td>\n",
              "    </tr>\n",
              "    <tr>\n",
              "      <th>...</th>\n",
              "      <td>...</td>\n",
              "      <td>...</td>\n",
              "      <td>...</td>\n",
              "      <td>...</td>\n",
              "      <td>...</td>\n",
              "      <td>...</td>\n",
              "      <td>...</td>\n",
              "      <td>...</td>\n",
              "      <td>...</td>\n",
              "      <td>...</td>\n",
              "      <td>...</td>\n",
              "      <td>...</td>\n",
              "      <td>...</td>\n",
              "      <td>...</td>\n",
              "      <td>...</td>\n",
              "      <td>...</td>\n",
              "      <td>...</td>\n",
              "      <td>...</td>\n",
              "      <td>...</td>\n",
              "      <td>...</td>\n",
              "      <td>...</td>\n",
              "    </tr>\n",
              "    <tr>\n",
              "      <th>76524</th>\n",
              "      <td>19686969</td>\n",
              "      <td>47334</td>\n",
              "      <td>-100.0</td>\n",
              "      <td>2</td>\n",
              "      <td>0</td>\n",
              "      <td>2016</td>\n",
              "      <td>11</td>\n",
              "      <td>30</td>\n",
              "      <td>1</td>\n",
              "      <td>0</td>\n",
              "      <td>...</td>\n",
              "      <td>0</td>\n",
              "      <td>0</td>\n",
              "      <td>1</td>\n",
              "      <td>0</td>\n",
              "      <td>0</td>\n",
              "      <td>0</td>\n",
              "      <td>1</td>\n",
              "      <td>0</td>\n",
              "      <td>0</td>\n",
              "      <td>0</td>\n",
              "    </tr>\n",
              "    <tr>\n",
              "      <th>76525</th>\n",
              "      <td>11662225</td>\n",
              "      <td>118335</td>\n",
              "      <td>200.0</td>\n",
              "      <td>2</td>\n",
              "      <td>0</td>\n",
              "      <td>2017</td>\n",
              "      <td>1</td>\n",
              "      <td>8</td>\n",
              "      <td>1</td>\n",
              "      <td>0</td>\n",
              "      <td>...</td>\n",
              "      <td>0</td>\n",
              "      <td>0</td>\n",
              "      <td>0</td>\n",
              "      <td>0</td>\n",
              "      <td>0</td>\n",
              "      <td>1</td>\n",
              "      <td>0</td>\n",
              "      <td>0</td>\n",
              "      <td>1</td>\n",
              "      <td>0</td>\n",
              "    </tr>\n",
              "    <tr>\n",
              "      <th>76526</th>\n",
              "      <td>374544</td>\n",
              "      <td>47334</td>\n",
              "      <td>-3.5</td>\n",
              "      <td>2</td>\n",
              "      <td>0</td>\n",
              "      <td>2016</td>\n",
              "      <td>12</td>\n",
              "      <td>26</td>\n",
              "      <td>1</td>\n",
              "      <td>0</td>\n",
              "      <td>...</td>\n",
              "      <td>0</td>\n",
              "      <td>0</td>\n",
              "      <td>1</td>\n",
              "      <td>0</td>\n",
              "      <td>0</td>\n",
              "      <td>0</td>\n",
              "      <td>1</td>\n",
              "      <td>0</td>\n",
              "      <td>0</td>\n",
              "      <td>0</td>\n",
              "    </tr>\n",
              "    <tr>\n",
              "      <th>76527</th>\n",
              "      <td>1687401</td>\n",
              "      <td>47334</td>\n",
              "      <td>-20.0</td>\n",
              "      <td>2</td>\n",
              "      <td>0</td>\n",
              "      <td>2016</td>\n",
              "      <td>12</td>\n",
              "      <td>11</td>\n",
              "      <td>1</td>\n",
              "      <td>0</td>\n",
              "      <td>...</td>\n",
              "      <td>0</td>\n",
              "      <td>0</td>\n",
              "      <td>1</td>\n",
              "      <td>0</td>\n",
              "      <td>0</td>\n",
              "      <td>0</td>\n",
              "      <td>1</td>\n",
              "      <td>0</td>\n",
              "      <td>0</td>\n",
              "      <td>0</td>\n",
              "    </tr>\n",
              "    <tr>\n",
              "      <th>76528</th>\n",
              "      <td>6754801</td>\n",
              "      <td>47334</td>\n",
              "      <td>-100.0</td>\n",
              "      <td>2</td>\n",
              "      <td>0</td>\n",
              "      <td>2017</td>\n",
              "      <td>1</td>\n",
              "      <td>11</td>\n",
              "      <td>1</td>\n",
              "      <td>0</td>\n",
              "      <td>...</td>\n",
              "      <td>0</td>\n",
              "      <td>0</td>\n",
              "      <td>1</td>\n",
              "      <td>0</td>\n",
              "      <td>0</td>\n",
              "      <td>0</td>\n",
              "      <td>1</td>\n",
              "      <td>0</td>\n",
              "      <td>0</td>\n",
              "      <td>0</td>\n",
              "    </tr>\n",
              "  </tbody>\n",
              "</table>\n",
              "<p>76529 rows × 27 columns</p>\n",
              "</div>\n",
              "      <button class=\"colab-df-convert\" onclick=\"convertToInteractive('df-00a68ca8-c1ac-4d23-9f18-423b550269cc')\"\n",
              "              title=\"Convert this dataframe to an interactive table.\"\n",
              "              style=\"display:none;\">\n",
              "        \n",
              "  <svg xmlns=\"http://www.w3.org/2000/svg\" height=\"24px\"viewBox=\"0 0 24 24\"\n",
              "       width=\"24px\">\n",
              "    <path d=\"M0 0h24v24H0V0z\" fill=\"none\"/>\n",
              "    <path d=\"M18.56 5.44l.94 2.06.94-2.06 2.06-.94-2.06-.94-.94-2.06-.94 2.06-2.06.94zm-11 1L8.5 8.5l.94-2.06 2.06-.94-2.06-.94L8.5 2.5l-.94 2.06-2.06.94zm10 10l.94 2.06.94-2.06 2.06-.94-2.06-.94-.94-2.06-.94 2.06-2.06.94z\"/><path d=\"M17.41 7.96l-1.37-1.37c-.4-.4-.92-.59-1.43-.59-.52 0-1.04.2-1.43.59L10.3 9.45l-7.72 7.72c-.78.78-.78 2.05 0 2.83L4 21.41c.39.39.9.59 1.41.59.51 0 1.02-.2 1.41-.59l7.78-7.78 2.81-2.81c.8-.78.8-2.07 0-2.86zM5.41 20L4 18.59l7.72-7.72 1.47 1.35L5.41 20z\"/>\n",
              "  </svg>\n",
              "      </button>\n",
              "      \n",
              "  <style>\n",
              "    .colab-df-container {\n",
              "      display:flex;\n",
              "      flex-wrap:wrap;\n",
              "      gap: 12px;\n",
              "    }\n",
              "\n",
              "    .colab-df-convert {\n",
              "      background-color: #E8F0FE;\n",
              "      border: none;\n",
              "      border-radius: 50%;\n",
              "      cursor: pointer;\n",
              "      display: none;\n",
              "      fill: #1967D2;\n",
              "      height: 32px;\n",
              "      padding: 0 0 0 0;\n",
              "      width: 32px;\n",
              "    }\n",
              "\n",
              "    .colab-df-convert:hover {\n",
              "      background-color: #E2EBFA;\n",
              "      box-shadow: 0px 1px 2px rgba(60, 64, 67, 0.3), 0px 1px 3px 1px rgba(60, 64, 67, 0.15);\n",
              "      fill: #174EA6;\n",
              "    }\n",
              "\n",
              "    [theme=dark] .colab-df-convert {\n",
              "      background-color: #3B4455;\n",
              "      fill: #D2E3FC;\n",
              "    }\n",
              "\n",
              "    [theme=dark] .colab-df-convert:hover {\n",
              "      background-color: #434B5C;\n",
              "      box-shadow: 0px 1px 3px 1px rgba(0, 0, 0, 0.15);\n",
              "      filter: drop-shadow(0px 1px 2px rgba(0, 0, 0, 0.3));\n",
              "      fill: #FFFFFF;\n",
              "    }\n",
              "  </style>\n",
              "\n",
              "      <script>\n",
              "        const buttonEl =\n",
              "          document.querySelector('#df-00a68ca8-c1ac-4d23-9f18-423b550269cc button.colab-df-convert');\n",
              "        buttonEl.style.display =\n",
              "          google.colab.kernel.accessAllowed ? 'block' : 'none';\n",
              "\n",
              "        async function convertToInteractive(key) {\n",
              "          const element = document.querySelector('#df-00a68ca8-c1ac-4d23-9f18-423b550269cc');\n",
              "          const dataTable =\n",
              "            await google.colab.kernel.invokeFunction('convertToInteractive',\n",
              "                                                     [key], {});\n",
              "          if (!dataTable) return;\n",
              "\n",
              "          const docLinkHtml = 'Like what you see? Visit the ' +\n",
              "            '<a target=\"_blank\" href=https://colab.research.google.com/notebooks/data_table.ipynb>data table notebook</a>'\n",
              "            + ' to learn more about interactive tables.';\n",
              "          element.innerHTML = '';\n",
              "          dataTable['output_type'] = 'display_data';\n",
              "          await google.colab.output.renderOutput(dataTable, element);\n",
              "          const docLink = document.createElement('div');\n",
              "          docLink.innerHTML = docLinkHtml;\n",
              "          element.appendChild(docLink);\n",
              "        }\n",
              "      </script>\n",
              "    </div>\n",
              "  </div>\n",
              "  "
            ]
          },
          "metadata": {},
          "execution_count": 89
        }
      ]
    },
    {
      "cell_type": "markdown",
      "source": [
        "Train Test Split"
      ],
      "metadata": {
        "id": "S6eYyj6LygW7"
      }
    },
    {
      "cell_type": "code",
      "source": [
        "from sklearn.model_selection import train_test_split\n",
        "y=traindf['is_fraud']\n",
        "X=traindf.drop(['is_fraud'],axis=1)\n",
        "X_train,X_test,y_train,y_test=train_test_split(X,y,test_size=0.20,random_state=123)\n",
        "print(X_train.shape)\n",
        "print(X_test.shape)\n",
        "print(y_train.shape)\n",
        "print(y_test.shape)"
      ],
      "metadata": {
        "colab": {
          "base_uri": "https://localhost:8080/"
        },
        "id": "ey-ywaZQvtKv",
        "outputId": "f7f4b139-cdaf-41d5-bf9b-85dce4df758e"
      },
      "execution_count": 90,
      "outputs": [
        {
          "output_type": "stream",
          "name": "stdout",
          "text": [
            "(61223, 26)\n",
            "(15306, 26)\n",
            "(61223,)\n",
            "(15306,)\n"
          ]
        }
      ]
    },
    {
      "cell_type": "markdown",
      "source": [
        "Data Standardization"
      ],
      "metadata": {
        "id": "lYcwfDxfzKGy"
      }
    },
    {
      "cell_type": "code",
      "source": [
        "from sklearn.preprocessing import StandardScaler\n",
        "scaler=StandardScaler()\n",
        "X_train=scaler.fit_transform(X_train)\n",
        "X_test=scaler.transform(X_test)"
      ],
      "metadata": {
        "id": "9E-IzlGky81K"
      },
      "execution_count": 91,
      "outputs": []
    },
    {
      "cell_type": "markdown",
      "source": [
        "Model Building!"
      ],
      "metadata": {
        "id": "XjOICfj4zfcv"
      }
    },
    {
      "cell_type": "code",
      "source": [
        "#Decision Tree Classifier before smote\n",
        "from sklearn.tree import DecisionTreeClassifier\n",
        "dtc=DecisionTreeClassifier()\n",
        "model_dtc=dtc.fit(X_train,y_train)\n",
        "y_trains=model_dtc.predict(X_train)\n",
        "y_pred=model_dtc.predict(X_test)"
      ],
      "metadata": {
        "id": "U9o9AgeazUys"
      },
      "execution_count": 92,
      "outputs": []
    },
    {
      "cell_type": "code",
      "source": [
        "from sklearn import metrics\n",
        "from sklearn.metrics import recall_score, classification_report, confusion_matrix, accuracy_score\n",
        "from sklearn.metrics import precision_recall_curve , auc , f1_score"
      ],
      "metadata": {
        "id": "6faPm2wXz0Pr"
      },
      "execution_count": 93,
      "outputs": []
    },
    {
      "cell_type": "code",
      "source": [
        "print(accuracy_score(y_test, y_pred)*100)\n",
        "print(confusion_matrix(y_test, y_pred))\n",
        "print(classification_report(y_test, y_pred))\n",
        "print(classification_report(y_train, y_trains))"
      ],
      "metadata": {
        "colab": {
          "base_uri": "https://localhost:8080/"
        },
        "id": "qYMHiEtb0TN7",
        "outputId": "1e03b9d3-d005-4b5d-f971-b223baaedccf"
      },
      "execution_count": 94,
      "outputs": [
        {
          "output_type": "stream",
          "name": "stdout",
          "text": [
            "99.95426630079707\n",
            "[[15267     2]\n",
            " [    5    32]]\n",
            "              precision    recall  f1-score   support\n",
            "\n",
            "           0       1.00      1.00      1.00     15269\n",
            "           1       0.94      0.86      0.90        37\n",
            "\n",
            "    accuracy                           1.00     15306\n",
            "   macro avg       0.97      0.93      0.95     15306\n",
            "weighted avg       1.00      1.00      1.00     15306\n",
            "\n",
            "              precision    recall  f1-score   support\n",
            "\n",
            "           0       1.00      1.00      1.00     61106\n",
            "           1       1.00      0.97      0.99       117\n",
            "\n",
            "    accuracy                           1.00     61223\n",
            "   macro avg       1.00      0.99      0.99     61223\n",
            "weighted avg       1.00      1.00      1.00     61223\n",
            "\n"
          ]
        }
      ]
    },
    {
      "cell_type": "code",
      "source": [
        "#Smote\n",
        "from imblearn.over_sampling import SMOTE\n",
        "smote = SMOTE()\n",
        "X_smote, y_smote = smote.fit_resample(X_train, y_train)\n",
        "print(\"Class distribution before resampling:\", y.value_counts())\n",
        "print(\"Class distribution after resampling:\", y_smote.value_counts())"
      ],
      "metadata": {
        "colab": {
          "base_uri": "https://localhost:8080/"
        },
        "id": "TVsfNEM20ZXc",
        "outputId": "435bbdfd-0603-4147-db3a-855f8e8d596b"
      },
      "execution_count": 95,
      "outputs": [
        {
          "output_type": "stream",
          "name": "stdout",
          "text": [
            "Class distribution before resampling: 0    76375\n",
            "1      154\n",
            "Name: is_fraud, dtype: int64\n",
            "Class distribution after resampling: 0    61106\n",
            "1    61106\n",
            "Name: is_fraud, dtype: int64\n"
          ]
        }
      ]
    },
    {
      "cell_type": "code",
      "source": [
        "#Decision Tree Classifier after smote\n",
        "model_dtc=dtc.fit(X_smote,y_smote)\n",
        "y_trains=model_dtc.predict(X_smote)\n",
        "y_pred=model_dtc.predict(X_test)"
      ],
      "metadata": {
        "id": "99s9swNA08-I"
      },
      "execution_count": 96,
      "outputs": []
    },
    {
      "cell_type": "code",
      "source": [
        "print(accuracy_score(y_test, y_pred)*100)\n",
        "print(confusion_matrix(y_test, y_pred))\n",
        "print(classification_report(y_test, y_pred))\n",
        "print(classification_report(y_smote, y_trains))"
      ],
      "metadata": {
        "colab": {
          "base_uri": "https://localhost:8080/"
        },
        "id": "6PYxpcKW1Joz",
        "outputId": "04275819-8395-4f1b-eb02-eae51b555568"
      },
      "execution_count": 97,
      "outputs": [
        {
          "output_type": "stream",
          "name": "stdout",
          "text": [
            "99.90853260159415\n",
            "[[15265     4]\n",
            " [   10    27]]\n",
            "              precision    recall  f1-score   support\n",
            "\n",
            "           0       1.00      1.00      1.00     15269\n",
            "           1       0.87      0.73      0.79        37\n",
            "\n",
            "    accuracy                           1.00     15306\n",
            "   macro avg       0.94      0.86      0.90     15306\n",
            "weighted avg       1.00      1.00      1.00     15306\n",
            "\n",
            "              precision    recall  f1-score   support\n",
            "\n",
            "           0       1.00      1.00      1.00     61106\n",
            "           1       1.00      1.00      1.00     61106\n",
            "\n",
            "    accuracy                           1.00    122212\n",
            "   macro avg       1.00      1.00      1.00    122212\n",
            "weighted avg       1.00      1.00      1.00    122212\n",
            "\n"
          ]
        }
      ]
    },
    {
      "cell_type": "markdown",
      "source": [
        "GridsearchCV"
      ],
      "metadata": {
        "id": "VH5rSTYf5ePS"
      }
    },
    {
      "cell_type": "code",
      "source": [
        "param_grid = {'max_depth': [2, 4, 6, 8, 10],\n",
        "              'min_samples_split': [2, 5, 10],\n",
        "              'min_samples_leaf': [1, 2, 4],\n",
        "              'max_features': [None, 'sqrt', 'log2']}"
      ],
      "metadata": {
        "id": "FIrv7y6t1_88"
      },
      "execution_count": 98,
      "outputs": []
    },
    {
      "cell_type": "code",
      "source": [
        "from sklearn.model_selection import GridSearchCV\n",
        "grid_search = GridSearchCV(dtc, param_grid=param_grid, cv=5)\n",
        "grid_search.fit(X_smote, y_smote)\n",
        "best_params = grid_search.best_params_\n",
        "print(\"Best hyperparameters:\", grid_search.best_params_)\n",
        "print(\"Best score:\", grid_search.best_score_)\n"
      ],
      "metadata": {
        "colab": {
          "base_uri": "https://localhost:8080/"
        },
        "id": "UAgoT7Yh3G47",
        "outputId": "8dcd40a2-dfe5-4cbf-afc8-c20c04a56202"
      },
      "execution_count": 99,
      "outputs": [
        {
          "output_type": "stream",
          "name": "stdout",
          "text": [
            "Best hyperparameters: {'max_depth': 10, 'max_features': None, 'min_samples_leaf': 1, 'min_samples_split': 2}\n",
            "Best score: 0.999574511273936\n"
          ]
        }
      ]
    },
    {
      "cell_type": "code",
      "source": [
        "dtc=DecisionTreeClassifier(max_depth=best_params['max_depth'], \n",
        "                               min_samples_split=best_params['min_samples_split'],\n",
        "                               min_samples_leaf=best_params['min_samples_leaf'],\n",
        "                               max_features=best_params['max_features'])\n",
        "model_dtc=dtc.fit(X_smote,y_smote)\n",
        "y_trains=model_dtc.predict(X_smote)\n",
        "y_pred=model_dtc.predict(X_test)"
      ],
      "metadata": {
        "id": "w36-wWJI3XhK"
      },
      "execution_count": 100,
      "outputs": []
    },
    {
      "cell_type": "code",
      "source": [
        "print(accuracy_score(y_test, y_pred)*100)\n",
        "print(confusion_matrix(y_test, y_pred))\n",
        "print(classification_report(y_test, y_pred))\n",
        "print(classification_report(y_smote, y_trains))"
      ],
      "metadata": {
        "colab": {
          "base_uri": "https://localhost:8080/"
        },
        "id": "mwm68RFV4OZO",
        "outputId": "b4350af3-1c1d-4c48-a184-ed2fe10ca984"
      },
      "execution_count": 101,
      "outputs": [
        {
          "output_type": "stream",
          "name": "stdout",
          "text": [
            "99.8562655167908\n",
            "[[15255    14]\n",
            " [    8    29]]\n",
            "              precision    recall  f1-score   support\n",
            "\n",
            "           0       1.00      1.00      1.00     15269\n",
            "           1       0.67      0.78      0.72        37\n",
            "\n",
            "    accuracy                           1.00     15306\n",
            "   macro avg       0.84      0.89      0.86     15306\n",
            "weighted avg       1.00      1.00      1.00     15306\n",
            "\n",
            "              precision    recall  f1-score   support\n",
            "\n",
            "           0       1.00      1.00      1.00     61106\n",
            "           1       1.00      1.00      1.00     61106\n",
            "\n",
            "    accuracy                           1.00    122212\n",
            "   macro avg       1.00      1.00      1.00    122212\n",
            "weighted avg       1.00      1.00      1.00    122212\n",
            "\n"
          ]
        }
      ]
    },
    {
      "cell_type": "markdown",
      "source": [
        "SVC"
      ],
      "metadata": {
        "id": "3LIuaP2w5cOe"
      }
    },
    {
      "cell_type": "code",
      "source": [
        "from sklearn.svm import SVC\n",
        "svc = SVC(kernel='linear')\n",
        "svc=svc.fit(X_train,y_train)\n",
        "y_trains=svc.predict(X_train)\n",
        "y_pred=svc.predict(X_test)"
      ],
      "metadata": {
        "id": "FGi0bOiV5YNY"
      },
      "execution_count": 102,
      "outputs": []
    },
    {
      "cell_type": "code",
      "source": [
        "print(accuracy_score(y_test, y_pred)*100)\n",
        "print(confusion_matrix(y_test, y_pred))\n",
        "print(classification_report(y_test, y_pred))\n",
        "print(classification_report(y_train, y_trains))"
      ],
      "metadata": {
        "colab": {
          "base_uri": "https://localhost:8080/"
        },
        "id": "iYtS8lHa5-JN",
        "outputId": "1050bf94-a9de-4086-8179-b30304e0ec91"
      },
      "execution_count": 103,
      "outputs": [
        {
          "output_type": "stream",
          "name": "stdout",
          "text": [
            "99.77786488958579\n",
            "[[15265     4]\n",
            " [   30     7]]\n",
            "              precision    recall  f1-score   support\n",
            "\n",
            "           0       1.00      1.00      1.00     15269\n",
            "           1       0.64      0.19      0.29        37\n",
            "\n",
            "    accuracy                           1.00     15306\n",
            "   macro avg       0.82      0.59      0.65     15306\n",
            "weighted avg       1.00      1.00      1.00     15306\n",
            "\n",
            "              precision    recall  f1-score   support\n",
            "\n",
            "           0       1.00      1.00      1.00     61106\n",
            "           1       0.76      0.30      0.43       117\n",
            "\n",
            "    accuracy                           1.00     61223\n",
            "   macro avg       0.88      0.65      0.71     61223\n",
            "weighted avg       1.00      1.00      1.00     61223\n",
            "\n"
          ]
        }
      ]
    },
    {
      "cell_type": "code",
      "source": [
        "model=svc.fit(X_smote,y_smote)\n",
        "y_trains=model.predict(X_smote)\n",
        "y_pred=model.predict(X_test)"
      ],
      "metadata": {
        "id": "qaKOozJh6GOO"
      },
      "execution_count": 104,
      "outputs": []
    },
    {
      "cell_type": "code",
      "source": [
        "print(accuracy_score(y_test, y_pred)*100)\n",
        "print(confusion_matrix(y_test, y_pred))\n",
        "print(classification_report(y_test, y_pred))\n",
        "print(classification_report(y_smote, y_trains))"
      ],
      "metadata": {
        "colab": {
          "base_uri": "https://localhost:8080/"
        },
        "id": "0lFWitwK6ZGA",
        "outputId": "855a5324-5522-4646-a98b-eabeacaac3cd"
      },
      "execution_count": 105,
      "outputs": [
        {
          "output_type": "stream",
          "name": "stdout",
          "text": [
            "98.6998562655168\n",
            "[[15073   196]\n",
            " [    3    34]]\n",
            "              precision    recall  f1-score   support\n",
            "\n",
            "           0       1.00      0.99      0.99     15269\n",
            "           1       0.15      0.92      0.25        37\n",
            "\n",
            "    accuracy                           0.99     15306\n",
            "   macro avg       0.57      0.95      0.62     15306\n",
            "weighted avg       1.00      0.99      0.99     15306\n",
            "\n",
            "              precision    recall  f1-score   support\n",
            "\n",
            "           0       0.98      0.99      0.98     61106\n",
            "           1       0.99      0.98      0.98     61106\n",
            "\n",
            "    accuracy                           0.98    122212\n",
            "   macro avg       0.98      0.98      0.98    122212\n",
            "weighted avg       0.98      0.98      0.98    122212\n",
            "\n"
          ]
        }
      ]
    },
    {
      "cell_type": "markdown",
      "source": [
        "SVC performs better"
      ],
      "metadata": {
        "id": "b3XxBtAp_P3c"
      }
    },
    {
      "cell_type": "code",
      "source": [
        "scaler = StandardScaler()\n",
        "scaler.fit(testdf)\n",
        "testdf = scaler.transform(testdf)"
      ],
      "metadata": {
        "id": "y_sCd0q076Ou"
      },
      "execution_count": 106,
      "outputs": []
    },
    {
      "cell_type": "code",
      "source": [
        "test=model.predict(testdf)\n"
      ],
      "metadata": {
        "id": "C543N-qW_i-x"
      },
      "execution_count": 107,
      "outputs": []
    },
    {
      "cell_type": "code",
      "source": [
        "sample_submission = pd.read_csv(\"/content/sample_submission-1611221030305.csv\")\n",
        "sample_submission[\"is_fraud\"] = test\n",
        "sample_submission.to_csv(\"submission.csv\", index=False)"
      ],
      "metadata": {
        "id": "JxbRfdT-_sLB"
      },
      "execution_count": 108,
      "outputs": []
    },
    {
      "cell_type": "code",
      "source": [
        "pd.read_csv('submission.csv')"
      ],
      "metadata": {
        "colab": {
          "base_uri": "https://localhost:8080/",
          "height": 424
        },
        "id": "XKpUULVYAKv0",
        "outputId": "24b24f5b-acd6-448b-cd9e-df308d01ebe9"
      },
      "execution_count": 109,
      "outputs": [
        {
          "output_type": "execute_result",
          "data": {
            "text/plain": [
              "       transaction_number  is_fraud\n",
              "0         857050141038272         0\n",
              "1           4400462872603         0\n",
              "2        1207915598569499         0\n",
              "3        2009725616777536         0\n",
              "4        2319205210274863         0\n",
              "...                   ...       ...\n",
              "19128       5332775378111         0\n",
              "19129     939262915465237         0\n",
              "19130      18324574916544         0\n",
              "19131     893473728055875         0\n",
              "19132      84390778936647         0\n",
              "\n",
              "[19133 rows x 2 columns]"
            ],
            "text/html": [
              "\n",
              "  <div id=\"df-3369956b-16c0-4b18-b89e-e70f780cd0cb\">\n",
              "    <div class=\"colab-df-container\">\n",
              "      <div>\n",
              "<style scoped>\n",
              "    .dataframe tbody tr th:only-of-type {\n",
              "        vertical-align: middle;\n",
              "    }\n",
              "\n",
              "    .dataframe tbody tr th {\n",
              "        vertical-align: top;\n",
              "    }\n",
              "\n",
              "    .dataframe thead th {\n",
              "        text-align: right;\n",
              "    }\n",
              "</style>\n",
              "<table border=\"1\" class=\"dataframe\">\n",
              "  <thead>\n",
              "    <tr style=\"text-align: right;\">\n",
              "      <th></th>\n",
              "      <th>transaction_number</th>\n",
              "      <th>is_fraud</th>\n",
              "    </tr>\n",
              "  </thead>\n",
              "  <tbody>\n",
              "    <tr>\n",
              "      <th>0</th>\n",
              "      <td>857050141038272</td>\n",
              "      <td>0</td>\n",
              "    </tr>\n",
              "    <tr>\n",
              "      <th>1</th>\n",
              "      <td>4400462872603</td>\n",
              "      <td>0</td>\n",
              "    </tr>\n",
              "    <tr>\n",
              "      <th>2</th>\n",
              "      <td>1207915598569499</td>\n",
              "      <td>0</td>\n",
              "    </tr>\n",
              "    <tr>\n",
              "      <th>3</th>\n",
              "      <td>2009725616777536</td>\n",
              "      <td>0</td>\n",
              "    </tr>\n",
              "    <tr>\n",
              "      <th>4</th>\n",
              "      <td>2319205210274863</td>\n",
              "      <td>0</td>\n",
              "    </tr>\n",
              "    <tr>\n",
              "      <th>...</th>\n",
              "      <td>...</td>\n",
              "      <td>...</td>\n",
              "    </tr>\n",
              "    <tr>\n",
              "      <th>19128</th>\n",
              "      <td>5332775378111</td>\n",
              "      <td>0</td>\n",
              "    </tr>\n",
              "    <tr>\n",
              "      <th>19129</th>\n",
              "      <td>939262915465237</td>\n",
              "      <td>0</td>\n",
              "    </tr>\n",
              "    <tr>\n",
              "      <th>19130</th>\n",
              "      <td>18324574916544</td>\n",
              "      <td>0</td>\n",
              "    </tr>\n",
              "    <tr>\n",
              "      <th>19131</th>\n",
              "      <td>893473728055875</td>\n",
              "      <td>0</td>\n",
              "    </tr>\n",
              "    <tr>\n",
              "      <th>19132</th>\n",
              "      <td>84390778936647</td>\n",
              "      <td>0</td>\n",
              "    </tr>\n",
              "  </tbody>\n",
              "</table>\n",
              "<p>19133 rows × 2 columns</p>\n",
              "</div>\n",
              "      <button class=\"colab-df-convert\" onclick=\"convertToInteractive('df-3369956b-16c0-4b18-b89e-e70f780cd0cb')\"\n",
              "              title=\"Convert this dataframe to an interactive table.\"\n",
              "              style=\"display:none;\">\n",
              "        \n",
              "  <svg xmlns=\"http://www.w3.org/2000/svg\" height=\"24px\"viewBox=\"0 0 24 24\"\n",
              "       width=\"24px\">\n",
              "    <path d=\"M0 0h24v24H0V0z\" fill=\"none\"/>\n",
              "    <path d=\"M18.56 5.44l.94 2.06.94-2.06 2.06-.94-2.06-.94-.94-2.06-.94 2.06-2.06.94zm-11 1L8.5 8.5l.94-2.06 2.06-.94-2.06-.94L8.5 2.5l-.94 2.06-2.06.94zm10 10l.94 2.06.94-2.06 2.06-.94-2.06-.94-.94-2.06-.94 2.06-2.06.94z\"/><path d=\"M17.41 7.96l-1.37-1.37c-.4-.4-.92-.59-1.43-.59-.52 0-1.04.2-1.43.59L10.3 9.45l-7.72 7.72c-.78.78-.78 2.05 0 2.83L4 21.41c.39.39.9.59 1.41.59.51 0 1.02-.2 1.41-.59l7.78-7.78 2.81-2.81c.8-.78.8-2.07 0-2.86zM5.41 20L4 18.59l7.72-7.72 1.47 1.35L5.41 20z\"/>\n",
              "  </svg>\n",
              "      </button>\n",
              "      \n",
              "  <style>\n",
              "    .colab-df-container {\n",
              "      display:flex;\n",
              "      flex-wrap:wrap;\n",
              "      gap: 12px;\n",
              "    }\n",
              "\n",
              "    .colab-df-convert {\n",
              "      background-color: #E8F0FE;\n",
              "      border: none;\n",
              "      border-radius: 50%;\n",
              "      cursor: pointer;\n",
              "      display: none;\n",
              "      fill: #1967D2;\n",
              "      height: 32px;\n",
              "      padding: 0 0 0 0;\n",
              "      width: 32px;\n",
              "    }\n",
              "\n",
              "    .colab-df-convert:hover {\n",
              "      background-color: #E2EBFA;\n",
              "      box-shadow: 0px 1px 2px rgba(60, 64, 67, 0.3), 0px 1px 3px 1px rgba(60, 64, 67, 0.15);\n",
              "      fill: #174EA6;\n",
              "    }\n",
              "\n",
              "    [theme=dark] .colab-df-convert {\n",
              "      background-color: #3B4455;\n",
              "      fill: #D2E3FC;\n",
              "    }\n",
              "\n",
              "    [theme=dark] .colab-df-convert:hover {\n",
              "      background-color: #434B5C;\n",
              "      box-shadow: 0px 1px 3px 1px rgba(0, 0, 0, 0.15);\n",
              "      filter: drop-shadow(0px 1px 2px rgba(0, 0, 0, 0.3));\n",
              "      fill: #FFFFFF;\n",
              "    }\n",
              "  </style>\n",
              "\n",
              "      <script>\n",
              "        const buttonEl =\n",
              "          document.querySelector('#df-3369956b-16c0-4b18-b89e-e70f780cd0cb button.colab-df-convert');\n",
              "        buttonEl.style.display =\n",
              "          google.colab.kernel.accessAllowed ? 'block' : 'none';\n",
              "\n",
              "        async function convertToInteractive(key) {\n",
              "          const element = document.querySelector('#df-3369956b-16c0-4b18-b89e-e70f780cd0cb');\n",
              "          const dataTable =\n",
              "            await google.colab.kernel.invokeFunction('convertToInteractive',\n",
              "                                                     [key], {});\n",
              "          if (!dataTable) return;\n",
              "\n",
              "          const docLinkHtml = 'Like what you see? Visit the ' +\n",
              "            '<a target=\"_blank\" href=https://colab.research.google.com/notebooks/data_table.ipynb>data table notebook</a>'\n",
              "            + ' to learn more about interactive tables.';\n",
              "          element.innerHTML = '';\n",
              "          dataTable['output_type'] = 'display_data';\n",
              "          await google.colab.output.renderOutput(dataTable, element);\n",
              "          const docLink = document.createElement('div');\n",
              "          docLink.innerHTML = docLinkHtml;\n",
              "          element.appendChild(docLink);\n",
              "        }\n",
              "      </script>\n",
              "    </div>\n",
              "  </div>\n",
              "  "
            ]
          },
          "metadata": {},
          "execution_count": 109
        }
      ]
    },
    {
      "cell_type": "code",
      "source": [],
      "metadata": {
        "id": "6tC7Nfy1APWl"
      },
      "execution_count": null,
      "outputs": []
    }
  ]
}